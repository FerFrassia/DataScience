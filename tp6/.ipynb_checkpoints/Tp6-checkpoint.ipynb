{
 "cells": [
  {
   "cell_type": "markdown",
   "metadata": {},
   "source": [
    "# Trabajo Practico 6:\n"
   ]
  },
  {
   "cell_type": "code",
   "execution_count": 82,
   "metadata": {
    "collapsed": true
   },
   "outputs": [],
   "source": [
    "import xml.etree.ElementTree as ET\n",
    "import nltk\n",
    "from nltk.collocations import *\n",
    "import os\n",
    "import math\n",
    "import itertools\n",
    "from nltk.corpus.reader.plaintext import PlaintextCorpusReader\n",
    "from nltk.corpus import stopwords\n",
    "import scipy as sp"
   ]
  },
  {
   "cell_type": "code",
   "execution_count": 2,
   "metadata": {
    "collapsed": true
   },
   "outputs": [],
   "source": [
    "tree = ET.parse('ap.xml')\n",
    "root = tree.getroot()\n",
    "\n",
    "corpusDic = {}\n",
    "totalString = \"\"\n",
    "for doc in root:\n",
    "    docno, text = doc\n",
    "    docnum = (docno.text).replace(\" \", \"\")\n",
    "    corpusDic[docnum] = text.text\n",
    "    \n",
    "    textWithAddedSpace = text.text + \" \"\n",
    "    totalString += textWithAddedSpace"
   ]
  },
  {
   "cell_type": "markdown",
   "metadata": {},
   "source": [
    "## 1.1) Levantar el corpus AP, separando cada noticia como un elemento distinto\n",
    "en un diccionario (<DOCNO> : <TEXT>)."
   ]
  },
  {
   "cell_type": "code",
   "execution_count": 3,
   "metadata": {
    "collapsed": true
   },
   "outputs": [],
   "source": [
    "vocabulario = {}\n",
    "stringsNoDeseados = [',', '.', \"''\", \"'\", \"!\",';',':', '``', \"__\", '@', '|', '...', '(', ')', '{', '}']\n",
    "for key in corpusDic.keys():\n",
    "    tokens = nltk.word_tokenize(corpusDic[key])\n",
    "    \n",
    "    for word in tokens:\n",
    "        if word not in stringsNoDeseados:\n",
    "            if word in vocabulario:\n",
    "                vocabulario[word] += 1\n",
    "            else:\n",
    "                vocabulario[word] = 1\n",
    "                "
   ]
  },
  {
   "cell_type": "code",
   "execution_count": 17,
   "metadata": {},
   "outputs": [
    {
     "name": "stdout",
     "output_type": "stream",
     "text": [
      "A\n",
      "16-year-old\n",
      "student\n",
      "at\n",
      "a\n",
      "private\n",
      "Baptist\n",
      "school\n",
      "who\n",
      "allegedly\n"
     ]
    }
   ],
   "source": [
    "vtokens = nltk.word_tokenize(totalString)\n",
    "for i in range(10):\n",
    "    print(vtokens[i])"
   ]
  },
  {
   "cell_type": "markdown",
   "metadata": {},
   "source": [
    "## 1.2) Calcular el tamaño del vocabulario. "
   ]
  },
  {
   "cell_type": "code",
   "execution_count": 4,
   "metadata": {},
   "outputs": [
    {
     "name": "stdout",
     "output_type": "stream",
     "text": [
      "tamaño del vocabulario:  47454\n"
     ]
    }
   ],
   "source": [
    "print(\"tamaño del vocabulario: \", len(vocabulario.keys()))"
   ]
  },
  {
   "cell_type": "markdown",
   "metadata": {},
   "source": [
    "## 1.3) Para las 500 palabras con más apariciones, calcular el par más asociado según la medida presentada."
   ]
  },
  {
   "cell_type": "code",
   "execution_count": 5,
   "metadata": {
    "collapsed": true
   },
   "outputs": [],
   "source": [
    "mostRepeated500 = [word for word in sorted(vocabulario, key=vocabulario.get, reverse=True)][0:501]"
   ]
  },
  {
   "cell_type": "code",
   "execution_count": 18,
   "metadata": {
    "collapsed": true
   },
   "outputs": [],
   "source": [
    "bigram_measures_class = nltk.collocations.BigramAssocMeasures\n",
    "\n",
    "#esto hace los bigramas de todas las palabras en el texto\n",
    "finder = nltk.collocations.BigramCollocationFinder.from_words(vtokens,window_size=5)\n"
   ]
  },
  {
   "cell_type": "code",
   "execution_count": 19,
   "metadata": {},
   "outputs": [
    {
     "data": {
      "text/plain": [
       "[(\"'LL\", 'WALK'),\n",
       " (\"'Til\", 'Becomes'),\n",
       " (\"'Til\", 'Tear'),\n",
       " ('-547,000', 'sundry'),\n",
       " ('-Bgistratwissmou', 'criminalp`ummo'),\n",
       " ('-Los', 'Angeles-Tokyo'),\n",
       " ('-More', 'armor-piercing'),\n",
       " ('-Patrick', 'Kieran'),\n",
       " ('.04', '158.89'),\n",
       " ('.07', '.13'),\n",
       " ('.09', '361.08'),\n",
       " ('.11', '193.44'),\n",
       " ('.26', '195.59'),\n",
       " ('.36', '147.51'),\n",
       " ('.41', '304.54'),\n",
       " ('.43', '270.16'),\n",
       " ('.44', 'Magnums'),\n",
       " ('.51', '296.06'),\n",
       " ('.61', '66.18'),\n",
       " ('.62', '156.79'),\n",
       " ('.63', '298.34'),\n",
       " ('.64', '310.11'),\n",
       " ('.67', '75.24'),\n",
       " ('.68', '1.58'),\n",
       " ('.79', '355.54'),\n",
       " ('.89', '2,132.11'),\n",
       " ('.93', '184.04'),\n",
       " ('0.01', '155.36'),\n",
       " ('0.02', '1,878.9'),\n",
       " ('0.027', '0.109')]"
      ]
     },
     "execution_count": 19,
     "metadata": {},
     "output_type": "execute_result"
    }
   ],
   "source": [
    "sorted(finder.nbest(bigram_measures_class.pmi, 30))\n",
    "#finder.score_ngram(bigram_measures_class.pmi, '3', '/') "
   ]
  },
  {
   "cell_type": "code",
   "execution_count": 30,
   "metadata": {},
   "outputs": [
    {
     "data": {
      "text/plain": [
       "[(('South', 'Africa'), 8.652361975378483),\n",
       " (('interest', 'rates'), 8.532893251786337),\n",
       " (('news', 'conference'), 8.244661043385566),\n",
       " (('New', 'York'), 8.062812652158431),\n",
       " (('United', 'States'), 8.06188036051849),\n",
       " (('West', 'German'), 7.983531966464916),\n",
       " (('East', 'Germany'), 7.762227820171429),\n",
       " (('West', 'Germany'), 7.738697068761287),\n",
       " (('Soviet', 'Union'), 7.614216942440752),\n",
       " (('told', 'reporters'), 7.557934639238603)]"
      ]
     },
     "execution_count": 30,
     "metadata": {},
     "output_type": "execute_result"
    }
   ],
   "source": [
    "#para mi esto esta mal xq te hace los bigramas entre las palabras de mosrRepeated500.\n",
    "\n",
    "scores = {}\n",
    "for word_1, word_2 in itertools.combinations(mostRepeated500, 2):\n",
    "    score = finder.score_ngram(bigram_measures_class.pmi, word_1, word_2) \n",
    "    # FALTA HACER EL APPEND!! EL IF ES EL PROBLEMA!!\n",
    "    scores[(word_1, word_2)] = score if score is not None else float('-inf')\n",
    "\n",
    "aux = sorted(scores, key=scores.get, reverse=True)\n",
    "[(au, scores[au]) for au in aux[:10]]"
   ]
  },
  {
   "cell_type": "markdown",
   "metadata": {},
   "source": [
    "## 2.1) Procesar el texto, tokenizando eliminando signos de puntuación.\n"
   ]
  },
  {
   "cell_type": "code",
   "execution_count": 71,
   "metadata": {
    "collapsed": true
   },
   "outputs": [],
   "source": [
    "texto = open(\"Darwin.txt\",\"r\").read()\n",
    "tokenizer = nltk.tokenize.TreebankWordTokenizer()\n",
    "tokens = nltk.word_tokenize(texto)\n",
    "stopset = set(stopwords.words('english'))\n",
    "\n",
    "tokens = [w for w in tokens if (not w in stopset and not w in stringsNoDeseados)]"
   ]
  },
  {
   "cell_type": "markdown",
   "metadata": {
    "collapsed": true
   },
   "source": [
    "## 2.2) Siguiendo el artı́culo de la sección, calcular la autocorrelación para estimar la distribución de la palabra a lo largo del texto.\n"
   ]
  },
  {
   "cell_type": "code",
   "execution_count": 94,
   "metadata": {},
   "outputs": [
    {
     "name": "stdout",
     "output_type": "stream",
     "text": [
      "plants\n",
      "[<scipy.stats._distn_infrastructure.rv_frozen object at 0x7f9111c23400>, <scipy.stats._distn_infrastructure.rv_frozen object at 0x7f911af359e8>, <scipy.stats._distn_infrastructure.rv_frozen object at 0x7f911c0b2780>, <scipy.stats._distn_infrastructure.rv_frozen object at 0x7f91064054e0>, <scipy.stats._distn_infrastructure.rv_frozen object at 0x7f910e3e56d8>, <scipy.stats._distn_infrastructure.rv_frozen object at 0x7f911be337f0>, <scipy.stats._distn_infrastructure.rv_frozen object at 0x7f90ff80c3c8>, <scipy.stats._distn_infrastructure.rv_frozen object at 0x7f9117e54f28>, <scipy.stats._distn_infrastructure.rv_frozen object at 0x7f90f7d05828>, <scipy.stats._distn_infrastructure.rv_frozen object at 0x7f9117adeef0>, <scipy.stats._distn_infrastructure.rv_frozen object at 0x7f910d245780>, <scipy.stats._distn_infrastructure.rv_frozen object at 0x7f90f51b4860>, <scipy.stats._distn_infrastructure.rv_frozen object at 0x7f90f62d54e0>, <scipy.stats._distn_infrastructure.rv_frozen object at 0x7f9110c148d0>, <scipy.stats._distn_infrastructure.rv_frozen object at 0x7f9110aab710>, <scipy.stats._distn_infrastructure.rv_frozen object at 0x7f9111c0beb8>, <scipy.stats._distn_infrastructure.rv_frozen object at 0x7f9112ac7cf8>, <scipy.stats._distn_infrastructure.rv_frozen object at 0x7f9117e4f898>, <scipy.stats._distn_infrastructure.rv_frozen object at 0x7f90f902ceb8>, <scipy.stats._distn_infrastructure.rv_frozen object at 0x7f9117d28358>, <scipy.stats._distn_infrastructure.rv_frozen object at 0x7f9110aaa748>, <scipy.stats._distn_infrastructure.rv_frozen object at 0x7f90fe7d0ac8>, <scipy.stats._distn_infrastructure.rv_frozen object at 0x7f9110ac1710>, <scipy.stats._distn_infrastructure.rv_frozen object at 0x7f9123b60400>, <scipy.stats._distn_infrastructure.rv_frozen object at 0x7f91172756d8>, <scipy.stats._distn_infrastructure.rv_frozen object at 0x7f90f5e10898>, <scipy.stats._distn_infrastructure.rv_frozen object at 0x7f911650db00>, <scipy.stats._distn_infrastructure.rv_frozen object at 0x7f9111639668>, <scipy.stats._distn_infrastructure.rv_frozen object at 0x7f91172b5240>, <scipy.stats._distn_infrastructure.rv_frozen object at 0x7f911751f2b0>, <scipy.stats._distn_infrastructure.rv_frozen object at 0x7f90f72f4f98>, <scipy.stats._distn_infrastructure.rv_frozen object at 0x7f90f57a07b8>, <scipy.stats._distn_infrastructure.rv_frozen object at 0x7f910767cfd0>, <scipy.stats._distn_infrastructure.rv_frozen object at 0x7f9116871240>, <scipy.stats._distn_infrastructure.rv_frozen object at 0x7f911c12e7f0>, <scipy.stats._distn_infrastructure.rv_frozen object at 0x7f91121f42e8>, <scipy.stats._distn_infrastructure.rv_frozen object at 0x7f911b6ca9b0>, <scipy.stats._distn_infrastructure.rv_frozen object at 0x7f911b6cad68>, <scipy.stats._distn_infrastructure.rv_frozen object at 0x7f911b6ca860>, <scipy.stats._distn_infrastructure.rv_frozen object at 0x7f91121f47b8>, <scipy.stats._distn_infrastructure.rv_frozen object at 0x7f911b6cab38>, <scipy.stats._distn_infrastructure.rv_frozen object at 0x7f911bf0c160>, <scipy.stats._distn_infrastructure.rv_frozen object at 0x7f911384d400>, <scipy.stats._distn_infrastructure.rv_frozen object at 0x7f91115d7b00>, <scipy.stats._distn_infrastructure.rv_frozen object at 0x7f9106d52e48>, <scipy.stats._distn_infrastructure.rv_frozen object at 0x7f90fecde5c0>, <scipy.stats._distn_infrastructure.rv_frozen object at 0x7f9104d5d898>, <scipy.stats._distn_infrastructure.rv_frozen object at 0x7f90f4e64860>, <scipy.stats._distn_infrastructure.rv_frozen object at 0x7f90f6e9f470>, <scipy.stats._distn_infrastructure.rv_frozen object at 0x7f911ab3e128>, <scipy.stats._distn_infrastructure.rv_frozen object at 0x7f910e460668>, <scipy.stats._distn_infrastructure.rv_frozen object at 0x7f91139aa3c8>, <scipy.stats._distn_infrastructure.rv_frozen object at 0x7f910f25e5f8>, <scipy.stats._distn_infrastructure.rv_frozen object at 0x7f90ff15f390>, <scipy.stats._distn_infrastructure.rv_frozen object at 0x7f911b588080>, <scipy.stats._distn_infrastructure.rv_frozen object at 0x7f90faa29898>, <scipy.stats._distn_infrastructure.rv_frozen object at 0x7f90ff34ca20>, <scipy.stats._distn_infrastructure.rv_frozen object at 0x7f911be42630>, <scipy.stats._distn_infrastructure.rv_frozen object at 0x7f90ff6e4ef0>, <scipy.stats._distn_infrastructure.rv_frozen object at 0x7f9104946748>, <scipy.stats._distn_infrastructure.rv_frozen object at 0x7f9123bddbe0>, <scipy.stats._distn_infrastructure.rv_frozen object at 0x7f911c050630>, <scipy.stats._distn_infrastructure.rv_frozen object at 0x7f911bef92e8>, <scipy.stats._distn_infrastructure.rv_frozen object at 0x7f91103ada90>, <scipy.stats._distn_infrastructure.rv_frozen object at 0x7f90f3c786d8>, <scipy.stats._distn_infrastructure.rv_frozen object at 0x7f91180b5b38>, <scipy.stats._distn_infrastructure.rv_frozen object at 0x7f9113625c50>, <scipy.stats._distn_infrastructure.rv_frozen object at 0x7f9104e9cac8>, <scipy.stats._distn_infrastructure.rv_frozen object at 0x7f910f90d6d8>, <scipy.stats._distn_infrastructure.rv_frozen object at 0x7f910fb48a58>, <scipy.stats._distn_infrastructure.rv_frozen object at 0x7f91124637b8>, <scipy.stats._distn_infrastructure.rv_frozen object at 0x7f90f4ca9320>, <scipy.stats._distn_infrastructure.rv_frozen object at 0x7f90fc91a4e0>, <scipy.stats._distn_infrastructure.rv_frozen object at 0x7f91143b3978>, <scipy.stats._distn_infrastructure.rv_frozen object at 0x7f911c08fd30>, <scipy.stats._distn_infrastructure.rv_frozen object at 0x7f911c1acd68>, <scipy.stats._distn_infrastructure.rv_frozen object at 0x7f90f898c128>, <scipy.stats._distn_infrastructure.rv_frozen object at 0x7f9106fd66a0>, <scipy.stats._distn_infrastructure.rv_frozen object at 0x7f910400a208>, <scipy.stats._distn_infrastructure.rv_frozen object at 0x7f9112363588>, <scipy.stats._distn_infrastructure.rv_frozen object at 0x7f91188153c8>, <scipy.stats._distn_infrastructure.rv_frozen object at 0x7f911aeb1c50>, <scipy.stats._distn_infrastructure.rv_frozen object at 0x7f90f79f2668>, <scipy.stats._distn_infrastructure.rv_frozen object at 0x7f910e845780>, <scipy.stats._distn_infrastructure.rv_frozen object at 0x7f910fd99048>, <scipy.stats._distn_infrastructure.rv_frozen object at 0x7f90f710b400>, <scipy.stats._distn_infrastructure.rv_frozen object at 0x7f91127ec5c0>, <scipy.stats._distn_infrastructure.rv_frozen object at 0x7f90ffca8080>, <scipy.stats._distn_infrastructure.rv_frozen object at 0x7f90fd8e3978>, <scipy.stats._distn_infrastructure.rv_frozen object at 0x7f911595e2b0>, <scipy.stats._distn_infrastructure.rv_frozen object at 0x7f911bfae588>, <scipy.stats._distn_infrastructure.rv_frozen object at 0x7f90fc7186d8>, <scipy.stats._distn_infrastructure.rv_frozen object at 0x7f90ffc4ab70>, <scipy.stats._distn_infrastructure.rv_frozen object at 0x7f9104496588>, <scipy.stats._distn_infrastructure.rv_frozen object at 0x7f90f457a080>, <scipy.stats._distn_infrastructure.rv_frozen object at 0x7f90f718e3c8>, <scipy.stats._distn_infrastructure.rv_frozen object at 0x7f91118be5c0>, <scipy.stats._distn_infrastructure.rv_frozen object at 0x7f911747b240>, <scipy.stats._distn_infrastructure.rv_frozen object at 0x7f910f48c470>, <scipy.stats._distn_infrastructure.rv_frozen object at 0x7f9112bcd0b8>, <scipy.stats._distn_infrastructure.rv_frozen object at 0x7f9104b40828>, <scipy.stats._distn_infrastructure.rv_frozen object at 0x7f90f9e99ac8>, <scipy.stats._distn_infrastructure.rv_frozen object at 0x7f90f7d40e10>, <scipy.stats._distn_infrastructure.rv_frozen object at 0x7f910eeb1160>, <scipy.stats._distn_infrastructure.rv_frozen object at 0x7f90fd3251d0>, <scipy.stats._distn_infrastructure.rv_frozen object at 0x7f9117170f98>, <scipy.stats._distn_infrastructure.rv_frozen object at 0x7f911bf94a58>, <scipy.stats._distn_infrastructure.rv_frozen object at 0x7f90f65d06a0>, <scipy.stats._distn_infrastructure.rv_frozen object at 0x7f90fbfd2160>, <scipy.stats._distn_infrastructure.rv_frozen object at 0x7f9106b49358>, <scipy.stats._distn_infrastructure.rv_frozen object at 0x7f90f4710da0>, <scipy.stats._distn_infrastructure.rv_frozen object at 0x7f9105e3b908>, <scipy.stats._distn_infrastructure.rv_frozen object at 0x7f91195e1630>, <scipy.stats._distn_infrastructure.rv_frozen object at 0x7f910dfb2f28>, <scipy.stats._distn_infrastructure.rv_frozen object at 0x7f90fcd33b70>, <scipy.stats._distn_infrastructure.rv_frozen object at 0x7f90fe16cf60>, <scipy.stats._distn_infrastructure.rv_frozen object at 0x7f90f5676550>, <scipy.stats._distn_infrastructure.rv_frozen object at 0x7f90fa9ca208>, <scipy.stats._distn_infrastructure.rv_frozen object at 0x7f90fd67e518>, <scipy.stats._distn_infrastructure.rv_frozen object at 0x7f91156d9fd0>, <scipy.stats._distn_infrastructure.rv_frozen object at 0x7f911c048438>, <scipy.stats._distn_infrastructure.rv_frozen object at 0x7f911aa34048>, <scipy.stats._distn_infrastructure.rv_frozen object at 0x7f910f11d358>, <scipy.stats._distn_infrastructure.rv_frozen object at 0x7f9119dee048>, <scipy.stats._distn_infrastructure.rv_frozen object at 0x7f9117532a90>, <scipy.stats._distn_infrastructure.rv_frozen object at 0x7f90fffec048>, <scipy.stats._distn_infrastructure.rv_frozen object at 0x7f911305b278>, <scipy.stats._distn_infrastructure.rv_frozen object at 0x7f91158832b0>, <scipy.stats._distn_infrastructure.rv_frozen object at 0x7f91144042b0>, <scipy.stats._distn_infrastructure.rv_frozen object at 0x7f9110cd70f0>, <scipy.stats._distn_infrastructure.rv_frozen object at 0x7f90f6a3bf60>, <scipy.stats._distn_infrastructure.rv_frozen object at 0x7f90f95cb198>, <scipy.stats._distn_infrastructure.rv_frozen object at 0x7f910e0e9908>, <scipy.stats._distn_infrastructure.rv_frozen object at 0x7f9110495438>, <scipy.stats._distn_infrastructure.rv_frozen object at 0x7f9115a83978>, <scipy.stats._distn_infrastructure.rv_frozen object at 0x7f9110db52e8>, <scipy.stats._distn_infrastructure.rv_frozen object at 0x7f90f5de7f28>, <scipy.stats._distn_infrastructure.rv_frozen object at 0x7f90fb057f98>, <scipy.stats._distn_infrastructure.rv_frozen object at 0x7f911675f828>, <scipy.stats._distn_infrastructure.rv_frozen object at 0x7f911c09a240>, <scipy.stats._distn_infrastructure.rv_frozen object at 0x7f911c197400>, <scipy.stats._distn_infrastructure.rv_frozen object at 0x7f911188f400>, <scipy.stats._distn_infrastructure.rv_frozen object at 0x7f91069620f0>, <scipy.stats._distn_infrastructure.rv_frozen object at 0x7f90f5066710>, <scipy.stats._distn_infrastructure.rv_frozen object at 0x7f91100f5cc0>, <scipy.stats._distn_infrastructure.rv_frozen object at 0x7f911027d358>, <scipy.stats._distn_infrastructure.rv_frozen object at 0x7f9110392ba8>, <scipy.stats._distn_infrastructure.rv_frozen object at 0x7f90fa6f3ac8>, <scipy.stats._distn_infrastructure.rv_frozen object at 0x7f910e77ac50>, <scipy.stats._distn_infrastructure.rv_frozen object at 0x7f911b0e5da0>, <scipy.stats._distn_infrastructure.rv_frozen object at 0x7f90fd42e4a8>, <scipy.stats._distn_infrastructure.rv_frozen object at 0x7f9107855160>, <scipy.stats._distn_infrastructure.rv_frozen object at 0x7f9119e4d390>, <scipy.stats._distn_infrastructure.rv_frozen object at 0x7f90ffc895f8>, <scipy.stats._distn_infrastructure.rv_frozen object at 0x7f9107afb438>, <scipy.stats._distn_infrastructure.rv_frozen object at 0x7f9111895898>, <scipy.stats._distn_infrastructure.rv_frozen object at 0x7f90fb0e5080>, <scipy.stats._distn_infrastructure.rv_frozen object at 0x7f90fb6cf7b8>, <scipy.stats._distn_infrastructure.rv_frozen object at 0x7f90f68c16d8>, <scipy.stats._distn_infrastructure.rv_frozen object at 0x7f911c12ceb8>, <scipy.stats._distn_infrastructure.rv_frozen object at 0x7f90f581d588>, <scipy.stats._distn_infrastructure.rv_frozen object at 0x7f90fbe04860>, <scipy.stats._distn_infrastructure.rv_frozen object at 0x7f910c9a6048>, <scipy.stats._distn_infrastructure.rv_frozen object at 0x7f910fde86a0>, <scipy.stats._distn_infrastructure.rv_frozen object at 0x7f911be965c0>, <scipy.stats._distn_infrastructure.rv_frozen object at 0x7f910e445cc0>, <scipy.stats._distn_infrastructure.rv_frozen object at 0x7f9112304b38>, <scipy.stats._distn_infrastructure.rv_frozen object at 0x7f9110e04be0>, <scipy.stats._distn_infrastructure.rv_frozen object at 0x7f9111254ef0>, <scipy.stats._distn_infrastructure.rv_frozen object at 0x7f910eb91898>, <scipy.stats._distn_infrastructure.rv_frozen object at 0x7f91058fca58>, <scipy.stats._distn_infrastructure.rv_frozen object at 0x7f910d4c41d0>, <scipy.stats._distn_infrastructure.rv_frozen object at 0x7f90fd51bda0>, <scipy.stats._distn_infrastructure.rv_frozen object at 0x7f9117a79b38>, <scipy.stats._distn_infrastructure.rv_frozen object at 0x7f9114af6dd8>, <scipy.stats._distn_infrastructure.rv_frozen object at 0x7f9115e3bc50>, <scipy.stats._distn_infrastructure.rv_frozen object at 0x7f910e5c9ba8>, <scipy.stats._distn_infrastructure.rv_frozen object at 0x7f90f3fdfd68>, <scipy.stats._distn_infrastructure.rv_frozen object at 0x7f9104548a58>, <scipy.stats._distn_infrastructure.rv_frozen object at 0x7f91101867b8>, <scipy.stats._distn_infrastructure.rv_frozen object at 0x7f91171b4438>, <scipy.stats._distn_infrastructure.rv_frozen object at 0x7f9123c281d0>, <scipy.stats._distn_infrastructure.rv_frozen object at 0x7f91131ba630>, <scipy.stats._distn_infrastructure.rv_frozen object at 0x7f90fa1f9a20>, <scipy.stats._distn_infrastructure.rv_frozen object at 0x7f9118f4cf28>, <scipy.stats._distn_infrastructure.rv_frozen object at 0x7f90fefe2fd0>, <scipy.stats._distn_infrastructure.rv_frozen object at 0x7f9110558438>, <scipy.stats._distn_infrastructure.rv_frozen object at 0x7f911bedb2b0>, <scipy.stats._distn_infrastructure.rv_frozen object at 0x7f911bf41a20>, <scipy.stats._distn_infrastructure.rv_frozen object at 0x7f911c161470>, <scipy.stats._distn_infrastructure.rv_frozen object at 0x7f911c020cf8>, <scipy.stats._distn_infrastructure.rv_frozen object at 0x7f9112921fd0>, <scipy.stats._distn_infrastructure.rv_frozen object at 0x7f91143f1b00>, <scipy.stats._distn_infrastructure.rv_frozen object at 0x7f9119eb9550>, <scipy.stats._distn_infrastructure.rv_frozen object at 0x7f911474bdd8>, <scipy.stats._distn_infrastructure.rv_frozen object at 0x7f910e8c7860>, <scipy.stats._distn_infrastructure.rv_frozen object at 0x7f90f88dde10>, <scipy.stats._distn_infrastructure.rv_frozen object at 0x7f91110e5550>, <scipy.stats._distn_infrastructure.rv_frozen object at 0x7f9110245a58>, <scipy.stats._distn_infrastructure.rv_frozen object at 0x7f9113e14128>, <scipy.stats._distn_infrastructure.rv_frozen object at 0x7f911be5c198>, <scipy.stats._distn_infrastructure.rv_frozen object at 0x7f90f9006860>, <scipy.stats._distn_infrastructure.rv_frozen object at 0x7f9117629208>, <scipy.stats._distn_infrastructure.rv_frozen object at 0x7f90f6bf0c88>, <scipy.stats._distn_infrastructure.rv_frozen object at 0x7f91104c9b00>, <scipy.stats._distn_infrastructure.rv_frozen object at 0x7f90f8355160>, <scipy.stats._distn_infrastructure.rv_frozen object at 0x7f90fb0df9b0>, <scipy.stats._distn_infrastructure.rv_frozen object at 0x7f910ee846a0>, <scipy.stats._distn_infrastructure.rv_frozen object at 0x7f91115dc780>, <scipy.stats._distn_infrastructure.rv_frozen object at 0x7f911c1589e8>, <scipy.stats._distn_infrastructure.rv_frozen object at 0x7f9112abc5f8>, <scipy.stats._distn_infrastructure.rv_frozen object at 0x7f911ac880f0>, <scipy.stats._distn_infrastructure.rv_frozen object at 0x7f90fad7efd0>, <scipy.stats._distn_infrastructure.rv_frozen object at 0x7f90f7a7db70>, <scipy.stats._distn_infrastructure.rv_frozen object at 0x7f90fa26d208>, <scipy.stats._distn_infrastructure.rv_frozen object at 0x7f9111869a58>, <scipy.stats._distn_infrastructure.rv_frozen object at 0x7f910d96b898>, <scipy.stats._distn_infrastructure.rv_frozen object at 0x7f911073d710>, <scipy.stats._distn_infrastructure.rv_frozen object at 0x7f910ebb1400>, <scipy.stats._distn_infrastructure.rv_frozen object at 0x7f9105297e10>, <scipy.stats._distn_infrastructure.rv_frozen object at 0x7f90fa1cac50>, <scipy.stats._distn_infrastructure.rv_frozen object at 0x7f9119108d30>, <scipy.stats._distn_infrastructure.rv_frozen object at 0x7f9119871588>, <scipy.stats._distn_infrastructure.rv_frozen object at 0x7f90f95a2d68>, <scipy.stats._distn_infrastructure.rv_frozen object at 0x7f910ed72668>, <scipy.stats._distn_infrastructure.rv_frozen object at 0x7f90f592ca90>, <scipy.stats._distn_infrastructure.rv_frozen object at 0x7f910f1ac668>, <scipy.stats._distn_infrastructure.rv_frozen object at 0x7f910cd73da0>, <scipy.stats._distn_infrastructure.rv_frozen object at 0x7f91104b62e8>, <scipy.stats._distn_infrastructure.rv_frozen object at 0x7f911a649208>, <scipy.stats._distn_infrastructure.rv_frozen object at 0x7f90fab02630>, <scipy.stats._distn_infrastructure.rv_frozen object at 0x7f9114ca24e0>, <scipy.stats._distn_infrastructure.rv_frozen object at 0x7f90fae25a90>, <scipy.stats._distn_infrastructure.rv_frozen object at 0x7f90fdd88da0>, <scipy.stats._distn_infrastructure.rv_frozen object at 0x7f910f68fc50>, <scipy.stats._distn_infrastructure.rv_frozen object at 0x7f910f25f7b8>, <scipy.stats._distn_infrastructure.rv_frozen object at 0x7f90fb1a7a20>, <scipy.stats._distn_infrastructure.rv_frozen object at 0x7f9107be0550>, <scipy.stats._distn_infrastructure.rv_frozen object at 0x7f9113b46208>, <scipy.stats._distn_infrastructure.rv_frozen object at 0x7f90f6db6b38>, <scipy.stats._distn_infrastructure.rv_frozen object at 0x7f911c1c7748>, <scipy.stats._distn_infrastructure.rv_frozen object at 0x7f90f9e1f5f8>, <scipy.stats._distn_infrastructure.rv_frozen object at 0x7f910f62cdd8>, <scipy.stats._distn_infrastructure.rv_frozen object at 0x7f90f660e048>, <scipy.stats._distn_infrastructure.rv_frozen object at 0x7f90f4bcbf60>, <scipy.stats._distn_infrastructure.rv_frozen object at 0x7f910d582c88>, <scipy.stats._distn_infrastructure.rv_frozen object at 0x7f91147b8470>, <scipy.stats._distn_infrastructure.rv_frozen object at 0x7f9123ba0a58>, <scipy.stats._distn_infrastructure.rv_frozen object at 0x7f910e5140f0>, <scipy.stats._distn_infrastructure.rv_frozen object at 0x7f911bee6da0>, <scipy.stats._distn_infrastructure.rv_frozen object at 0x7f91154bd2b0>, <scipy.stats._distn_infrastructure.rv_frozen object at 0x7f90f5be7e48>, <scipy.stats._distn_infrastructure.rv_frozen object at 0x7f911c021278>, <scipy.stats._distn_infrastructure.rv_frozen object at 0x7f9123b6bb00>, <scipy.stats._distn_infrastructure.rv_frozen object at 0x7f91042101d0>, <scipy.stats._distn_infrastructure.rv_frozen object at 0x7f9114ca9400>, <scipy.stats._distn_infrastructure.rv_frozen object at 0x7f911479e6a0>, <scipy.stats._distn_infrastructure.rv_frozen object at 0x7f9116e94dd8>, <scipy.stats._distn_infrastructure.rv_frozen object at 0x7f910d38f320>, <scipy.stats._distn_infrastructure.rv_frozen object at 0x7f910e4347f0>, <scipy.stats._distn_infrastructure.rv_frozen object at 0x7f9110d9cf98>, <scipy.stats._distn_infrastructure.rv_frozen object at 0x7f9123c1c588>, <scipy.stats._distn_infrastructure.rv_frozen object at 0x7f911b97c828>, <scipy.stats._distn_infrastructure.rv_frozen object at 0x7f90f7927240>, <scipy.stats._distn_infrastructure.rv_frozen object at 0x7f9106f842e8>, <scipy.stats._distn_infrastructure.rv_frozen object at 0x7f9123bba3c8>, <scipy.stats._distn_infrastructure.rv_frozen object at 0x7f90f61a1a90>, <scipy.stats._distn_infrastructure.rv_frozen object at 0x7f90f61c0c88>, <scipy.stats._distn_infrastructure.rv_frozen object at 0x7f91104c5710>, <scipy.stats._distn_infrastructure.rv_frozen object at 0x7f911c13cf60>, <scipy.stats._distn_infrastructure.rv_frozen object at 0x7f911bf16278>, <scipy.stats._distn_infrastructure.rv_frozen object at 0x7f91070ee630>, <scipy.stats._distn_infrastructure.rv_frozen object at 0x7f911b8b4c18>, <scipy.stats._distn_infrastructure.rv_frozen object at 0x7f90f7f7d828>, <scipy.stats._distn_infrastructure.rv_frozen object at 0x7f910f5583c8>, <scipy.stats._distn_infrastructure.rv_frozen object at 0x7f910fa0f940>, <scipy.stats._distn_infrastructure.rv_frozen object at 0x7f911bfda6a0>, <scipy.stats._distn_infrastructure.rv_frozen object at 0x7f910fa2cd68>, <scipy.stats._distn_infrastructure.rv_frozen object at 0x7f9105235198>, <scipy.stats._distn_infrastructure.rv_frozen object at 0x7f910486ddd8>, <scipy.stats._distn_infrastructure.rv_frozen object at 0x7f90f4dc6d68>, <scipy.stats._distn_infrastructure.rv_frozen object at 0x7f91070815c0>, <scipy.stats._distn_infrastructure.rv_frozen object at 0x7f90f81093c8>, <scipy.stats._distn_infrastructure.rv_frozen object at 0x7f90fc3adc18>, <scipy.stats._distn_infrastructure.rv_frozen object at 0x7f90f9df6cc0>, <scipy.stats._distn_infrastructure.rv_frozen object at 0x7f90fbdcd400>, <scipy.stats._distn_infrastructure.rv_frozen object at 0x7f9116709978>, <scipy.stats._distn_infrastructure.rv_frozen object at 0x7f9113081cf8>, <scipy.stats._distn_infrastructure.rv_frozen object at 0x7f90f5b86828>, <scipy.stats._distn_infrastructure.rv_frozen object at 0x7f911b39f668>, <scipy.stats._distn_infrastructure.rv_frozen object at 0x7f90f3bed160>, <scipy.stats._distn_infrastructure.rv_frozen object at 0x7f90f404e550>, <scipy.stats._distn_infrastructure.rv_frozen object at 0x7f90f8721320>, <scipy.stats._distn_infrastructure.rv_frozen object at 0x7f90ff750b00>, <scipy.stats._distn_infrastructure.rv_frozen object at 0x7f910f481748>, <scipy.stats._distn_infrastructure.rv_frozen object at 0x7f911c3436a0>, <scipy.stats._distn_infrastructure.rv_frozen object at 0x7f911c339d30>, <scipy.stats._distn_infrastructure.rv_frozen object at 0x7f911c1319b0>, <scipy.stats._distn_infrastructure.rv_frozen object at 0x7f91150e2780>, <scipy.stats._distn_infrastructure.rv_frozen object at 0x7f9114565ba8>, <scipy.stats._distn_infrastructure.rv_frozen object at 0x7f911b4f4a20>, <scipy.stats._distn_infrastructure.rv_frozen object at 0x7f9116007ef0>, <scipy.stats._distn_infrastructure.rv_frozen object at 0x7f9116007860>, <scipy.stats._distn_infrastructure.rv_frozen object at 0x7f9116007358>, <scipy.stats._distn_infrastructure.rv_frozen object at 0x7f90fd240e10>, <scipy.stats._distn_infrastructure.rv_frozen object at 0x7f9110f89048>, <scipy.stats._distn_infrastructure.rv_frozen object at 0x7f911c1af390>, <scipy.stats._distn_infrastructure.rv_frozen object at 0x7f90f486a198>, <scipy.stats._distn_infrastructure.rv_frozen object at 0x7f90fcd532b0>, <scipy.stats._distn_infrastructure.rv_frozen object at 0x7f9104911c88>, <scipy.stats._distn_infrastructure.rv_frozen object at 0x7f910ded6c88>, <scipy.stats._distn_infrastructure.rv_frozen object at 0x7f910e987c18>, <scipy.stats._distn_infrastructure.rv_frozen object at 0x7f9117434da0>, <scipy.stats._distn_infrastructure.rv_frozen object at 0x7f9117ea22e8>, <scipy.stats._distn_infrastructure.rv_frozen object at 0x7f9112aaada0>, <scipy.stats._distn_infrastructure.rv_frozen object at 0x7f9110f85e48>, <scipy.stats._distn_infrastructure.rv_frozen object at 0x7f911c0e54a8>, <scipy.stats._distn_infrastructure.rv_frozen object at 0x7f9113086b38>, <scipy.stats._distn_infrastructure.rv_frozen object at 0x7f911767f668>, <scipy.stats._distn_infrastructure.rv_frozen object at 0x7f910eca1978>, <scipy.stats._distn_infrastructure.rv_frozen object at 0x7f91140892b0>, <scipy.stats._distn_infrastructure.rv_frozen object at 0x7f91189f57f0>, <scipy.stats._distn_infrastructure.rv_frozen object at 0x7f90fd164d68>, <scipy.stats._distn_infrastructure.rv_frozen object at 0x7f9112c4fc88>, <scipy.stats._distn_infrastructure.rv_frozen object at 0x7f9112bfde10>, <scipy.stats._distn_infrastructure.rv_frozen object at 0x7f911981a2e8>, <scipy.stats._distn_infrastructure.rv_frozen object at 0x7f9115ff3160>, <scipy.stats._distn_infrastructure.rv_frozen object at 0x7f9115ff3dd8>, <scipy.stats._distn_infrastructure.rv_frozen object at 0x7f911a0c3eb8>, <scipy.stats._distn_infrastructure.rv_frozen object at 0x7f9114f0f358>, <scipy.stats._distn_infrastructure.rv_frozen object at 0x7f90f3dcfc18>, <scipy.stats._distn_infrastructure.rv_frozen object at 0x7f910f6aeb38>]\n",
      "instinct\n",
      "[<scipy.stats._distn_infrastructure.rv_frozen object at 0x7f90f76e2c88>, <scipy.stats._distn_infrastructure.rv_frozen object at 0x7f90f3d6de48>, <scipy.stats._distn_infrastructure.rv_frozen object at 0x7f90f65e5d30>, <scipy.stats._distn_infrastructure.rv_frozen object at 0x7f9114f3a438>, <scipy.stats._distn_infrastructure.rv_frozen object at 0x7f911c134e80>, <scipy.stats._distn_infrastructure.rv_frozen object at 0x7f91139a42e8>, <scipy.stats._distn_infrastructure.rv_frozen object at 0x7f90f5c7ba20>, <scipy.stats._distn_infrastructure.rv_frozen object at 0x7f9104752588>, <scipy.stats._distn_infrastructure.rv_frozen object at 0x7f9113b794a8>, <scipy.stats._distn_infrastructure.rv_frozen object at 0x7f911beb1550>, <scipy.stats._distn_infrastructure.rv_frozen object at 0x7f9123c0e3c8>, <scipy.stats._distn_infrastructure.rv_frozen object at 0x7f90f98327f0>, <scipy.stats._distn_infrastructure.rv_frozen object at 0x7f90ff5332e8>, <scipy.stats._distn_infrastructure.rv_frozen object at 0x7f9112da6438>, <scipy.stats._distn_infrastructure.rv_frozen object at 0x7f90fc9d6240>, <scipy.stats._distn_infrastructure.rv_frozen object at 0x7f9105853e48>, <scipy.stats._distn_infrastructure.rv_frozen object at 0x7f90fb856b38>, <scipy.stats._distn_infrastructure.rv_frozen object at 0x7f910d239e48>, <scipy.stats._distn_infrastructure.rv_frozen object at 0x7f9113cb9f60>, <scipy.stats._distn_infrastructure.rv_frozen object at 0x7f911699f470>, <scipy.stats._distn_infrastructure.rv_frozen object at 0x7f911c15f668>, <scipy.stats._distn_infrastructure.rv_frozen object at 0x7f90f6460128>, <scipy.stats._distn_infrastructure.rv_frozen object at 0x7f90ff3c86a0>, <scipy.stats._distn_infrastructure.rv_frozen object at 0x7f911875eb00>, <scipy.stats._distn_infrastructure.rv_frozen object at 0x7f9117e27358>, <scipy.stats._distn_infrastructure.rv_frozen object at 0x7f90f8e405f8>, <scipy.stats._distn_infrastructure.rv_frozen object at 0x7f90fac4df60>, <scipy.stats._distn_infrastructure.rv_frozen object at 0x7f9107dc9080>, <scipy.stats._distn_infrastructure.rv_frozen object at 0x7f90f659e940>, <scipy.stats._distn_infrastructure.rv_frozen object at 0x7f9106d3c978>, <scipy.stats._distn_infrastructure.rv_frozen object at 0x7f91128429e8>, <scipy.stats._distn_infrastructure.rv_frozen object at 0x7f9112f5c0b8>, <scipy.stats._distn_infrastructure.rv_frozen object at 0x7f9113f28518>, <scipy.stats._distn_infrastructure.rv_frozen object at 0x7f91181b9d30>, <scipy.stats._distn_infrastructure.rv_frozen object at 0x7f9116a8b5c0>, <scipy.stats._distn_infrastructure.rv_frozen object at 0x7f910f3a7550>, <scipy.stats._distn_infrastructure.rv_frozen object at 0x7f9115769828>, <scipy.stats._distn_infrastructure.rv_frozen object at 0x7f911bfed7f0>, <scipy.stats._distn_infrastructure.rv_frozen object at 0x7f9113ef9588>, <scipy.stats._distn_infrastructure.rv_frozen object at 0x7f91107217f0>, <scipy.stats._distn_infrastructure.rv_frozen object at 0x7f90f51a6da0>, <scipy.stats._distn_infrastructure.rv_frozen object at 0x7f90f75660f0>, <scipy.stats._distn_infrastructure.rv_frozen object at 0x7f91060403c8>, <scipy.stats._distn_infrastructure.rv_frozen object at 0x7f910e19b7f0>, <scipy.stats._distn_infrastructure.rv_frozen object at 0x7f910f388320>, <scipy.stats._distn_infrastructure.rv_frozen object at 0x7f9113a11b00>, <scipy.stats._distn_infrastructure.rv_frozen object at 0x7f91176210b8>, <scipy.stats._distn_infrastructure.rv_frozen object at 0x7f911bd40b00>, <scipy.stats._distn_infrastructure.rv_frozen object at 0x7f90f4bca208>, <scipy.stats._distn_infrastructure.rv_frozen object at 0x7f9119580f28>, <scipy.stats._distn_infrastructure.rv_frozen object at 0x7f911bfde748>, <scipy.stats._distn_infrastructure.rv_frozen object at 0x7f910eb9e710>, <scipy.stats._distn_infrastructure.rv_frozen object at 0x7f910dfbc4a8>, <scipy.stats._distn_infrastructure.rv_frozen object at 0x7f9112a92940>, <scipy.stats._distn_infrastructure.rv_frozen object at 0x7f911b40a1d0>, <scipy.stats._distn_infrastructure.rv_frozen object at 0x7f9116007dd8>, <scipy.stats._distn_infrastructure.rv_frozen object at 0x7f90fe1140f0>, <scipy.stats._distn_infrastructure.rv_frozen object at 0x7f9123c88a20>, <scipy.stats._distn_infrastructure.rv_frozen object at 0x7f90fde11470>, <scipy.stats._distn_infrastructure.rv_frozen object at 0x7f911812ea58>, <scipy.stats._distn_infrastructure.rv_frozen object at 0x7f9115ff38d0>, <scipy.stats._distn_infrastructure.rv_frozen object at 0x7f9115ff33c8>]\n"
     ]
    }
   ],
   "source": [
    "dicGausXPalabra = {}\n",
    "palabras_buscar = ['plants','instinct','for']\n",
    "for indice in range(len(tokens)):\n",
    "    if tokens[indice] in palabras_buscar:\n",
    "        if tokens[indice] in dicGausXPalabra:\n",
    "            dicGausXPalabra[tokens[indice]].append(sp.stats.norm(indice,50))\n",
    "        else:\n",
    "            dicGausXPalabra[tokens[indice]] = [sp.stats.norm(indice,50)]\n",
    "\n",
    "dicSumGausXPalabra = {}\n",
    "for key in dicGausXPalabra.keys():\n",
    "    for index in range(len(tokens)):\n",
    "        sumGausianas = 0\n",
    "        for gausiana in dicGausXPalabra[keys]:\n",
    "            sumGausianas += gausiana.pdf(indice)\n",
    "        dicSumGausXPalabra[key] = sumGausianas\n",
    "print(dicSumGau)"
   ]
  },
  {
   "cell_type": "markdown",
   "metadata": {},
   "source": [
    "## 2.3)"
   ]
  },
  {
   "cell_type": "code",
   "execution_count": 93,
   "metadata": {},
   "outputs": [
    {
     "data": {
      "text/plain": [
       "86297"
      ]
     },
     "execution_count": 93,
     "metadata": {},
     "output_type": "execute_result"
    }
   ],
   "source": [
    "len(tokens)"
   ]
  },
  {
   "cell_type": "markdown",
   "metadata": {},
   "source": [
    "## 2.4)"
   ]
  },
  {
   "cell_type": "code",
   "execution_count": null,
   "metadata": {
    "collapsed": true
   },
   "outputs": [],
   "source": []
  }
 ],
 "metadata": {
  "kernelspec": {
   "display_name": "Python 3",
   "language": "python",
   "name": "python3"
  },
  "language_info": {
   "codemirror_mode": {
    "name": "ipython",
    "version": 3
   },
   "file_extension": ".py",
   "mimetype": "text/x-python",
   "name": "python",
   "nbconvert_exporter": "python",
   "pygments_lexer": "ipython3",
   "version": "3.6.2"
  }
 },
 "nbformat": 4,
 "nbformat_minor": 2
}
