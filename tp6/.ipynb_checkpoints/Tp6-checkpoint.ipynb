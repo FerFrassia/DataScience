{
 "cells": [
  {
   "cell_type": "code",
   "execution_count": 25,
   "metadata": {
    "collapsed": true
   },
   "outputs": [],
   "source": [
    "import xml.etree.ElementTree as ET\n",
    "import nltk\n",
    "tree = ET.parse('ap.xml')\n",
    "root = tree.getroot()\n",
    "\n",
    "corpusDic = {}\n",
    "totalString = \"\"\n",
    "for doc in root:\n",
    "    docno, text = doc\n",
    "    docnum = (docno.text).replace(\" \", \"\")\n",
    "    corpusDic[docnum] = text.text\n",
    "    \n",
    "    textWithAddedSpace = text.text + \" \"\n",
    "    totalString += textWithAddedSpace\n",
    "    \n"
   ]
  },
  {
   "cell_type": "markdown",
   "metadata": {},
   "source": [
    "## 1)"
   ]
  },
  {
   "cell_type": "code",
   "execution_count": 53,
   "metadata": {
    "collapsed": true
   },
   "outputs": [],
   "source": [
    "vocabulario = {}\n",
    "stringsNoDeseados = [',', '.', \"''\", \"'\", \"!\", '``', \"__\", '@', '|', '...', '(', ')', '{', '}']\n",
    "for key in corpusDic.keys():\n",
    "    tokens = nltk.word_tokenize(corpusDic[key])\n",
    "    \n",
    "    for word in tokens:\n",
    "        if word not in stringsNoDeseados:\n",
    "            if word in vocabulario:\n",
    "                vocabulario[word] += 1\n",
    "            else:\n",
    "                vocabulario[word] = 1"
   ]
  },
  {
   "cell_type": "markdown",
   "metadata": {},
   "source": [
    "## 2)"
   ]
  },
  {
   "cell_type": "code",
   "execution_count": 64,
   "metadata": {},
   "outputs": [
    {
     "name": "stdout",
     "output_type": "stream",
     "text": [
      "tamaño del vocabulario:  47454\n"
     ]
    }
   ],
   "source": [
    "print(\"tamaño del vocabulario: \", len(vocabulario.keys()))"
   ]
  },
  {
   "cell_type": "markdown",
   "metadata": {},
   "source": [
    "## 3)"
   ]
  },
  {
   "cell_type": "code",
   "execution_count": 67,
   "metadata": {
    "collapsed": true
   },
   "outputs": [],
   "source": [
    "bigram_finder = nltk.collocations.BigramCollocationFinder.from_words(totalString, window_size=5)"
   ]
  },
  {
   "cell_type": "code",
   "execution_count": null,
   "metadata": {
    "collapsed": true
   },
   "outputs": [],
   "source": [
    "for key, value in sorted(vocabulario.iteritems(), key=lambda (k,v): (v,k)):\n",
    "    print \"%s: %s\" % (key, value)"
   ]
  }
 ],
 "metadata": {
  "kernelspec": {
   "display_name": "Python 3",
   "language": "python",
   "name": "python3"
  },
  "language_info": {
   "codemirror_mode": {
    "name": "ipython",
    "version": 3
   },
   "file_extension": ".py",
   "mimetype": "text/x-python",
   "name": "python",
   "nbconvert_exporter": "python",
   "pygments_lexer": "ipython3",
   "version": "3.6.1"
  }
 },
 "nbformat": 4,
 "nbformat_minor": 2
}
