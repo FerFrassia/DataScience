{
 "cells": [
  {
   "cell_type": "markdown",
   "metadata": {},
   "source": [
    "# Trabajo Practico 3: Machine Learning\n",
    "\n",
    "integrantes: Alvarez Vico Jazmín\n",
    "\n",
    "             Cortés Conde Titó Javier María\n",
    "             \n",
    "             Frassia Fernando "
   ]
  },
  {
   "cell_type": "code",
   "execution_count": 21,
   "metadata": {
    "collapsed": true
   },
   "outputs": [],
   "source": [
    "import scipy as sp\n",
    "import pandas as pd\n",
    "import seaborn as sn\n",
    "import numpy as np\n",
    "import matplotlib.pyplot as plt\n",
    "import pylab\n",
    "from scipy.signal import welch\n",
    "import scipy.io\n",
    "import os\n",
    "from math import log\n",
    "log2= lambda x:log(x,2)\n",
    "from collections import defaultdict\n",
    "\n",
    "def dar_bandas(lista_sujetos):\n",
    "    elect = lista_sujetos[0][:,1,:]\n",
    "    welch = sp.signal.welch(elect, noverlap=100,fs= 250, nperseg = 201)\n",
    "    index = (np.abs(welch[0]-50)).argmin()\n",
    "    \n",
    "    df_alphas = pd.DataFrame()\n",
    "    df_betas = pd.DataFrame()\n",
    "    df_thetas = pd.DataFrame()\n",
    "    df_deltas = pd.DataFrame()\n",
    "    df_gamas = pd.DataFrame()\n",
    "\n",
    "    i=1\n",
    "    for sujeto in lista_sujetos:\n",
    "\n",
    "        potencias_media = []\n",
    "        for count in range(10):\n",
    "            welch = sp.signal.welch(sujeto[:,count,:], noverlap=100, fs=250, nperseg = 201)\n",
    "            frecuencias = welch[0][:index]\n",
    "            potencias = welch[1][:, :index]\n",
    "            promedio_potencias = potencias.mean(axis=0)\n",
    "            potencias_media.append(promedio_potencias)\n",
    "\n",
    "        potencias_media = np.array(potencias_media)\n",
    "        medias = potencias_media.mean(axis=0)\n",
    "\n",
    "        index_delta = (np.abs(frecuencias-4)).argmin()\n",
    "        delta = medias[:index_delta]\n",
    "        df_deltas['sujeto'+str(i)] = delta\n",
    "\n",
    "        index_theta = (np.abs(frecuencias-8)).argmin()\n",
    "        theta= medias[index_delta+1:index_theta]\n",
    "        df_thetas['sujeto'+str(i)] = theta\n",
    "\n",
    "        index_alpha = (np.abs(frecuencias-13)).argmin()\n",
    "        alpha = medias[index_theta+1:index_alpha]\n",
    "        df_alphas['sujeto'+str(i)] = alpha\n",
    "\n",
    "        index_beta = (np.abs(frecuencias-30)).argmin()\n",
    "        beta = medias[index_alpha+1:index_beta]\n",
    "        df_betas['sujeto'+str(i)] = beta\n",
    "\n",
    "        gama = medias[index_beta+1:]\n",
    "        df_gamas['sujeto'+str(i)] = gama\n",
    "        i+=1\n",
    "    \n",
    "    return (df_alphas, df_betas, df_deltas, df_gamas, df_thetas)\n",
    "\n",
    "def dar_potXbandas(df_alphas, df_betas, df_deltas, df_gamas, df_thetas):\n",
    "    potenciasXbanda = pd.DataFrame()\n",
    "    \n",
    "    sum_alpha = df_alphas.sum()\n",
    "    potenciasXbanda['alpha'] = sum_alpha\n",
    "    sum_beta = df_betas.sum()\n",
    "    potenciasXbanda['beta'] = sum_beta\n",
    "    sum_delta = df_deltas.sum()\n",
    "    potenciasXbanda['delta'] = sum_delta\n",
    "    sum_gama = df_gamas.sum()\n",
    "    potenciasXbanda['gama'] = sum_gama\n",
    "    sum_theta = df_thetas.sum()\n",
    "    potenciasXbanda['theta'] = sum_theta\n",
    "    \n",
    "    factor_normalizacion = sum_alpha+sum_beta+sum_gama+sum_theta + sum_delta \n",
    "    \n",
    "    potenciasXbanda['alpha_norm'] = sum_alpha/factor_normalizacion\n",
    "    potenciasXbanda['beta_norm'] = sum_beta/factor_normalizacion\n",
    "    potenciasXbanda['delta_norm'] = sum_delta/factor_normalizacion\n",
    "    potenciasXbanda['gama_norm'] = sum_gama/factor_normalizacion\n",
    "    potenciasXbanda['theta_norm'] = sum_theta/factor_normalizacion\n",
    "    \n",
    "    return potenciasXbanda"
   ]
  },
  {
   "cell_type": "code",
   "execution_count": 3,
   "metadata": {},
   "outputs": [],
   "source": [
    "lista_sujetosP = []\n",
    "matrices = os.listdir('../tp2/matricesP/')\n",
    "for mat in matrices:\n",
    "    m = sp.io.loadmat('../tp2/matricesP/' + mat)\n",
    "    mm = m['data']\n",
    "    lista_sujetosP.append(mm)\n",
    "    \n",
    "       \n",
    "\n",
    "lista_sujetosS = []\n",
    "matrices = os.listdir('../tp2/matricesS/')\n",
    "for mat in matrices:\n",
    "    m = sp.io.loadmat('../tp2/matricesS/' + mat)\n",
    "    mm = m['data']\n",
    "    lista_sujetosS.append(mm)\n",
    "    \n",
    "    \n",
    "    "
   ]
  },
  {
   "cell_type": "code",
   "execution_count": 24,
   "metadata": {},
   "outputs": [
    {
     "name": "stdout",
     "output_type": "stream",
     "text": [
      "                alpha          beta         delta          gama         theta  \\\n",
      "sujeto1  1.650611e-12  2.064808e-12  4.609779e-11  9.292200e-13  8.798807e-12   \n",
      "sujeto2  1.637910e-12  9.091313e-13  9.900297e-11  2.338660e-13  5.894919e-12   \n",
      "sujeto3  1.847865e-12  1.012314e-12  4.861052e-11  3.606270e-13  6.426362e-12   \n",
      "sujeto4  1.642502e-12  2.340214e-12  6.282008e-11  1.225317e-12  4.621129e-12   \n",
      "\n",
      "         alpha_norm  beta_norm  delta_norm  gama_norm  theta_norm  \n",
      "sujeto1    0.027722   0.034679    0.774216   0.015606    0.147777  \n",
      "sujeto2    0.015211   0.008443    0.919429   0.002172    0.054745  \n",
      "sujeto3    0.031719   0.017376    0.834405   0.006190    0.110309  \n",
      "sujeto4    0.022609   0.032213    0.864704   0.016866    0.063609  \n"
     ]
    }
   ],
   "source": [
    "df_alphas, df_betas, df_deltas, df_gamas, df_thetas = dar_bandas(lista_sujetosP)\n",
    "\n",
    "matriz_informacion = dar_potXbandas(df_alphas, df_betas, df_deltas, df_gamas, df_thetas)\n",
    "print(matriz_informacion)\n",
    "\n",
    "\n",
    "    "
   ]
  },
  {
   "cell_type": "code",
   "execution_count": null,
   "metadata": {},
   "outputs": [],
   "source": []
  },
  {
   "cell_type": "code",
   "execution_count": null,
   "metadata": {
    "collapsed": true
   },
   "outputs": [],
   "source": []
  }
 ],
 "metadata": {
  "kernelspec": {
   "display_name": "Python 3",
   "language": "python",
   "name": "python3"
  },
  "language_info": {
   "codemirror_mode": {
    "name": "ipython",
    "version": 3
   },
   "file_extension": ".py",
   "mimetype": "text/x-python",
   "name": "python",
   "nbconvert_exporter": "python",
   "pygments_lexer": "ipython3",
   "version": "3.6.2"
  }
 },
 "nbformat": 4,
 "nbformat_minor": 2
}
