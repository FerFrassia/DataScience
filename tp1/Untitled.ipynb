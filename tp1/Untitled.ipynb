{
 "cells": [
  {
   "cell_type": "markdown",
   "metadata": {},
   "source": [
    "# Trabajo práctico 1\n",
    "\n",
    "Integrantes:\n",
    "- Alvarez Vico Jazmín\n",
    "- Cortes Conde Tito Maria Javier\n",
    "- Frassia Fernando Nicolas\n"
   ]
  },
  {
   "cell_type": "markdown",
   "metadata": {},
   "source": [
    "## Aclaraciones preliminares\n",
    "\n",
    "### Sobre la hipótesis nula\n",
    "Se define hipótesis nula como la proposición de que dos fenómenos medidos no están relacionados.\n",
    "Al rechazar la hipótesis nula podemos decir inferir que es probable que dicha relación exista.\n",
    "\n",
    "### Sobre el p valor\n",
    "El p valor nos indica la probabilidad de obtener un valor igual o más extremo al obtenido a través de una medición, asumiendo cierta la hipótesis nula.\n",
    "\n",
    "Al obtener un p valor chico (tradicionalmente se considera chico un p valor menor o igual a 0,05) rechazamos la hipótesis nula. Pues esto significa que es poco probable obtener un resultado semejante con un espacio muestral distinto al que tenemos.\n",
    "\n",
    "En esta caso, decimos que nuestra muestra es estadísticamente significativa, reforzando nuestra hipótesis alternativa. "
   ]
  },
  {
   "cell_type": "code",
   "execution_count": 2,
   "metadata": {
    "collapsed": true
   },
   "outputs": [],
   "source": [
    "import numpy as np\n",
    "import scipy as sp\n",
    "import matplotlib.pyplot as plt\n",
    "import seaborn as sns\n",
    "import pandas as pd\n",
    "import random"
   ]
  },
  {
   "cell_type": "markdown",
   "metadata": {},
   "source": [
    "## Funciones auxiliares"
   ]
  },
  {
   "cell_type": "code",
   "execution_count": 2,
   "metadata": {
    "collapsed": true
   },
   "outputs": [],
   "source": [
    "def igual_varianza(l1,l2):\n",
    "    estadistico = np.var(l1) / np.var(l2) \n",
    "    pval=  sp.stats.f.cdf(estadistico,len(l1)-1, len(l2)-1)\n",
    "    print(\"pval = \" + str(pval))\n",
    "    return pval>=0.05\n",
    "\n",
    "def distribucion_normal(l1):\n",
    "    pval = sp.stats.shapiro(l1)[1]\n",
    "    val = pval >= 0.05\n",
    "    if val:\n",
    "        print(\"no se sabe la distribución\")\n",
    "    else:\n",
    "        print(\"distribución no normal\")\n",
    "    print(\"pval = \" + str(pval))\n",
    "    return val\n",
    "\n",
    "def test_permutaciones(l1,l2,cant_permutaciones):\n",
    "    \n",
    "    meanl1 = np.mean(l1)\n",
    "    meanl2 = np.mean(l2)\n",
    "    l1 = [x for x in l1]\n",
    "    l2 = [x for x in l2]\n",
    "    muestra = l1+l2\n",
    "    il1 = len(l1)-1\n",
    "    delta=[] \n",
    "    delta.append(meanl2-meanl1)\n",
    "\n",
    "    for i in range(0,cant_permutaciones):\n",
    "\n",
    "        random.shuffle(muestra)\n",
    "        currentDelta = np.mean(muestra[:il1+1]) - np.mean(muestra[il1+1:])\n",
    "        delta.append(currentDelta)\n",
    "\n",
    "    aux = 1\n",
    "    for i in range(1,len(delta)):\n",
    "        if delta[0] <= delta[i]:\n",
    "            aux += 1\n",
    "    pval = aux/len(delta)\n",
    "    \n",
    "    plt.axvline(x=delta[0], color='r')\n",
    "    plt.hist(delta)\n",
    "    plt.show()\n",
    "    print(\"p value = \" + str(pval)) \n",
    "\n",
    "    \n",
    "def  wilcoxon_apareadas(l1,l2):\n",
    "    pval= sp.stats.wilcoxon(l1,l2)[1]\n",
    "    print(\"p value = \" + str(pval))\n",
    "    \n",
    "def igual_media_apareada(l1,l2,cant_permut): \n",
    "    if distribucion_normal(l1) and distribucion_normal(l2):\n",
    "        print(\"checkeo distribución normal: No concluyente, suponemos normalidad\")\n",
    "        ig_var = igual_varianza(l1,l2)\n",
    "        ig_var2 = igual_varianza(l2,l1)\n",
    "        if (ig_var and ig_var2):            \n",
    "            print(\"checkeo varianza: No concluyente, suponemos igual varianza\")\n",
    "            print(\"utilizamos test de Student\")\n",
    "            pval = sp.stats.ttest_rel(l1, l2)[1]\n",
    "            print(\"p value = \" + str(pval) )\n",
    "        else:\n",
    "            print(\"checkeo varianza: NO\")\n",
    "            print(\"utilizamos test de Welsh\")\n",
    "            pval = sp.stats.ttest_ind(l1, l2)[1]\n",
    "            print(\"p value = \" + str(pval) )\n",
    "            \n",
    "    print(\"utilizamos test de Wilcoxon, sin asumir igual varianza y distribucion normal\")\n",
    "    wilcoxon_apareadas(l1,l2)\n",
    "            \n",
    "def igual_media_1muesrta(l):\n",
    "    if distribucion_normal(l):\n",
    "        print(\"checkeo distribución normal: ok\") \n",
    "        meanl = np.mean(l)\n",
    "        pval = sp.stats.ttest_1samp(l,meanl)[1]\n",
    "        print(\"p value = \" + str(pval) )\n",
    "    \n",
    "\n",
    "    \n",
    "def anova2ways():\n",
    "    df=DataFrame()\n",
    "    df.read_tbl('tiempos.txt')\n",
    "    df['id'] = xrange(len(df['len']))\n",
    " \n",
    "    print(df.anova('len', sub='id', bfactors=['supp', 'dose']))\n",
    "\n",
    "#divide por tres por que quiero el promedio, es una funcion muy especifica usarla con quidado\n",
    "def sumLista(l1, l2):\n",
    "    l3 =[]\n",
    "    for i in range(len(l1)):\n",
    "        l3.append((l1[i] +l2[i])/3.0)\n",
    "    \n",
    "    return l3\n",
    "    \n",
    "\n"
   ]
  },
  {
   "cell_type": "markdown",
   "metadata": {},
   "source": [
    "## Lectura de datos"
   ]
  },
  {
   "cell_type": "code",
   "execution_count": 4,
   "metadata": {
    "collapsed": true
   },
   "outputs": [],
   "source": [
    "df = pd.read_csv('tiempos.txt', sep=' ')"
   ]
  },
  {
   "cell_type": "markdown",
   "metadata": {},
   "source": [
    "## Gráficos preliminares"
   ]
  },
  {
   "cell_type": "code",
   "execution_count": 5,
   "metadata": {},
   "outputs": [
    {
     "name": "stderr",
     "output_type": "stream",
     "text": [
      "/Users/fer/anaconda/lib/python3.6/site-packages/matplotlib/axes/_axes.py:518: UserWarning: You have mixed positional and keyword arguments, some input will be discarded.\n",
      "  warnings.warn(\"You have mixed positional and keyword \"\n"
     ]
    },
    {
     "data": {
      "image/png": "[encoded data removed]",
      "text/plain": [
       "<matplotlib.figure.Figure at 0x1185d3390>"
      ]
     },
     "metadata": {},
     "output_type": "display_data"
    }
   ],
   "source": [
    "sol = sns.tsplot(time=df['Atleta'], data=df['tiempo_sol'], interpolate=False, color=\"blue\")\n",
    "\n",
    "nublado = sns.tsplot(time=df['Atleta'], data=df['tiempo_nublado'], interpolate=False, color=\"red\")\n",
    "\n",
    "lluvia = sns.tsplot(time=df['Atleta'], data=df['tiempo_lluvia'], interpolate=False, color=\"green\")\n",
    "\n",
    "sns.plt.legend([sol, nublado, lluvia], labels=[\"sol\",\"nublado\",\"lluvia\"])\n",
    "\n",
    "sns.plt.show()\n"
   ]
  },
  {
   "cell_type": "markdown",
   "metadata": {},
   "source": [
    "podemos observar que un dato tiene un valor \"extraño\", tiene un valor mucho mayor a los demas. Suponemos que se debe a un error de tipeo.\n"
   ]
  },
  {
   "cell_type": "markdown",
   "metadata": {},
   "source": [
    "## Limpieza\n",
    "\n",
    "### Decisiones\n",
    "Tomamos la decisión de borrar de las muestras al corredor cuyo valor era por demás superior al resto del grupo. Notemos que borramos su muestra de todos los días, para que la cantidad de muestras por días sea equitativa.\n"
   ]
  },
  {
   "cell_type": "code",
   "execution_count": 6,
   "metadata": {},
   "outputs": [
    {
     "name": "stderr",
     "output_type": "stream",
     "text": [
      "/Users/fer/anaconda/lib/python3.6/site-packages/matplotlib/axes/_axes.py:518: UserWarning: You have mixed positional and keyword arguments, some input will be discarded.\n",
      "  warnings.warn(\"You have mixed positional and keyword \"\n"
     ]
    },
    {
     "data": {
      "image/png": "[encoded data removed]",
      "text/plain": [
       "<matplotlib.figure.Figure at 0x1185d3400>"
      ]
     },
     "metadata": {},
     "output_type": "display_data"
    }
   ],
   "source": [
    "df.drop(df[df.tiempo_lluvia > 180.0].index, inplace=True)\n",
    "\n",
    "sol = sns.tsplot(time=df['Atleta'], data=df['tiempo_sol'], interpolate=False, color=\"blue\")\n",
    "\n",
    "nublado = sns.tsplot(time=df['Atleta'], data=df['tiempo_nublado'], interpolate=False, color=\"red\")\n",
    "\n",
    "lluvia = sns.tsplot(time=df['Atleta'], data=df['tiempo_lluvia'], interpolate=False, color=\"green\")\n",
    "\n",
    "sns.plt.legend([sol, nublado, lluvia], labels=[\"sol\",\"nublado\",\"lluvia\"])\n",
    "\n",
    "sns.plt.show()\n"
   ]
  },
  {
   "cell_type": "markdown",
   "metadata": {},
   "source": [
    "## Análisis de Datos"
   ]
  },
  {
   "cell_type": "markdown",
   "metadata": {},
   "source": [
    "## Hipótesis: Los atletas son más lentos en días de lluvias que en días soleados.\n",
    "\n",
    "## Hipótesis nula: Los atletas son igual o más rápidos en días de lluvia que en días soleados.\n",
    "\n",
    "Para probar esto utilizaremos el test de wilcoxon de rank-sum, que como hipotesis nula dice que las muestras vienen de una misma distribución. Si se rechaza esto, sabremos que no son iguales, pero no sabremos cuando es que los atletas son son mas rapidos que los otros. por esto usaremos un test de permutaciones para tratar de rechazar la totalidad de la hipotesis nula."
   ]
  },
  {
   "cell_type": "code",
   "execution_count": 6,
   "metadata": {},
   "outputs": [
    {
     "name": "stdout",
     "output_type": "stream",
     "text": [
      "no se sabe la distribución\n",
      "pval = 0.42219114303588867\n",
      "no se sabe la distribución\n",
      "pval = 0.9883151650428772\n",
      "checkeo distribución normal: No concluyente, suponemos normalidad\n",
      "pval = 0.999978436181\n",
      "pval = 2.15638186198e-05\n",
      "checkeo varianza: NO\n",
      "utilizamos test de Welsh\n",
      "p value = 1.04961025807e-07\n",
      "utilizamos test de Wilcoxon, sin asumir igual varianza y distribucion normal\n",
      "p value = 0.00334561811585\n"
     ]
    },
    {
     "data": {
      "image/png": "[encoded data removed]",
      "text/plain": [
       "<matplotlib.figure.Figure at 0x7fd15ededc18>"
      ]
     },
     "metadata": {},
     "output_type": "display_data"
    },
    {
     "name": "stdout",
     "output_type": "stream",
     "text": [
      "p value = 0.000999000999000999\n"
     ]
    }
   ],
   "source": [
    "#igual_media_apareada(df['tiempo_sol'], df['tiempo_lluvia'],1000)\n",
    "aux = sp.stats.ranksums(df['tiempo_sol'], df['tiempo_lluvia'])\n",
    "print(\"p value = \"+str(aux[1]))\n",
    "test_permutaciones(df['tiempo_sol'],df['tiempo_lluvia'],1000)\n",
    "\n",
    "\n"
   ]
  },
  {
   "cell_type": "markdown",
   "metadata": {},
   "source": [
    "podemos observar que de ambos tests obtenemos p valores pequños, a raíz de esto podemos rechazar ambas partes de nuestra hipótesis nula, validando nuestra hipótesis alternativa. Es decir, los atletas son más lentos en días de lluvia que en días soleados.\n",
    "\n"
   ]
  },
  {
   "cell_type": "markdown",
   "metadata": {},
   "source": [
    "## Hipótesis nula: El cielo nublado no influye en los tiempos de los atletas "
   ]
  },
  {
   "cell_type": "markdown",
   "metadata": {},
   "source": [
    "### Análisis de distribución"
   ]
  },
  {
   "cell_type": "markdown",
   "metadata": {},
   "source": [
    "Para empezar, queremos saber si nuestro muestreo sigue una distribución normal. Eso nos puede dar cierta información sobre cómo son los datos.\n",
    "Para esto, usaremos el test de Shapiro-Wilks:"
   ]
  },
  {
   "cell_type": "code",
   "execution_count": 7,
   "metadata": {},
   "outputs": [
    {
     "name": "stdout",
     "output_type": "stream",
     "text": [
      "no se sabe la distribución\n",
      "pval = 0.42219114303588867\n",
      "no se sabe la distribución\n",
      "pval = 0.3774447739124298\n"
     ]
    },
    {
     "data": {
      "text/plain": [
       "True"
      ]
     },
     "execution_count": 7,
     "metadata": {},
     "output_type": "execute_result"
    }
   ],
   "source": [
    "distribucion_normal([x for x in df['tiempo_sol']])\n",
    "distribucion_normal([x for x in df['tiempo_nublado']])"
   ]
  },
  {
   "cell_type": "markdown",
   "metadata": {},
   "source": [
    "Como podemos ver, en ambas muestras el test dio un p valor mayor a 0,05. Esto quiere decir que no podemos rechazar su hipótesis nula, que es que las muestras no tienen distribución normal; entonces no tenemos herramientas suficientes como para determinar sus distribuciones."
   ]
  },
  {
   "cell_type": "markdown",
   "metadata": {},
   "source": [
    "### Análisis de varianza"
   ]
  },
  {
   "cell_type": "markdown",
   "metadata": {},
   "source": [
    "También nos interesa saber si las muestras en días de sol y las de días nublados tienen la misma varianza, para saber qué tipos de test podemos realizar luego."
   ]
  },
  {
   "cell_type": "code",
   "execution_count": 8,
   "metadata": {},
   "outputs": [
    {
     "name": "stdout",
     "output_type": "stream",
     "text": [
      "pval = 0.999978436181\n"
     ]
    },
    {
     "data": {
      "text/plain": [
       "True"
      ]
     },
     "execution_count": 8,
     "metadata": {},
     "output_type": "execute_result"
    }
   ],
   "source": [
    "igual_varianza([x for x in df['tiempo_sol']], [x for x in df['tiempo_lluvia']])"
   ]
  },
  {
   "cell_type": "markdown",
   "metadata": {},
   "source": [
    "Al igual que el análisis de la distribución, el análisis de la varianza es inconcluyente - siendo el p valor del F-test (0,99) mayor a 0,05."
   ]
  },
  {
   "cell_type": "markdown",
   "metadata": {},
   "source": [
    "### Tests"
   ]
  },
  {
   "cell_type": "markdown",
   "metadata": {},
   "source": [
    "Dado que los análisis de distribución y varianza fueron inconcluyentes, nos queda separar en casos de distintas asunciones y realizar los tests correspondientes."
   ]
  },
  {
   "cell_type": "markdown",
   "metadata": {},
   "source": [
    "#### Asumiendo distribución normal e igual varianza"
   ]
  },
  {
   "cell_type": "markdown",
   "metadata": {},
   "source": [
    "Dadas las respectivas asunciones y que además tenemos muestras independientes, estamos en condiciones de utilizar un test paramétrico, en particular nos interesa el test de Student de dos colas. \n",
    "\n",
    "Su hipótesis nula es que ambas muestras tienen la misma media; quisieramos rechazar esa hipótesis para así rechazar nuestra hipótesis nula."
   ]
  },
  {
   "cell_type": "code",
   "execution_count": 9,
   "metadata": {},
   "outputs": [
    {
     "name": "stdout",
     "output_type": "stream",
     "text": [
      "no se sabe la distribución\n",
      "pval = 0.42219114303588867\n",
      "no se sabe la distribución\n",
      "pval = 0.3774447739124298\n",
      "checkeo distribución normal: No concluyente, suponemos normalidad\n",
      "pval = 0.638810011712\n",
      "pval = 0.361189988288\n",
      "checkeo varianza: No concluyente, suponemos igual varianza\n",
      "utilizamos test de Student\n",
      "p value = 1.0\n",
      "utilizamos test de Wilcoxon, sin asumir igual varianza y distribucion normal\n",
      "p value = 0.959221134457\n"
     ]
    }
   ],
   "source": [
    "igual_media_apareada(df['tiempo_sol'], df['tiempo_nublado'], 1000)"
   ]
  },
  {
   "cell_type": "markdown",
   "metadata": {},
   "source": [
    "Ahora bien, no sólo el p valor del test fue mayor a 0,05 sino que fue 1, lo cual es bastante interesante. "
   ]
  },
  {
   "cell_type": "markdown",
   "metadata": {},
   "source": [
    "#### Asumiento que no tienen distribución normal ni igual varianza"
   ]
  },
  {
   "cell_type": "markdown",
   "metadata": {},
   "source": [
    "Ahora, dado que asumimos que no tienen distribución normal, ni igual varianza, nos queda realizar un test no paramétrico. Podemos usar un test de Wilcoxon de dos colas, que analiza la distribución de las diferencias entre ambos días."
   ]
  },
  {
   "cell_type": "markdown",
   "metadata": {},
   "source": [
    "test wilcoxon"
   ]
  },
  {
   "cell_type": "markdown",
   "metadata": {},
   "source": [
    "Nuevamente, el p valor es mayor a 0,05 (0,95), con lo cual no podemos concluir mucho del mismo. "
   ]
  },
  {
   "cell_type": "markdown",
   "metadata": {},
   "source": [
    "### Test de permutaciones"
   ]
  },
  {
   "cell_type": "markdown",
   "metadata": {},
   "source": [
    "Por otro lado, podemos hacer un test de permutaciones para ver qué tan probable es tener nuestra muestra suponiendo que la hipótesis nula es verdadera."
   ]
  },
  {
   "cell_type": "code",
   "execution_count": 11,
   "metadata": {},
   "outputs": [
    {
     "data": {
      "image/png": "[encoded data removed]",
      "text/plain": [
       "<matplotlib.figure.Figure at 0x11ad2fa58>"
      ]
     },
     "metadata": {},
     "output_type": "display_data"
    },
    {
     "name": "stdout",
     "output_type": "stream",
     "text": [
      "p value = 0.5024975024975025\n"
     ]
    }
   ],
   "source": [
    "test_permutaciones(df['tiempo_sol'], df['tiempo_nublado'], 1000)"
   ]
  },
  {
   "cell_type": "markdown",
   "metadata": {},
   "source": [
    "Como el p valor es mayor a 0,05, no tenemos información suficiente como para rechazar H0."
   ]
  },
  {
   "cell_type": "markdown",
   "metadata": {},
   "source": [
    "### Conclusiones"
   ]
  },
  {
   "cell_type": "markdown",
   "metadata": {},
   "source": [
    "Los tests fueron no concluyentes, con lo cual no podemos rechazar la hipótesis nula, sólo podemos decir que no tenemos suficiente información como para hacerlo.\n",
    "Por otro lado, es interesante notar que el test de student y el de Wilcoxon dieron p valor superior a 0,95; lo cual nos dice que hay un gran factor de aliatoriedad en nuestras muestras."
   ]
  },
  {
   "cell_type": "markdown",
   "metadata": {},
   "source": [
    "# Hipótesis: el clima influye en la velocidad del atleta."
   ]
  },
  {
   "cell_type": "markdown",
   "metadata": {},
   "source": [
    "## Hipótesis Nula: el clima no influye en la velocidad del atleta. \n",
    "\n",
    "⁠⁠⁠Para decidir si el clima  influye en la velocidad de los atletas, basta con ver que existe una diferencia estadística entre los tiempos medidos en dos climas distintos. \n",
    "En los tests anteriores analizamos dos casos “nublado-sol” y “sol-lluvia”. \n",
    "En el primer caso no pudimos sacar conclusiones de que dicha afección sea cierta, sin embargo en el segundo caso, pudimos concluir que era altamente probable que la lluvia afectara el tiempo de los atletas. \n",
    "A raíz de esto, podemos decir entonces que efectivamente el clima afecta a los atletas."
   ]
  },
  {
   "cell_type": "markdown",
   "metadata": {},
   "source": [
    "# Hipótesis: la velocidad en días de lluvia es independiente del atleta\n",
    "\n",
    "## hipotesis nula: la velocidad en días de lluvia depende del atleta.\n",
    "\n",
    "Para testear nuestra hipotesis nula vamos a crear un test de permutaciones con una nueva variable aleatoria, esta se define como el promedio en tiempos de un atleta, es decir vamos a sumar los tiempos de cada atleta en los distintos climas y sacar su promedio.Esta va a ser nuestra nueva variable aleatoria.\n",
    "Luego vamos a permutar las velocidades en dias de lluvia y volveremos a caluclar el promedio.\n",
    "si nos da un p valor muy bajo entonces la descartaremos, respaldando nuestra hipotesis nula. "
   ]
  },
  {
   "cell_type": "markdown",
   "metadata": {},
   "source": [
    "# Consejos al entrenador:\n",
    "1- Recomendamos que los atletas entrenen en días de lluvia, ya que sostenemos que hay altas probabilidades de que los atletas sean más lentos en estos días, de esta forma creemos que el entrenamiento tendra mejor rendimiento.\n",
    "2- Recomendamos que al poner fechas de competencia se busque evitar dias de lluvia.\n"
   ]
  },
  {
   "cell_type": "code",
   "execution_count": null,
   "metadata": {
    "collapsed": true
   },
   "outputs": [],
   "source": []
  }
 ],
 "metadata": {
  "kernelspec": {
   "display_name": "Python 3",
   "language": "python",
   "name": "python3"
  },
  "language_info": {
   "codemirror_mode": {
    "name": "ipython",
    "version": 3
   },
   "file_extension": ".py",
   "mimetype": "text/x-python",
   "name": "python",
   "nbconvert_exporter": "python",
   "pygments_lexer": "ipython3",
   "version": "3.6.1"
  }
 },
 "nbformat": 4,
 "nbformat_minor": 2
}
