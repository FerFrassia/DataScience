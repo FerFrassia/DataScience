{
 "cells": [
  {
   "cell_type": "code",
   "execution_count": 28,
   "metadata": {},
   "outputs": [
    {
     "ename": "ModuleNotFoundError",
     "evalue": "No module named 'base'",
     "output_type": "error",
     "traceback": [
      "\u001b[0;31m---------------------------------------------------------------------------\u001b[0m",
      "\u001b[0;31mModuleNotFoundError\u001b[0m                       Traceback (most recent call last)",
      "\u001b[0;32m<ipython-input-28-eb62ba7acf0a>\u001b[0m in \u001b[0;36m<module>\u001b[0;34m()\u001b[0m\n\u001b[1;32m      1\u001b[0m \u001b[0;32mimport\u001b[0m \u001b[0mnumpy\u001b[0m \u001b[0;32mas\u001b[0m \u001b[0mnp\u001b[0m\u001b[0;34m\u001b[0m\u001b[0m\n\u001b[0;32m----> 2\u001b[0;31m \u001b[0;32mfrom\u001b[0m \u001b[0mpyvttbl\u001b[0m \u001b[0;32mimport\u001b[0m \u001b[0mDataFrame\u001b[0m\u001b[0;34m\u001b[0m\u001b[0m\n\u001b[0m\u001b[1;32m      3\u001b[0m \u001b[0;32mimport\u001b[0m \u001b[0mscipy\u001b[0m \u001b[0;32mas\u001b[0m \u001b[0msp\u001b[0m\u001b[0;34m\u001b[0m\u001b[0m\n\u001b[1;32m      4\u001b[0m \u001b[0;32mimport\u001b[0m \u001b[0mmatplotlib\u001b[0m\u001b[0;34m.\u001b[0m\u001b[0mpyplot\u001b[0m \u001b[0;32mas\u001b[0m \u001b[0mplt\u001b[0m\u001b[0;34m\u001b[0m\u001b[0m\n\u001b[1;32m      5\u001b[0m \u001b[0;32mimport\u001b[0m \u001b[0mseaborn\u001b[0m \u001b[0;32mas\u001b[0m \u001b[0msns\u001b[0m\u001b[0;34m\u001b[0m\u001b[0m\n",
      "\u001b[0;32m/Users/fer/anaconda/lib/python3.6/site-packages/pyvttbl/__init__.py\u001b[0m in \u001b[0;36m<module>\u001b[0;34m()\u001b[0m\n\u001b[1;32m      8\u001b[0m \u001b[0;31m# This software is funded in part by NIH Grant P20 RR016454.\u001b[0m\u001b[0;34m\u001b[0m\u001b[0;34m\u001b[0m\u001b[0m\n\u001b[1;32m      9\u001b[0m \u001b[0;34m\u001b[0m\u001b[0m\n\u001b[0;32m---> 10\u001b[0;31m \u001b[0;32mfrom\u001b[0m \u001b[0mbase\u001b[0m \u001b[0;32mimport\u001b[0m \u001b[0mPyvtTbl\u001b[0m\u001b[0;34m,\u001b[0m \u001b[0mDataFrame\u001b[0m\u001b[0;34m\u001b[0m\u001b[0m\n\u001b[0m\u001b[1;32m     11\u001b[0m \u001b[0;34m\u001b[0m\u001b[0m\n\u001b[1;32m     12\u001b[0m \u001b[0;32mfrom\u001b[0m \u001b[0mmisc\u001b[0m \u001b[0;32mimport\u001b[0m \u001b[0;34m*\u001b[0m\u001b[0;34m\u001b[0m\u001b[0m\n",
      "\u001b[0;31mModuleNotFoundError\u001b[0m: No module named 'base'"
     ]
    }
   ],
   "source": [
    "import numpy as np\n",
    "from pyvttbl import DataFrame\n",
    "import scipy as sp\n",
    "import matplotlib.pyplot as plt\n",
    "import seaborn as sns\n",
    "import pandas as pd\n",
    "import random"
   ]
  },
  {
   "cell_type": "markdown",
   "metadata": {},
   "source": [
    "# Lectura de datos"
   ]
  },
  {
   "cell_type": "code",
   "execution_count": 18,
   "metadata": {
    "collapsed": true
   },
   "outputs": [],
   "source": [
    "df = pd.read_csv('tiempos.txt', sep=' ')"
   ]
  },
  {
   "cell_type": "markdown",
   "metadata": {},
   "source": [
    "# Gráficos Preliminares"
   ]
  },
  {
   "cell_type": "code",
   "execution_count": 29,
   "metadata": {},
   "outputs": [
    {
     "name": "stderr",
     "output_type": "stream",
     "text": [
      "/Users/fer/anaconda/lib/python3.6/site-packages/matplotlib/axes/_axes.py:518: UserWarning: You have mixed positional and keyword arguments, some input will be discarded.\n",
      "  warnings.warn(\"You have mixed positional and keyword \"\n"
     ]
    },
    {
     "data": {
      "image/png": "[encoded data removed]",
      "text/plain": [
       "<matplotlib.figure.Figure at 0x11b574080>"
      ]
     },
     "metadata": {},
     "output_type": "display_data"
    }
   ],
   "source": [
    "sol = sns.tsplot(time=df['Atleta'], data=df['tiempo_sol'], interpolate=False, color=\"blue\")\n",
    "\n",
    "nublado = sns.tsplot(time=df['Atleta'], data=df['tiempo_nublado'], interpolate=False, color=\"red\")\n",
    "\n",
    "lluvia = sns.tsplot(time=df['Atleta'], data=df['tiempo_lluvia'], interpolate=False, color=\"green\")\n",
    "\n",
    "sns.plt.legend([sol, nublado, lluvia], labels=[\"sol\",\"nublado\",\"lluvia\"])\n",
    "\n",
    "sns.plt.show()\n",
    "\n"
   ]
  },
  {
   "cell_type": "code",
   "execution_count": null,
   "metadata": {
    "collapsed": true
   },
   "outputs": [],
   "source": [
    "podemos observar que un dato tiene un valor \"extraño\", tiene un valor mucho mayor a los demas. \n",
    "Suponemos que se debe a un error de tipeo. \n"
   ]
  },
  {
   "cell_type": "markdown",
   "metadata": {},
   "source": [
    "# Limpieza\n",
    "Tomamos la decisión de borrar la fila."
   ]
  },
  {
   "cell_type": "code",
   "execution_count": 22,
   "metadata": {},
   "outputs": [
    {
     "name": "stderr",
     "output_type": "stream",
     "text": [
      "/Users/fer/anaconda/lib/python3.6/site-packages/matplotlib/axes/_axes.py:518: UserWarning: You have mixed positional and keyword arguments, some input will be discarded.\n",
      "  warnings.warn(\"You have mixed positional and keyword \"\n"
     ]
    },
    {
     "data": {
      "image/png": "[encoded data removed]",
      "text/plain": [
       "<matplotlib.figure.Figure at 0x113553d68>"
      ]
     },
     "metadata": {},
     "output_type": "display_data"
    }
   ],
   "source": [
    "df.drop(df[df.tiempo_lluvia > 180.0].index, inplace=True)\n",
    "\n",
    "sol = sns.tsplot(time=df['Atleta'], data=df['tiempo_sol'], interpolate=False, color=\"blue\")\n",
    "\n",
    "nublado = sns.tsplot(time=df['Atleta'], data=df['tiempo_nublado'], interpolate=False, color=\"red\")\n",
    "\n",
    "lluvia = sns.tsplot(time=df['Atleta'], data=df['tiempo_lluvia'], interpolate=False, color=\"green\")\n",
    "\n",
    "sns.plt.legend([sol, nublado, lluvia], labels=[\"sol\",\"nublado\",\"lluvia\"])\n",
    "\n",
    "sns.plt.show()\n"
   ]
  },
  {
   "cell_type": "markdown",
   "metadata": {},
   "source": [
    "# Analisis de Datos "
   ]
  },
  {
   "cell_type": "code",
   "execution_count": null,
   "metadata": {
    "collapsed": true
   },
   "outputs": [],
   "source": [
    "Queremos ver que el clima influye en la velocidad del atleta.\n",
    "Utilizaremos el test de Student.\n",
    "Hipotesis Nula: el clima no influye en la velocidad del atleta.\n",
    "Usaremos el set de datos de tiempos para el clima de lluvia y sol.    \n",
    "Primero veremos que las hipotests del test se cumplen."
   ]
  },
  {
   "cell_type": "code",
   "execution_count": 39,
   "metadata": {},
   "outputs": [
    {
     "name": "stdout",
     "output_type": "stream",
     "text": [
      "Ttest_relResult(statistic=-8.1659802299869533, pvalue=9.832130127750511e-06)\n",
      "(0.9311099648475647, 0.42219114303588867)\n",
      "(0.9852456450462341, 0.9883151650428772)\n",
      "(0.9265953302383423, 0.3774447739124298)\n",
      "..................\n",
      "0.999978436181\n",
      "20.870322019147107\n",
      "2.15638186198e-05\n",
      "0.047914929107589606\n"
     ]
    }
   ],
   "source": [
    "p = sp.stats.ttest_rel(df['tiempo_sol'], df['tiempo_lluvia'])\n",
    "\n",
    "print(p)\n",
    "\n",
    "#para ver si son normales\n",
    "#lo es yohooo\n",
    "norm_s = sp.stats.shapiro(df['tiempo_sol'])\n",
    "norm_l = sp.stats.shapiro(df['tiempo_lluvia'])\n",
    "norm_n = sp.stats.shapiro(df['tiempo_nublado'])\n",
    "\n",
    "\n",
    "print(norm_s)\n",
    "print(norm_l)\n",
    "print(norm_n)\n",
    "\n",
    "#no estariamos usando bien el f...\n",
    "xsl = np.var(df['tiempo_sol']) / np.var(df['tiempo_lluvia'])\n",
    "xln = np.var(df['tiempo_nublado']) / np.var(df['tiempo_lluvia'])\n",
    "xsn = np.var(df['tiempo_sol']) / np.var(df['tiempo_nublado'])\n",
    "\n",
    "var_sl = sp.stats.f.cdf(xsl,len(df['tiempo_sol'])-1, len(df['tiempo_lluvia'])-1)\n",
    "var_ln= sp.stats.f.cdf(xln,len(df['tiempo_nublado']), len(df['tiempo_lluvia']))\n",
    "var_sn = sp.stats.f.cdf(xsn,len(df['tiempo_sol']), len(df['tiempo_nublado']))\n",
    "\n",
    "print('..................')\n",
    "print(var_sl)\n",
    "print(xsl)\n",
    "\n",
    "xsl = np.var(df['tiempo_lluvia']) / np.var(df['tiempo_sol'])\n",
    "var_sl = sp.stats.f.cdf(xsl,len(df['tiempo_lluvia'])-1, len(df['tiempo_sol'])-1)\n",
    "print(var_sl)\n",
    "print(xsl)\n",
    "\n"
   ]
  },
  {
   "cell_type": "code",
   "execution_count": 31,
   "metadata": {},
   "outputs": [
    {
     "name": "stdout",
     "output_type": "stream",
     "text": [
      "Ttest_relResult(statistic=-8.1659802299869533, pvalue=9.832130127750511e-06)\n",
      "(0.9311099648475647, 0.42219114303588867)\n",
      "(0.9852456450462341, 0.9883151650428772)\n",
      "(0.9265953302383423, 0.3774447739124298)\n",
      "[  6.23054387e-06   6.70942787e-06   3.19447088e-06   4.11039931e-06\n",
      "   5.75866541e-06   8.05045281e-06   2.85148771e-06   3.91060990e-06\n",
      "   2.64389020e-06   6.17015918e-06   3.71724033e-06]\n",
      "0     11.1\n",
      "1     13.0\n",
      "2     16.1\n",
      "3     14.5\n",
      "4     12.0\n",
      "5     11.0\n",
      "7     14.4\n",
      "8     16.1\n",
      "9     17.0\n",
      "10    12.2\n",
      "11    14.4\n",
      "Name: tiempo_sol, dtype: float64\n",
      "[11.1, 13.0, 16.100000000000001, 14.5, 12.0, 11.0, 14.4, 16.100000000000001, 17.0, 12.199999999999999, 14.4]\n",
      "0     19.4\n",
      "1     18.2\n",
      "2     19.0\n",
      "3     18.9\n",
      "4     19.1\n",
      "5     18.7\n",
      "7     19.9\n",
      "8     18.5\n",
      "9     19.2\n",
      "10    18.8\n",
      "11    19.2\n",
      "Name: tiempo_lluvia, dtype: float64\n",
      "[19.399999999999999, 18.199999999999999, 19.0, 18.899999999999999, 19.100000000000001, 18.699999999999999, 19.899999999999999, 18.5, 19.199999999999999, 18.800000000000001, 19.199999999999999]\n",
      "5.190909090909088\n"
     ]
    },
    {
     "data": {
      "image/png": "[encoded data removed]",
      "text/plain": [
       "<matplotlib.figure.Figure at 0x11b9eec50>"
      ]
     },
     "metadata": {},
     "output_type": "display_data"
    },
    {
     "name": "stdout",
     "output_type": "stream",
     "text": [
      "9.999000099990002e-05\n"
     ]
    }
   ],
   "source": [
    "\n",
    "meanSol = np.mean(df['tiempo_sol'])\n",
    "meanLluvia = np.mean(df['tiempo_lluvia'])\n",
    "meanNublado = np.mean(df['tiempo_nublado'])\n",
    "muestra = [x for x in df['tiempo_sol']] + [x for x in df['tiempo_lluvia']]\n",
    "muestra = [x for x in muestra]\n",
    "iSol = len(df['tiempo_sol'])-1\n",
    "iLluvia = len(muestra)-1\n",
    "\n",
    "delta=[] \n",
    "delta.append(meanLluvia-meanSol)\n",
    "print(df['tiempo_sol'])\n",
    "print(muestra[:iSol+1])\n",
    "print(df['tiempo_lluvia'])\n",
    "print(muestra[iSol+1:])\n",
    "\n",
    "for i in range(0,10000):\n",
    "    \n",
    "\trandom.shuffle(muestra)\n",
    "\tcurrentDelta = np.mean(muestra[:iSol+1]) - np.mean(muestra[iSol+1:])\n",
    "\tdelta.append(currentDelta)\n",
    "# print(delta)\n",
    "\n",
    "\n",
    "\n",
    "print(delta[0])\n",
    "\n",
    "aux = 1\n",
    "for i in range(1,len(delta)):\n",
    "    if delta[0] >= delta[i]:\n",
    "        ++aux\n",
    "pval = aux/len(delta)    \n",
    "\n",
    "\n",
    "plt.axvline(x=delta[0], color='r')\n",
    "plt.hist(delta)\n",
    "plt.show()\n",
    "print(pval)\n",
    "\n",
    "\n"
   ]
  },
  {
   "cell_type": "code",
   "execution_count": null,
   "metadata": {
    "collapsed": true
   },
   "outputs": [],
   "source": []
  },
  {
   "cell_type": "raw",
   "metadata": {
    "collapsed": true
   },
   "source": [
    "texto bla bla blab al"
   ]
  },
  {
   "cell_type": "code",
   "execution_count": null,
   "metadata": {
    "collapsed": true
   },
   "outputs": [],
   "source": []
  },
  {
   "cell_type": "markdown",
   "metadata": {
    "collapsed": true
   },
   "source": [
    "# El cielo nublado no influye en los tiempos de los atletas"
   ]
  },
  {
   "cell_type": "markdown",
   "metadata": {},
   "source": [
    "## Consideraciones:"
   ]
  },
  {
   "cell_type": "code",
   "execution_count": null,
   "metadata": {
    "collapsed": true
   },
   "outputs": [],
   "source": [
    "1. Para analizar esta hipótesis se tomó como día standard el día soleado. \n",
    "Con lo cual vamos a analizar las velocidades de los atletas en los días nublados\n",
    "contra las mismas en los días soleados."
   ]
  },
  {
   "cell_type": "markdown",
   "metadata": {},
   "source": [
    "## Tests:"
   ]
  },
  {
   "cell_type": "markdown",
   "metadata": {},
   "source": [
    "### Anova:"
   ]
  },
  {
   "cell_type": "markdown",
   "metadata": {},
   "source": [
    "#### Hipótesis:"
   ]
  },
  {
   "cell_type": "markdown",
   "metadata": {},
   "source": [
    "1. Las muestras son independientes: Esto lo asumimos (porque no sabemos exactamente cómo se tomaron las muestras) pero podemos afirmar que es cierto dado que la corrida de una persona no afecta la corrida de otra persona (a menos que esto se busque a propósito).\n",
    "\n",
    "2. Las muestras de cada día siguen una distribución normal. Dado que el p valor obtenido con un test de Shapiro-Wilks sobre los días soleados y los días nublados es menor a 0.05, podemos afirmar que las muestras cumplen con esta hipótesis.\n",
    "\n",
    "3. The population standard deviations of the groups are all equal. f-test\n",
    "\n",
    "\n",
    "    \n",
    "    "
   ]
  },
  {
   "cell_type": "code",
   "execution_count": 23,
   "metadata": {},
   "outputs": [
    {
     "ename": "AttributeError",
     "evalue": "module 'scipy.stats' has no attribute 'f_twoway'",
     "output_type": "error",
     "traceback": [
      "\u001b[0;31m---------------------------------------------------------------------------\u001b[0m",
      "\u001b[0;31mAttributeError\u001b[0m                            Traceback (most recent call last)",
      "\u001b[0;32m<ipython-input-23-c6536456e28a>\u001b[0m in \u001b[0;36m<module>\u001b[0;34m()\u001b[0m\n\u001b[0;32m----> 1\u001b[0;31m \u001b[0manovaNublado\u001b[0m \u001b[0;34m=\u001b[0m \u001b[0msp\u001b[0m\u001b[0;34m.\u001b[0m\u001b[0mstats\u001b[0m\u001b[0;34m.\u001b[0m\u001b[0mf_twoway\u001b[0m\u001b[0;34m(\u001b[0m\u001b[0mdf\u001b[0m\u001b[0;34m[\u001b[0m\u001b[0;34m'tiempo_sol'\u001b[0m\u001b[0;34m]\u001b[0m\u001b[0;34m,\u001b[0m \u001b[0mdf\u001b[0m\u001b[0;34m[\u001b[0m\u001b[0;34m'tiempo_lluvia'\u001b[0m\u001b[0;34m]\u001b[0m\u001b[0;34m)\u001b[0m\u001b[0;34m\u001b[0m\u001b[0m\n\u001b[0m\u001b[1;32m      2\u001b[0m \u001b[0mprint\u001b[0m\u001b[0;34m(\u001b[0m\u001b[0manovaNublado\u001b[0m\u001b[0;34m)\u001b[0m\u001b[0;34m\u001b[0m\u001b[0m\n",
      "\u001b[0;31mAttributeError\u001b[0m: module 'scipy.stats' has no attribute 'f_twoway'"
     ]
    }
   ],
   "source": [
    "df=DataFrame()\n",
    "dataSol = [x for x in df['tiempo_sol']]\n",
    "dataLluvia = [x for x in df['tiempo_lluvia']]\n",
    "df['data'] = data1 + data2\n",
    "df['conditions'] = ['Sol']*len(dataSol)+['Lluvia']*len(dataLluvia)\n",
    "aov_pyvttbl = df.anova1way('weight', 'group')\n",
    "print aov_pyvttbl"
   ]
  }
 ],
 "metadata": {
  "kernelspec": {
   "display_name": "Python 3",
   "language": "python",
   "name": "python3"
  },
  "language_info": {
   "codemirror_mode": {
    "name": "ipython",
    "version": 3
   },
   "file_extension": ".py",
   "mimetype": "text/x-python",
   "name": "python",
   "nbconvert_exporter": "python",
   "pygments_lexer": "ipython3",
   "version": "3.6.1"
  }
 },
 "nbformat": 4,
 "nbformat_minor": 2
}
