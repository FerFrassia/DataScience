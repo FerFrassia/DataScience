{
 "cells": [
  {
   "cell_type": "code",
   "execution_count": 1,
   "metadata": {
    "collapsed": true
   },
   "outputs": [],
   "source": [
    "import numpy as np\n",
    "import scipy as sp\n",
    "import matplotlib.pyplot as plt\n",
    "import seaborn as sns\n",
    "import pandas as pd\n",
    "import random\n"
   ]
  },
  {
   "cell_type": "markdown",
   "metadata": {},
   "source": [
    "# Funciones Auxiliares\n"
   ]
  },
  {
   "cell_type": "code",
   "execution_count": 2,
   "metadata": {
    "collapsed": true
   },
   "outputs": [],
   "source": [
    "def igual_varianza(l1,l2):\n",
    "    estadistico = np.var(l1) / np.var(l2) \n",
    "    pval=  sp.stats.f.cdf(estadistico,len(l1)-1, len(l2)-1)\n",
    "    #print(\"pval = \" + str(pval))\n",
    "    return pval>=0.05\n",
    "\n",
    "def distribucion_normal(l1):\n",
    "    return sp.stats.shapiro(l1)[1] >=0.05\n",
    "\n",
    "def test_permutaciones(l1,l2,cant_permutaciones):\n",
    "    \n",
    "    meanl1 = np.mean(l1)\n",
    "    meanl2 = np.mean(l2)\n",
    "    l1 = [x for x in l1]\n",
    "    l2 = [x for x in l2]\n",
    "    muestra = l1+l2\n",
    "    il1 = len(l1)-1\n",
    "    delta=[] \n",
    "    delta.append(meanl2-meanl1)\n",
    "\n",
    "    for i in range(0,cant_permutaciones):\n",
    "\n",
    "        random.shuffle(muestra)\n",
    "        currentDelta = np.mean(muestra[:il1+1]) - np.mean(muestra[il1+1:])\n",
    "        delta.append(currentDelta)\n",
    "\n",
    "    aux = 1\n",
    "    for i in range(1,len(delta)):\n",
    "        if delta[0] <= delta[i]:\n",
    "            aux += 1\n",
    "    pval = aux/len(delta)\n",
    "    \n",
    "    plt.axvline(x=delta[0], color='r')\n",
    "    plt.hist(delta)\n",
    "    plt.show()\n",
    "    print(\"p value = \" + str(pval)) \n",
    "\n",
    "    \n",
    "def igual_media_apareada(l1,l2,cant_permut): \n",
    "    if distribucion_normal(l1) and distribucion_normal(l2):\n",
    "        print(\"checkeo distribución normal: ok\")\n",
    "        ig_var = igual_varianza(l1,l2)\n",
    "        ig_var2 = igual_varianza(l2,l1)\n",
    "        if (ig_var and ig_var2):            \n",
    "            print(\"checkeo varianza: ok\")\n",
    "            print(\"utilizamos test de Student\")\n",
    "            pval = sp.stats.ttest_rel(l1, l2)[1]\n",
    "            print(\"p value = \" + str(pval) )\n",
    "        else:\n",
    "            print(\"checkeo varianza: NO\")\n",
    "            print(\"utilizamos test de Welsh\")\n",
    "            pval = sp.stats.ttest_rel(l1, l2)[1]\n",
    "            print(\"p value = \" + str(pval) )\n",
    "    else:\n",
    "        print(\"checkeo distribución normal: NO\")\n",
    "        print(\"utilizamos test de permutaciones\")\n",
    "        test_permutaciones(l1,l2,cant_permut)\n",
    "            \n",
    "def igual_media_1muesrta(l):\n",
    "    if distribucion_normal(l):\n",
    "        print(\"checkeo distribución normal: ok\") \n",
    "        meanl = np.mean(l)\n",
    "        pval = sp.stats.ttest_1samp(l,meanl)[1]\n",
    "        print(\"p value = \" + str(pval) )\n",
    "    \n",
    "def  whitney_apareadas(l1,l2):\n",
    "    pval= sp.stats.wilcoxon(l1,l2)[1]\n",
    "    print(\"p value = \" + str(pval))\n",
    "    \n",
    "def anova2ways():\n",
    "    df=DataFrame()\n",
    "    df.read_tbl('tiempos.txt')\n",
    "    df['id'] = xrange(len(df['len']))\n",
    " \n",
    "    print(df.anova('len', sub='id', bfactors=['supp', 'dose']))\n",
    "\n",
    "#divide por tres por que quiero el promedio, es una funcion muy especifica usarla con quidado\n",
    "def sumLista(l1, l2):\n",
    "    l3 =[]\n",
    "    for i in range(len(l1)):\n",
    "        l3.append((l1[i] +l2[i])/3.0)\n",
    "    \n",
    "    return l3\n",
    "    \n",
    "\n"
   ]
  },
  {
   "cell_type": "markdown",
   "metadata": {},
   "source": [
    "# Lectura de datos"
   ]
  },
  {
   "cell_type": "code",
   "execution_count": 3,
   "metadata": {
    "collapsed": true
   },
   "outputs": [],
   "source": [
    "df = pd.read_csv('tiempos.txt', sep=' ')"
   ]
  },
  {
   "cell_type": "markdown",
   "metadata": {},
   "source": [
    "# Gráficos Preliminares"
   ]
  },
  {
   "cell_type": "code",
   "execution_count": 4,
   "metadata": {},
   "outputs": [
    {
     "name": "stderr",
     "output_type": "stream",
     "text": [
      "/home/javier/anaconda3/lib/python3.6/site-packages/matplotlib/axes/_axes.py:518: UserWarning: You have mixed positional and keyword arguments, some input will be discarded.\n",
      "  warnings.warn(\"You have mixed positional and keyword \"\n"
     ]
    },
    {
     "data": {
      "image/png": "[encoded data removed]",
      "text/plain": [
       "<matplotlib.figure.Figure at 0x7f68b3a92940>"
      ]
     },
     "metadata": {},
     "output_type": "display_data"
    }
   ],
   "source": [
    "sol = sns.tsplot(time=df['Atleta'], data=df['tiempo_sol'], interpolate=False, color=\"blue\")\n",
    "\n",
    "nublado = sns.tsplot(time=df['Atleta'], data=df['tiempo_nublado'], interpolate=False, color=\"red\")\n",
    "\n",
    "lluvia = sns.tsplot(time=df['Atleta'], data=df['tiempo_lluvia'], interpolate=False, color=\"green\")\n",
    "\n",
    "sns.plt.legend([sol, nublado, lluvia], labels=[\"sol\",\"nublado\",\"lluvia\"])\n",
    "\n",
    "sns.plt.show()\n",
    "\n"
   ]
  },
  {
   "cell_type": "markdown",
   "metadata": {
    "collapsed": true
   },
   "source": [
    "podemos observar que un dato tiene un valor \"extraño\", tiene un valor mucho mayor a los demas. \n",
    "Suponemos que se debe a un error de tipeo. \n"
   ]
  },
  {
   "cell_type": "markdown",
   "metadata": {},
   "source": [
    "# Limpieza\n",
    "Tomamos la decisión de borrar la fila."
   ]
  },
  {
   "cell_type": "code",
   "execution_count": 5,
   "metadata": {},
   "outputs": [
    {
     "name": "stderr",
     "output_type": "stream",
     "text": [
      "/home/javier/anaconda3/lib/python3.6/site-packages/matplotlib/axes/_axes.py:518: UserWarning: You have mixed positional and keyword arguments, some input will be discarded.\n",
      "  warnings.warn(\"You have mixed positional and keyword \"\n"
     ]
    },
    {
     "data": {
      "image/png": "[encoded data removed]",
      "text/plain": [
       "<matplotlib.figure.Figure at 0x7f68b3a92908>"
      ]
     },
     "metadata": {},
     "output_type": "display_data"
    }
   ],
   "source": [
    "df.drop(df[df.tiempo_lluvia > 180.0].index, inplace=True)\n",
    "\n",
    "sol = sns.tsplot(time=df['Atleta'], data=df['tiempo_sol'], interpolate=False, color=\"blue\")\n",
    "\n",
    "nublado = sns.tsplot(time=df['Atleta'], data=df['tiempo_nublado'], interpolate=False, color=\"red\")\n",
    "\n",
    "lluvia = sns.tsplot(time=df['Atleta'], data=df['tiempo_lluvia'], interpolate=False, color=\"green\")\n",
    "\n",
    "sns.plt.legend([sol, nublado, lluvia], labels=[\"sol\",\"nublado\",\"lluvia\"])\n",
    "\n",
    "sns.plt.show()\n"
   ]
  },
  {
   "cell_type": "markdown",
   "metadata": {},
   "source": [
    "# Analisis de Datos "
   ]
  },
  {
   "cell_type": "markdown",
   "metadata": {},
   "source": [
    "# Hipótesis: el clima influye en la velocidad del atleta."
   ]
  },
  {
   "cell_type": "markdown",
   "metadata": {
    "collapsed": true
   },
   "source": [
    "\n",
    "Hipotesis Nula: el clima no influye en la velocidad del atleta.\n",
    "Usaremos el set de datos de tiempos para el clima de lluvia,sol y nublado.\n",
    "Utilizaremos tests de muestras apareadas para poder comparar entre dos tipos de clima. \n",
    "Iremos chequeando que hipótesis requeridas por los tests se cumplen, y a raíz de esto corrermeos el test correspondiente. \n",
    "Recordemos que el test de Student asume tres hipotesis:\n",
    "1-Muestras independientes\n",
    "2-Variables distribuidas normalmente\n",
    "3-Igual varianza\n",
    "Asumimos que nuestras muestras son independientes ya que no encontramos razón para sospechar que la velocidad de un corredor podría verse afectada por la velocidad de otro.\n",
    "Empezaremos utilizando el test de Student siempre y cuando se cumplas las hispotesis, En caso de no cumplir la hipotesis de igual varianza utilizaremos el test de Welsh y en caso de no cumplir tampoco la distribución normal, utilizaremos el test no parametrico de permutaciones."
   ]
  },
  {
   "cell_type": "code",
   "execution_count": 6,
   "metadata": {},
   "outputs": [
    {
     "name": "stdout",
     "output_type": "stream",
     "text": [
      "checkeo distribución normal: ok\n",
      "checkeo varianza: NO\n",
      "utilizamos test de Welsh\n",
      "p value = 9.83213012775e-06\n"
     ]
    }
   ],
   "source": [
    "igual_media_apareada(df['tiempo_sol'], df['tiempo_lluvia'],1000)"
   ]
  },
  {
   "cell_type": "code",
   "execution_count": 7,
   "metadata": {},
   "outputs": [
    {
     "name": "stdout",
     "output_type": "stream",
     "text": [
      "checkeo distribución normal: ok\n",
      "checkeo varianza: ok\n",
      "utilizamos test de Student\n",
      "p value = 1.0\n"
     ]
    }
   ],
   "source": [
    "igual_media_apareada(df['tiempo_sol'], df['tiempo_nublado'],1000)"
   ]
  },
  {
   "cell_type": "code",
   "execution_count": 8,
   "metadata": {},
   "outputs": [
    {
     "name": "stdout",
     "output_type": "stream",
     "text": [
      "checkeo distribución normal: ok\n",
      "checkeo varianza: NO\n",
      "utilizamos test de Welsh\n",
      "p value = 3.77285476952e-06\n"
     ]
    }
   ],
   "source": [
    "igual_media_apareada(df['tiempo_nublado'], df['tiempo_lluvia'],1000)"
   ]
  },
  {
   "cell_type": "markdown",
   "metadata": {},
   "source": [
    "# Hipótesis: Los atletas son más lentos en días de lluvias que en días soleados."
   ]
  },
  {
   "cell_type": "markdown",
   "metadata": {
    "collapsed": true
   },
   "source": [
    "Para esto utilizaremos el Test de Permutaciones.\n",
    "Nuestra hipotesis nula es: Los atelatas no son más lentos en días\n",
    "de lluvia que en días soleados.\n",
    "Equivalentemente decimos que los atletas son igualmente rapidos o más\n",
    "rápidos en días lluviosos que en días soleados."
   ]
  },
  {
   "cell_type": "markdown",
   "metadata": {},
   "source": [
    "\n"
   ]
  },
  {
   "cell_type": "code",
   "execution_count": 9,
   "metadata": {},
   "outputs": [
    {
     "data": {
      "image/png": "[encoded data removed]",
      "text/plain": [
       "<matplotlib.figure.Figure at 0x7f68b3a94b70>"
      ]
     },
     "metadata": {},
     "output_type": "display_data"
    },
    {
     "name": "stdout",
     "output_type": "stream",
     "text": [
      "p value = 0.000999000999000999\n"
     ]
    }
   ],
   "source": [
    "#igual_media_apareada(df['tiempo_sol'], df['tiempo_lluvia'],1000)\n",
    " \n",
    "\n",
    "test_permutaciones(df['tiempo_sol'],df['tiempo_lluvia'],1000)\n",
    "\n",
    "\n"
   ]
  },
  {
   "cell_type": "markdown",
   "metadata": {},
   "source": [
    "Este resultado nos dice que hay una probabilidad igual a p de obtener un \n",
    "resultado a travez de una medición que cumpla la hipotesis nula. Como p es\n",
    "un valor muy pequeño, podemos decir que es poco probable, fortaleciendo \n",
    "nuestra hipotesis original.\n"
   ]
  },
  {
   "cell_type": "markdown",
   "metadata": {
    "collapsed": true
   },
   "source": [
    "# Hipótesis: El cielo nublado no influye en los tiempos de los atletas"
   ]
  },
  {
   "cell_type": "markdown",
   "metadata": {
    "collapsed": true
   },
   "source": [
    "Hipotesś nula: el cielo nublado influye en los tiempos de los atletas"
   ]
  },
  {
   "cell_type": "code",
   "execution_count": 10,
   "metadata": {},
   "outputs": [
    {
     "name": "stdout",
     "output_type": "stream",
     "text": [
      "checkeo distribución normal: ok\n",
      "checkeo varianza: ok\n",
      "utilizamos test de Student\n",
      "p value = 1.0\n"
     ]
    }
   ],
   "source": [
    "igual_media_apareada(df['tiempo_sol'], df['tiempo_nublado'],1000)"
   ]
  },
  {
   "cell_type": "code",
   "execution_count": 11,
   "metadata": {},
   "outputs": [
    {
     "name": "stdout",
     "output_type": "stream",
     "text": [
      "p value = 0.959221134457\n"
     ]
    },
    {
     "data": {
      "image/png": "[encoded data removed]",
      "text/plain": [
       "<matplotlib.figure.Figure at 0x7f68b01c9f98>"
      ]
     },
     "metadata": {},
     "output_type": "display_data"
    },
    {
     "name": "stdout",
     "output_type": "stream",
     "text": [
      "p value = 0.49565043495650435\n"
     ]
    }
   ],
   "source": [
    "#Nuestro p valor alto nos indica que no podemos rechazar la hipotesis nula.whitney_apareadas(l1,l2)\n",
    "\n",
    "whitney_apareadas(df['tiempo_nublado'], df['tiempo_sol'])\n",
    "test_permutaciones(df['tiempo_nublado'], df['tiempo_sol'],10000)\n",
    "# aca corri otros tests para ver q onda el  q masomenos da q si es el de permutaciones \n",
    "#pero si ponemos esto estaria bueno decir q igual rechazamos xq es el unico y ademas no dio taaan bajo.. ni idea\n",
    "#hay un problema con el test de permutaciones, esto tendria que da por la mitad"
   ]
  },
  {
   "cell_type": "markdown",
   "metadata": {
    "collapsed": true
   },
   "source": [
    "# Hipótesis: la velocidad en días de lluvia es independiente del atleta"
   ]
  },
  {
   "cell_type": "markdown",
   "metadata": {},
   "source": [
    "hipotesis nula: la velocidad en días de lluvia depende del atleta.\n",
    "Para esto vamos a crear un test de permutaciones con una nueva variable aleatoria, esta se define como el promedio en tiempos de un atleta, es decir vamos a sumar los tiempos de cada atleta y sacar su promedio y esa va a ser nuestra nueva variable aleatoria. Para testear nuestra hipotesis nula, vamos a hacer un test de permutaciones que nos deje modificar el tiempo de lluvia de cada atleta. si nos da un p valor muy bajo entonces la descartaremos, respaldando nuestra hipotesis nula. "
   ]
  },
  {
   "cell_type": "code",
   "execution_count": null,
   "metadata": {
    "scrolled": true
   },
   "outputs": [],
   "source": [
    "df['tiempo_sol+nublado'] = df['tiempo_sol'] + df['tiempo_nublado']\n",
    "\n",
    "\n",
    "tiempo_sol_nublado = [x for x in df['tiempo_sol+nublado']]\n",
    "tiempo_lluvia = [x for x in df['tiempo_lluvia']]\n",
    "tiempo_prom = sumLista(tiempo_sol_nublado, tiempo_lluvia)\n",
    "#print(tiempo_sol_nublado)\n",
    "#print(tiempo_lluvia)\n",
    "#print(tiempo_prom)\n",
    "delta =[]\n",
    "delta.append(tiempo_prom)\n",
    "for i in range(10000):\n",
    "    random.shuffle(tiempo_lluvia)\n",
    "    tiempo_prom = sumLista(tiempo_sol_nublado, tiempo_lluvia)\n",
    "    delta.append(tiempo_prom)\n",
    "\n",
    "dataset = pd.DataFrame(data=delta)\n",
    "#print(dataset)\n",
    "#print(delta)\n",
    "sns.boxplot( data=dataset)\n",
    "plt.show()\n"
   ]
  },
  {
   "cell_type": "markdown",
   "metadata": {},
   "source": [
    "Al correr este histograma, nos sorprendio la falta de información, al ver delta, el arreglo con los valores a graficar,  entendimos que es por que los valores varian muy poco. "
   ]
  },
  {
   "cell_type": "code",
   "execution_count": null,
   "metadata": {},
   "outputs": [
    {
     "data": {
      "image/png": "[encoded data removed]",
      "text/plain": [
       "<matplotlib.figure.Figure at 0x7f68b00b7da0>"
      ]
     },
     "metadata": {},
     "output_type": "display_data"
    }
   ],
   "source": [
    "#acum = 1\n",
    "#for i in range(1, len(delta)):\n",
    "#    if delta[0] <= delta[i]:\n",
    "#        acum += 1\n",
    "\n",
    "#pval = acum/len(delta)\n",
    "algo = dataset.loc[:,0]\n",
    "plt.hist(i)\n",
    "plt.show()\n",
    "#print(delta)\n",
    "#plt.axvline(x=delta[0], color='r')\n",
    "for i in delta:\n",
    "    plt.hist(i)\n",
    "    #plt.show()\n",
    "print(\"p value = \" + str(pval))\n",
    "\n",
    "#print(delta[:50])"
   ]
  },
  {
   "cell_type": "code",
   "execution_count": null,
   "metadata": {
    "collapsed": true
   },
   "outputs": [],
   "source": [
    "como ven la diferencia es muy poca, y se observa recien en el treceavo digito decimal. Aunque tenemos el p valor que \" \"\n",
    "decidimos estandarizar los datos, para conseguir un grafico que represente la distribución del promedio de velocidades, \n",
    "permutando la velocidad de los atletas en los días de lluvia."
   ]
  },
  {
   "cell_type": "code",
   "execution_count": null,
   "metadata": {
    "collapsed": true
   },
   "outputs": [],
   "source": [
    "#quiero estandarizar los datos por que me dio un numero con una diferencia muy chica.\n",
    "mean = np.mean(delta)\n",
    "desvio = np.std(delta)\n",
    "delta_estandarizada = []\n",
    "for i in range(len(delta)):\n",
    "    delta_estandarizada.append((delta[i] - mean)/ desvio)\n",
    "#print(delta_estandarizada)\n",
    "plt.axvline(x=delta_estandarizada[0], color='r')\n",
    "plt.hist(delta_estandarizada, bins = 10)\n",
    "plt.show()\n",
    "\n",
    "distintos = []\n",
    "for i in delta_estandarizada:\n",
    "    if not(i in distintos):\n",
    "        distintos.append(i)\n",
    "        \n",
    "print(distintos)"
   ]
  },
  {
   "cell_type": "code",
   "execution_count": null,
   "metadata": {
    "collapsed": true
   },
   "outputs": [],
   "source": [
    "# propongo realizar un t-test de muestra unica (aunq no sabria contra q valor testear) \n",
    "igual_media_1muesrta(df['tiempo_lluvia'])\n",
    "#aca lo estoy haciendo usando el promedio de los tiempos..."
   ]
  },
  {
   "cell_type": "markdown",
   "metadata": {
    "collapsed": true
   },
   "source": [
    " # Hipótesis: El cielo nublado no influye en los tiempos de los atletas"
   ]
  },
  {
   "cell_type": "markdown",
   "metadata": {},
   "source": [
    "## Consideraciones:"
   ]
  },
  {
   "cell_type": "code",
   "execution_count": null,
   "metadata": {
    "collapsed": true
   },
   "outputs": [],
   "source": [
    "1. Para analizar esta hipótesis se tomó como día standard el día soleado. \n",
    "Con lo cual vamos a analizar las velocidades de los atletas en los días nublados\n",
    "contra las mismas en los días soleados."
   ]
  },
  {
   "cell_type": "markdown",
   "metadata": {},
   "source": [
    "## Tests:"
   ]
  },
  {
   "cell_type": "markdown",
   "metadata": {},
   "source": [
    "### Anova:"
   ]
  },
  {
   "cell_type": "markdown",
   "metadata": {},
   "source": [
    "#### Hipótesis:"
   ]
  },
  {
   "cell_type": "markdown",
   "metadata": {},
   "source": [
    "1. Las muestras son independientes: Esto lo asumimos (porque no sabemos exactamente cómo se tomaron las muestras) pero podemos afirmar que es cierto dado que la corrida de una persona no afecta la corrida de otra persona (a menos que esto se busque a propósito).\n",
    "\n",
    "2. Las muestras de cada día siguen una distribución normal. Dado que el p valor obtenido con un test de Shapiro-Wilks sobre los días soleados y los días nublados es menor a 0.05, podemos afirmar que las muestras cumplen con esta hipótesis.\n",
    "\n",
    "3. The population standard deviations of the groups are all equal. f-test\n",
    "\n",
    "\n",
    "    \n",
    "    "
   ]
  },
  {
   "cell_type": "code",
   "execution_count": null,
   "metadata": {
    "collapsed": true
   },
   "outputs": [],
   "source": [
    "df=DataFrame()\n",
    "dataSol = [x for x in df['tiempo_sol']]\n",
    "dataLluvia = [x for x in df['tiempo_lluvia']]\n",
    "df['data'] = data1 + data2\n",
    "df['conditions'] = ['Sol']*len(dataSol)+['Lluvia']*len(dataLluvia)\n",
    "aov_pyvttbl = df.anova1way('weight', 'group')\n",
    "print (aov_pyvttbl)"
   ]
  },
  {
   "cell_type": "code",
   "execution_count": null,
   "metadata": {
    "collapsed": true
   },
   "outputs": [],
   "source": []
  }
 ],
 "metadata": {
  "kernelspec": {
   "display_name": "Python 3",
   "language": "python",
   "name": "python3"
  },
  "language_info": {
   "codemirror_mode": {
    "name": "ipython",
    "version": 3
   },
   "file_extension": ".py",
   "mimetype": "text/x-python",
   "name": "python",
   "nbconvert_exporter": "python",
   "pygments_lexer": "ipython3",
   "version": "3.6.1"
  }
 },
 "nbformat": 4,
 "nbformat_minor": 2
}
