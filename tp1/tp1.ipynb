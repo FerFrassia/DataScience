{
 "cells": [
  {
   "cell_type": "code",
   "execution_count": 40,
   "metadata": {
    "collapsed": true
   },
   "outputs": [],
   "source": [
    "import numpy as np\n",
    "import scipy as sp\n",
    "import matplotlib.pyplot as plt\n",
    "import seaborn as sns\n",
    "import pandas as pd\n",
    "import random\n"
   ]
  },
  {
   "cell_type": "markdown",
   "metadata": {},
   "source": [
    "# Funciones Auxiliares\n"
   ]
  },
  {
   "cell_type": "code",
   "execution_count": 35,
   "metadata": {
    "collapsed": true
   },
   "outputs": [],
   "source": [
    "def igual_varianza(l1,l2):\n",
    "    estadistico = np.var(l1) / np.var(l2) \n",
    "    pval=  sp.stats.f.cdf(estadistico,len(l1)-1, len(l2)-1)\n",
    "    #print(\"pval = \" + str(pval))\n",
    "    return pval>=0.05\n",
    "\n",
    "def distribucion_normal(l1):\n",
    "    return sp.stats.shapiro(l1)[1] >=0.05\n",
    "\n",
    "def test_permutaciones(l1,l2,cant_permutaciones):\n",
    "    \n",
    "    meanl1 = np.mean(l1)\n",
    "    meanl2 = np.mean(l2)\n",
    "    l1 = [x for x in l1]\n",
    "    l2 = [x for x in l2]\n",
    "    muestra = l1+l2\n",
    "    il1 = len(l1)-1\n",
    "    delta=[] \n",
    "    delta.append(meanl2-meanl1)\n",
    "\n",
    "    for i in range(0,cant_permutaciones):\n",
    "\n",
    "        random.shuffle(muestra)\n",
    "        currentDelta = np.mean(muestra[:il1+1]) - np.mean(muestra[il1+1:])\n",
    "        delta.append(currentDelta)\n",
    "\n",
    "    aux = 1\n",
    "    for i in range(1,len(delta)):\n",
    "        if delta[0] <= delta[i]:\n",
    "            aux += 1\n",
    "    pval = aux/len(delta)\n",
    "    \n",
    "    plt.axvline(x=delta[0], color='r')\n",
    "    plt.hist(delta)\n",
    "    plt.show()\n",
    "    print(\"p value = \" + str(pval)) \n",
    "\n",
    "    \n",
    "def igual_media_apareada(l1,l2,cant_permut): \n",
    "    if distribucion_normal(l1) and distribucion_normal(l2):\n",
    "        print(\"checkeo distribución normal: ok\")\n",
    "        ig_var = igual_varianza(l1,l2)\n",
    "        ig_var2 = igual_varianza(l2,l1)\n",
    "        if (ig_var and ig_var2):            \n",
    "            print(\"checkeo varianza: ok\")\n",
    "            print(\"utilizamos test de Student, dos colas\")\n",
    "            pval = sp.stats.ttest_rel(l1, l2)[1]\n",
    "            print(\"p value = \" + str(pval) )\n",
    "        else:\n",
    "            print(\"checkeo varianza: NO\")\n",
    "            print(\"utilizamos test de Welsh, dos colas\")\n",
    "            pval = sp.stats.ttest_ind(l1, l2)[1]\n",
    "            print(\"p value = \" + str(pval) )\n",
    "    else:\n",
    "        print(\"checkeo distribución normal: NO\")\n",
    "        print(\"utilizamos test de permutaciones\")\n",
    "        test_permutaciones(l1,l2,cant_permut)\n",
    "            \n",
    "def igual_media_1muesrta(l):\n",
    "    if distribucion_normal(l):\n",
    "        print(\"checkeo distribución normal: ok\") \n",
    "        meanl = np.mean(l)\n",
    "        pval = sp.stats.ttest_1samp(l,meanl)[1]\n",
    "        print(\"p value = \" + str(pval) )\n",
    "    \n",
    "def  whitney_apareadas(l1,l2):\n",
    "    pval= sp.stats.wilcoxon(l1,l2)[1]\n",
    "    print(\"p value = \" + str(pval))\n",
    "    \n",
    "def anova2ways():\n",
    "    df=DataFrame()\n",
    "    df.read_tbl('tiempos.txt')\n",
    "    df['id'] = xrange(len(df['len']))\n",
    " \n",
    "    print(df.anova('len', sub='id', bfactors=['supp', 'dose']))\n",
    "\n",
    "#divide por tres por que quiero el promedio, es una funcion muy especifica usarla con quidado\n",
    "def sumLista(l1, l2):\n",
    "    l3 =[]\n",
    "    for i in range(len(l1)):\n",
    "        l3.append((l1[i] +l2[i])/3.0)\n",
    "    \n",
    "    return l3\n",
    "    \n",
    "\n"
   ]
  },
  {
   "cell_type": "markdown",
   "metadata": {},
   "source": [
    "# Lectura de datos"
   ]
  },
  {
   "cell_type": "code",
   "execution_count": 41,
   "metadata": {
    "collapsed": true
   },
   "outputs": [],
   "source": [
    "df = pd.read_csv('tiempos.txt', sep=' ')"
   ]
  },
  {
   "cell_type": "markdown",
   "metadata": {},
   "source": [
    "# Gráficos Preliminares"
   ]
  },
  {
   "cell_type": "code",
   "execution_count": 42,
   "metadata": {},
   "outputs": [
    {
     "name": "stderr",
     "output_type": "stream",
     "text": [
      "/Users/fer/anaconda/lib/python3.6/site-packages/matplotlib/axes/_axes.py:518: UserWarning: You have mixed positional and keyword arguments, some input will be discarded.\n",
      "  warnings.warn(\"You have mixed positional and keyword \"\n"
     ]
    },
    {
     "data": {
      "image/png": "iVBORw0KGgoAAAANSUhEUgAAAeQAAAFXCAYAAABz8D0iAAAABHNCSVQICAgIfAhkiAAAAAlwSFlz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\nAAYQyAAAGEAgAwBgAIEMAIAB/x9J33bUUAp6JQAAAABJRU5ErkJggg==\n",
      "text/plain": [
       "<matplotlib.figure.Figure at 0x7f425ba1f2b0>"
      ]
     },
     "metadata": {},
     "output_type": "display_data"
    }
   ],
   "source": [
    "sol = sns.tsplot(time=df['Atleta'], data=df['tiempo_sol'], interpolate=False, color=\"blue\")\n",
    "\n",
    "nublado = sns.tsplot(time=df['Atleta'], data=df['tiempo_nublado'], interpolate=False, color=\"red\")\n",
    "\n",
    "lluvia = sns.tsplot(time=df['Atleta'], data=df['tiempo_lluvia'], interpolate=False, color=\"green\")\n",
    "\n",
    "sns.plt.legend([sol, nublado, lluvia], labels=[\"sol\",\"nublado\",\"lluvia\"])\n",
    "\n",
    "sns.plt.show()\n",
    "\n"
   ]
  },
  {
   "cell_type": "markdown",
   "metadata": {
    "collapsed": true
   },
   "source": [
    "podemos observar que un dato tiene un valor \"extraño\", tiene un valor mucho mayor a los demas. \n",
    "Suponemos que se debe a un error de tipeo. \n"
   ]
  },
  {
   "cell_type": "markdown",
   "metadata": {},
   "source": [
    "# Limpieza\n",
    "Tomamos la decisión de borrar la fila."
   ]
  },
  {
   "cell_type": "code",
   "execution_count": 43,
   "metadata": {},
   "outputs": [
    {
     "name": "stderr",
     "output_type": "stream",
     "text": [
      "/Users/fer/anaconda/lib/python3.6/site-packages/matplotlib/axes/_axes.py:518: UserWarning: You have mixed positional and keyword arguments, some input will be discarded.\n",
      "  warnings.warn(\"You have mixed positional and keyword \"\n"
     ]
    },
    {
     "data": {
      "image/png": "iVBORw0KGgoAAAANSUhEUgAAAd8AAAFXCAYAAADj40TtAAAABHNCSVQICAgIfAhkiAAAAAlwSFlz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\nAAAAAElFTkSuQmCC\n",
      "text/plain": [
       "<matplotlib.figure.Figure at 0x7f425b8cb828>"
      ]
     },
     "metadata": {},
     "output_type": "display_data"
    }
   ],
   "source": [
    "df.drop(df[df.tiempo_lluvia > 180.0].index, inplace=True)\n",
    "\n",
    "sol = sns.tsplot(time=df['Atleta'], data=df['tiempo_sol'], interpolate=False, color=\"blue\")\n",
    "\n",
    "nublado = sns.tsplot(time=df['Atleta'], data=df['tiempo_nublado'], interpolate=False, color=\"red\")\n",
    "\n",
    "lluvia = sns.tsplot(time=df['Atleta'], data=df['tiempo_lluvia'], interpolate=False, color=\"green\")\n",
    "\n",
    "sns.plt.legend([sol, nublado, lluvia], labels=[\"sol\",\"nublado\",\"lluvia\"])\n",
    "\n",
    "sns.plt.show()\n"
   ]
  },
  {
   "cell_type": "markdown",
   "metadata": {},
   "source": [
    "Consideramos que los test de mayor utlidad seran los que analizan muestras apareadas, ya que de esta forma podremos comparar las velocidades en dos tipos de clima. Esperamos utilizar principalmente el test de student, en caso de ser necesario el test de Welsh. "
   ]
  },
  {
   "cell_type": "markdown",
   "metadata": {},
   "source": [
    "# Analisis de Datos "
   ]
  },
  {
   "cell_type": "markdown",
   "metadata": {},
   "source": [
    "# Hipótesis: el clima influye en la velocidad del atleta."
   ]
  },
  {
   "cell_type": "markdown",
   "metadata": {
    "collapsed": true
   },
   "source": [
    "\n",
    "Hipotesis Nula: el clima no influye en la velocidad del atleta.\n",
    "Usaremos el set de datos de tiempos para el clima de lluvia,sol y nublado.\n",
    "Utilizaremos tests de muestras apareadas para poder comparar entre dos tipos de clima. \n",
    "Iremos chequeando que hipótesis requeridas por los tests se cumplen, y a raíz de esto corrermeos el test correspondiente. \n",
    "Recordemos que el test de Student asume tres hipotesis:\n",
    "1-Muestras independientes\n",
    "2-Variables distribuidas normalmente\n",
    "3-Igual varianza\n",
    "Asumimos que nuestras muestras son independientes ya que no encontramos razón para sospechar que la velocidad de un corredor podría verse afectada por la velocidad de otro.\n",
    "Empezaremos utilizando el test de Student siempre y cuando se cumplas las hispotesis, En caso de no cumplir la hipotesis de igual varianza utilizaremos el test de Welsh y en caso de no cumplir tampoco la distribución normal, utilizaremos el test no parametrico de permutaciones."
   ]
  },
  {
   "cell_type": "code",
   "execution_count": 6,
   "metadata": {},
   "outputs": [
    {
     "name": "stdout",
     "output_type": "stream",
     "text": [
      "checkeo distribución normal: ok\n",
      "checkeo varianza: NO\n",
      "utilizamos test de Welsh\n",
      "p value = 9.83213012775e-06\n"
     ]
    }
   ],
   "source": [
    "igual_media_apareada(df['tiempo_sol'], df['tiempo_lluvia'],1000)"
   ]
  },
  {
   "cell_type": "code",
   "execution_count": 7,
   "metadata": {},
   "outputs": [
    {
     "name": "stdout",
     "output_type": "stream",
     "text": [
      "checkeo distribución normal: ok\n",
      "checkeo varianza: ok\n",
      "utilizamos test de Student\n",
      "p value = 1.0\n"
     ]
    }
   ],
   "source": [
    "igual_media_apareada(df['tiempo_sol'], df['tiempo_nublado'],1000)"
   ]
  },
  {
   "cell_type": "code",
   "execution_count": null,
   "metadata": {
    "collapsed": true
   },
   "outputs": [],
   "source": [
    "igual_media_apareada(df['tiempo_nublado'], df['tiempo_lluvia'],1000)"
   ]
  },
  {
   "cell_type": "markdown",
   "metadata": {},
   "source": [
    "# Hipótesis: Los atletas son más lentos en días de lluvias que en días soleados."
   ]
  },
  {
   "cell_type": "markdown",
   "metadata": {
    "collapsed": true
   },
   "source": [
    "Para esto utilizaremos el Test de Permutaciones.\n",
    "Nuestra hipotesis nula es: Los atelatas no son más lentos en días de lluvia que en días soleados.\n",
    "Equivalentemente decimos que los atletas son igualmente rapidos o más rápidos en días lluviosos que en días soleados."
   ]
  },
  {
   "cell_type": "markdown",
   "metadata": {},
   "source": [
    "\n"
   ]
  },
  {
   "cell_type": "code",
   "execution_count": 74,
   "metadata": {},
   "outputs": [
    {
     "data": {
      "image/png": "iVBORw0KGgoAAAANSUhEUgAAAeUAAAFJCAYAAACl7jX3AAAABHNCSVQICAgIfAhkiAAAAAlwSFlz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\nMgAAhiDKAAAYgigDAGAIogwAgCH+F7eR+LdUpxAqAAAAAElFTkSuQmCC\n",
      "text/plain": [
       "<matplotlib.figure.Figure at 0x7f425a5f52b0>"
      ]
     },
     "metadata": {},
     "output_type": "display_data"
    },
    {
     "name": "stdout",
     "output_type": "stream",
     "text": [
      "p value = 0.000999000999000999\n"
     ]
    }
   ],
   "source": [
    "#igual_media_apareada(df['tiempo_sol'], df['tiempo_lluvia'],1000)\n",
    " \n",
    "\n",
    "test_permutaciones(df['tiempo_sol'],df['tiempo_lluvia'],1000)\n",
    "\n",
    "\n"
   ]
  },
  {
   "cell_type": "markdown",
   "metadata": {},
   "source": [
    "Este resultado nos dice que hay una probabilidad igual a p de obtener un \n",
    "resultado a travez de una medición que cumpla la hipotesis nula. Como p es\n",
    "un valor muy pequeño, podemos decir que es poco probable, fortaleciendo \n",
    "nuestra hipotesis original.\n"
   ]
  },
  {
   "cell_type": "markdown",
   "metadata": {
    "collapsed": true
   },
   "source": [
    "# Hipótesis: El cielo nublado no influye en los tiempos de los atletas"
   ]
  },
  {
   "cell_type": "markdown",
   "metadata": {
    "collapsed": true
   },
   "source": [
    "Hipotesś nula: el cielo nublado influye en los tiempos de los atletas"
   ]
  },
  {
   "cell_type": "code",
   "execution_count": 10,
   "metadata": {},
   "outputs": [
    {
     "name": "stdout",
     "output_type": "stream",
     "text": [
      "checkeo distribución normal: ok\n",
      "checkeo varianza: ok\n",
      "utilizamos test de Student\n",
      "p value = 1.0\n"
     ]
    }
   ],
   "source": [
    "igual_media_apareada(df['tiempo_sol'], df['tiempo_nublado'],1000)"
   ]
  },
  {
   "cell_type": "code",
   "execution_count": 11,
   "metadata": {},
   "outputs": [
    {
     "name": "stdout",
     "output_type": "stream",
     "text": [
      "p value = 0.959221134457\n"
     ]
    },
    {
     "data": {
      "image/png": "iVBORw0KGgoAAAANSUhEUgAAAeoAAAFJCAYAAABU5W56AAAABHNCSVQICAgIfAhkiAAAAAlwSFlz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\n",
      "text/plain": [
       "<matplotlib.figure.Figure at 0x7f12dc69ed68>"
      ]
     },
     "metadata": {},
     "output_type": "display_data"
    },
    {
     "name": "stdout",
     "output_type": "stream",
     "text": [
      "p value = 0.5034496550344966\n"
     ]
    }
   ],
   "source": [
    "#Nuestro p valor alto nos indica que no podemos rechazar la hipotesis nula.whitney_apareadas(l1,l2)\n",
    "\n",
    "whitney_apareadas(df['tiempo_nublado'], df['tiempo_sol'])\n",
    "test_permutaciones(df['tiempo_nublado'], df['tiempo_sol'],10000)\n",
    "# aca corri otros tests para ver q onda el  q masomenos da q si es el de permutaciones \n",
    "#pero si ponemos esto estaria bueno decir q igual rechazamos xq es el unico y ademas no dio taaan bajo.. ni idea\n",
    "#hay un problema con el test de permutaciones, esto tendria que da por la mitad"
   ]
  },
  {
   "cell_type": "markdown",
   "metadata": {
    "collapsed": true
   },
   "source": [
    "# Hipótesis: la velocidad en días de lluvia es independiente del atleta"
   ]
  },
  {
   "cell_type": "markdown",
   "metadata": {},
   "source": [
    "hipotesis nula: la velocidad en días de lluvia depende del atleta.\n",
    "\n",
    "Para testear nuestra hipotesis nula vamos a crear un test de permutaciones con una nueva variable aleatoria, esta se define como el promedio en tiempos de un atleta, es decir vamos a sumar los tiempos de cada atleta en los distintos climas y sacar su promedio.Esta va a ser nuestra nueva variable aleatoria.\n",
    "Luego vamos a permutar las velocidades en dias de lluvia y volveremos a caluclar el promedio.\n",
    "si nos da un p valor muy bajo entonces la descartaremos, respaldando nuestra hipotesis nula. \n",
    "\n"
   ]
  },
  {
   "cell_type": "code",
   "execution_count": 70,
   "metadata": {
    "scrolled": false
   },
   "outputs": [
    {
     "data": {
      "image/png": "iVBORw0KGgoAAAANSUhEUgAAAd8AAAFJCAYAAADaPycGAAAABHNCSVQICAgIfAhkiAAAAAlwSFlz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\n",
      "text/plain": [
       "<matplotlib.figure.Figure at 0x111ed4860>"
      ]
     },
     "metadata": {},
     "output_type": "display_data"
    }
   ],
   "source": [
    "#suma elemento a elemento\n",
    "df['tiempo_sol+nublado'] = df['tiempo_sol'] + df['tiempo_nublado']\n",
    "\n",
    "#paso a lista\n",
    "tiempo_sol_nublado = [x for x in df['tiempo_sol+nublado']]\n",
    "tiempo_lluvia = [x for x in df['tiempo_lluvia']]\n",
    "#promedio x atleta\n",
    "tiempo_prom = sumLista(tiempo_sol_nublado, tiempo_lluvia)\n",
    "tprom = sns.tsplot( tiempo_prom, interpolate=False, color=\"blue\")\n",
    "\n",
    "#print(tiempo_sol_nublado)\n",
    "#print(tiempo_lluvia)\n",
    "#print(tiempo_prom)\n",
    "#hay un delta x atleta\n",
    "delta =[]\n",
    "delta.append(tiempo_prom)\n",
    "#permuto\n",
    "for i in range(1000):\n",
    "    random.shuffle(tiempo_lluvia)\n",
    "    tiempo_prom = sumLista(tiempo_sol_nublado, tiempo_lluvia)\n",
    "    delta.append(tiempo_prom)\n",
    "\n",
    "dataset = pd.DataFrame(data=delta)\n",
    "#print(dataset)\n",
    "#print(delta)\n",
    "sns.plt.legend([tiempo_prom], labels=[\".\"])\n",
    "sns.boxplot( data=dataset)\n",
    "plt.show()\n",
    "\n"
   ]
  },
  {
   "cell_type": "markdown",
   "metadata": {},
   "source": [
    "Este gráfico es un boxPlot de los datos obtenidos tras el proceso de permutar, ademas esta superpuesto en puntos azules el promedio original de los atletas. Podemos observar que el promedio original se encuentro dentro del rango del box.\n",
    "#en realidad hay q juntarlos posta y ver mas q onda\n",
    "\n",
    "Al correr este histograma, nos sorprendio la falta de información, al ver delta, el arreglo con los valores a graficar,  entendimos que es por que los valores varian muy poco. "
   ]
  },
  {
   "cell_type": "code",
   "execution_count": null,
   "metadata": {
    "collapsed": true
   },
   "outputs": [],
   "source": [
       "\n",
       "    \n",
       "lendelta = len(delta)-1    \n",
       "print(len(delta[1]))\n",
       "for i in range(0,10):    \n",
       "    aux = []\n",
       "    acum=0\n",
       "    for j in range(0,lendelta):\n",
       "        intaux = delta[j][i]\n",
       "        aux.append(intaux) \n",
       "        if delta[0][i] <= intaux:\n",
       "            acum += 1\n",
       "    pval=acum/len(aux)   \n",
       "    plt.hist(aux)\n",
       "    plt.show()    \n",
       "    plt.axvline(x=delta[0][i], color='r')\n",
       "    print(\"p value = \" + str(pval))\n",
   ]
  },
  {
   "cell_type": "markdown",
   "metadata": {
    "collapsed": true
   },
   "source": [
    "como ven la diferencia es muy poca, y se observa recien en el treceavo digito decimal. Aunque tenemos el p valor que \" \"\n",
    "decidimos estandarizar los datos, para conseguir un grafico que represente la distribución del promedio de velocidades, \n",
    "permutando la velocidad de los atletas en los días de lluvia."
   ]
  },
  {
   "cell_type": "code",
   "execution_count": null,
   "metadata": {
    "collapsed": true
   },
   "outputs": [],
   "source": [
    "#quiero estandarizar los datos por que me dio un numero con una diferencia muy chica.\n",
    "mean = np.mean(delta)\n",
    "desvio = np.std(delta)\n",
    "delta_estandarizada = []\n",
    "for i in range(len(delta)):\n",
    "    delta_estandarizada.append((delta[i] - mean)/ desvio)\n",
    "#print(delta_estandarizada)\n",
    "plt.axvline(x=delta_estandarizada[0], color='r')\n",
    "plt.hist(delta_estandarizada, bins = 10)\n",
    "plt.show()\n",
    "\n",
    "distintos = []\n",
    "for i in delta_estandarizada:\n",
    "    if not(i in distintos):\n",
    "        distintos.append(i)\n",
    "        \n",
    "print(distintos)"
   ]
  },
  {
   "cell_type": "code",
   "execution_count": null,
   "metadata": {
    "collapsed": true
   },
   "outputs": [],
   "source": [
    "# propongo realizar un t-test de muestra unica (aunq no sabria contra q valor testear) \n",
    "igual_media_1muesrta(df['tiempo_lluvia'])\n",
    "#aca lo estoy haciendo usando el promedio de los tiempos..."
   ]
  },
  {
   "cell_type": "markdown",
   "metadata": {
    "collapsed": true
   },
   "source": [
    " # Hipótesis: El cielo nublado no influye en los tiempos de los atletas"
   ]
  },
  {
   "cell_type": "markdown",
   "metadata": {},
   "source": [
    "## Consideraciones:"
   ]
  },
  {
   "cell_type": "code",
   "execution_count": null,
   "metadata": {
    "collapsed": true
   },
   "outputs": [],
   "source": [
    "1. Para analizar esta hipótesis se tomó como día standard el día soleado. \n",
    "Con lo cual vamos a analizar las velocidades de los atletas en los días nublados\n",
    "contra las mismas en los días soleados."
   ]
  },
  {
   "cell_type": "markdown",
   "metadata": {},
   "source": [
    "## Tests:"
   ]
  },
  {
   "cell_type": "markdown",
   "metadata": {},
   "source": [
    "### Anova:"
   ]
  },
  {
   "cell_type": "markdown",
   "metadata": {},
   "source": [
    "#### Hipótesis:"
   ]
  },
  {
   "cell_type": "markdown",
   "metadata": {},
   "source": [
    "1. Las muestras son independientes: Esto lo asumimos (porque no sabemos exactamente cómo se tomaron las muestras) pero podemos afirmar que es cierto dado que la corrida de una persona no afecta la corrida de otra persona (a menos que esto se busque a propósito).\n",
    "\n",
    "2. Las muestras de cada día siguen una distribución normal. Dado que el p valor obtenido con un test de Shapiro-Wilks sobre los días soleados y los días nublados es menor a 0.05, podemos afirmar que las muestras cumplen con esta hipótesis.\n",
    "\n",
    "3. The population standard deviations of the groups are all equal. f-test\n",
    "\n",
    "\n",
    "    \n",
    "    "
   ]
  },
  {
   "cell_type": "code",
   "execution_count": null,
   "metadata": {
    "collapsed": true
   },
   "outputs": [],
   "source": [
    "df=DataFrame()\n",
    "dataSol = [x for x in df['tiempo_sol']]\n",
    "dataLluvia = [x for x in df['tiempo_lluvia']]\n",
    "df['data'] = data1 + data2\n",
    "df['conditions'] = ['Sol']*len(dataSol)+['Lluvia']*len(dataLluvia)\n",
    "aov_pyvttbl = df.anova1way('weight', 'group')\n",
    "print (aov_pyvttbl)"
   ]
  },
  {
   "cell_type": "code",
   "execution_count": null,
   "metadata": {
    "collapsed": true
   },
   "outputs": [],
   "source": []
  }
 ],
 "metadata": {
  "kernelspec": {
   "display_name": "Python 3",
   "language": "python",
   "name": "python3"
  },
  "language_info": {
   "codemirror_mode": {
    "name": "ipython",
    "version": 3
   },
   "file_extension": ".py",
   "mimetype": "text/x-python",
   "name": "python",
   "nbconvert_exporter": "python",
   "pygments_lexer": "ipython3",
   "version": "3.6.1"
  }
 },
 "nbformat": 4,
 "nbformat_minor": 2
}
