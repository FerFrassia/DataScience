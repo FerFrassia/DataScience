{
 "cells": [
  {
   "cell_type": "code",
   "execution_count": 11,
   "metadata": {
    "collapsed": true
   },
   "outputs": [],
   "source": [
    "import numpy as np\n",
    "import scipy as sp\n",
    "import matplotlib.pyplot as plt\n",
    "import seaborn as sns\n",
    "import pandas as pd\n",
    "import random\n"
   ]
  },
  {
   "cell_type": "markdown",
   "metadata": {},
   "source": [
    "# Funciones Auxiliares\n"
   ]
  },
  {
   "cell_type": "code",
   "execution_count": 12,
   "metadata": {
    "collapsed": true
   },
   "outputs": [],
   "source": [
    "def igual_varianza(l1,l2):\n",
    "    estadistico = np.var(l1) / np.var(l2) \n",
    "    pval=  sp.stats.f.cdf(estadistico,len(l1)-1, len(l2)-1)\n",
    "    #print(\"pval = \" + str(pval))\n",
    "    return pval>=0.05\n",
    "\n",
    "def distribucion_normal(l1):\n",
    "    return sp.stats.shapiro(l1)[1] >=0.05\n",
    "\n",
    "def test_permutaciones(l1,l2,cant_permutaciones):\n",
    "    \n",
    "    meanl1 = np.mean(l1)\n",
    "    meanl2 = np.mean(l2)\n",
    "    l1 = [x for x in l1]\n",
    "    l2 = [x for x in l2]\n",
    "    muestra = l1+l2\n",
    "    il1 = len(l1)-1\n",
    "    delta=[] \n",
    "    delta.append(meanl2-meanl1)\n",
    "\n",
    "    for i in range(0,cant_permutaciones):\n",
    "\n",
    "        random.shuffle(muestra)\n",
    "        currentDelta = np.mean(muestra[:il1+1]) - np.mean(muestra[il1+1:])\n",
    "        delta.append(currentDelta)\n",
    "\n",
    "    aux = 1\n",
    "    for i in range(1,len(delta)):\n",
    "        if delta[0] <= delta[i]:\n",
    "            aux += 1\n",
    "    pval = aux/len(delta)\n",
    "    \n",
    "    plt.axvline(x=delta[0], color='r')\n",
    "    plt.hist(delta)\n",
    "    plt.show()\n",
    "    print(\"p value = \" + str(pval)) \n",
    "\n",
    "    \n",
    "def igual_media_apareada(l1,l2,cant_permut): \n",
    "    if distribucion_normal(l1) and distribucion_normal(l2):\n",
    "        print(\"checkeo distribución normal: ok\")\n",
    "        ig_var = igual_varianza(l1,l2)\n",
    "        ig_var2 = igual_varianza(l2,l1)\n",
    "        if (ig_var and ig_var2):            \n",
    "            print(\"checkeo varianza: ok\")\n",
    "            print(\"utilizamos test de Student, dos colas\")\n",
    "            pval = sp.stats.ttest_rel(l1, l2)[1]\n",
    "            print(\"p value = \" + str(pval) )\n",
    "        else:\n",
    "            print(\"checkeo varianza: NO\")\n",
    "            print(\"utilizamos test de Welsh, dos colas\")\n",
    "            pval = sp.stats.ttest_ind(l1, l2)[1]\n",
    "            print(\"p value = \" + str(pval) )\n",
    "    else:\n",
    "        print(\"checkeo distribución normal: NO\")\n",
    "        print(\"utilizamos test de permutaciones\")\n",
    "        test_permutaciones(l1,l2,cant_permut)\n",
    "            \n",
    "def igual_media_1muesrta(l):\n",
    "    if distribucion_normal(l):\n",
    "        print(\"checkeo distribución normal: ok\") \n",
    "        meanl = np.mean(l)\n",
    "        pval = sp.stats.ttest_1samp(l,meanl)[1]\n",
    "        print(\"p value = \" + str(pval) )\n",
    "    \n",
    "def  whitney_apareadas(l1,l2):\n",
    "    pval= sp.stats.wilcoxon(l1,l2)[1]\n",
    "    print(\"p value = \" + str(pval))\n",
    "    \n",
    "def anova2ways():\n",
    "    df=DataFrame()\n",
    "    df.read_tbl('tiempos.txt')\n",
    "    df['id'] = xrange(len(df['len']))\n",
    " \n",
    "    print(df.anova('len', sub='id', bfactors=['supp', 'dose']))\n",
    "\n",
    "#divide por tres por que quiero el promedio, es una funcion muy especifica usarla con quidado\n",
    "def sumLista(l1, l2):\n",
    "    l3 =[]\n",
    "    for i in range(len(l1)):\n",
    "        l3.append((l1[i] +l2[i])/3.0)\n",
    "    \n",
    "    return l3\n",
    "    \n",
    "\n"
   ]
  },
  {
   "cell_type": "markdown",
   "metadata": {},
   "source": [
    "# Lectura de datos"
   ]
  },
  {
   "cell_type": "code",
   "execution_count": 13,
   "metadata": {
    "collapsed": true
   },
   "outputs": [],
   "source": [
    "df = pd.read_csv('tiempos.txt', sep=' ')"
   ]
  },
  {
   "cell_type": "markdown",
   "metadata": {},
   "source": [
    "# Gráficos Preliminares"
   ]
  },
  {
   "cell_type": "code",
   "execution_count": 14,
   "metadata": {},
   "outputs": [
    {
     "name": "stderr",
     "output_type": "stream",
     "text": [
      "/home/javier/anaconda3/lib/python3.6/site-packages/matplotlib/axes/_axes.py:518: UserWarning: You have mixed positional and keyword arguments, some input will be discarded.\n",
      "  warnings.warn(\"You have mixed positional and keyword \"\n"
     ]
    },
    {
     "data": {
      "image/png": "[encoded data removed]",
      "text/plain": [
       "<matplotlib.figure.Figure at 0x7f8c25bc5be0>"
      ]
     },
     "metadata": {},
     "output_type": "display_data"
    }
   ],
   "source": [
    "sol = sns.tsplot(time=df['Atleta'], data=df['tiempo_sol'], interpolate=False, color=\"blue\")\n",
    "\n",
    "nublado = sns.tsplot(time=df['Atleta'], data=df['tiempo_nublado'], interpolate=False, color=\"red\")\n",
    "\n",
    "lluvia = sns.tsplot(time=df['Atleta'], data=df['tiempo_lluvia'], interpolate=False, color=\"green\")\n",
    "\n",
    "sns.plt.legend([sol, nublado, lluvia], labels=[\"sol\",\"nublado\",\"lluvia\"])\n",
    "\n",
    "sns.plt.show()\n",
    "\n"
   ]
  },
  {
   "cell_type": "markdown",
   "metadata": {
    "collapsed": true
   },
   "source": [
    "podemos observar que un dato tiene un valor \"extraño\", tiene un valor mucho mayor a los demas. \n",
    "Suponemos que se debe a un error de tipeo. \n"
   ]
  },
  {
   "cell_type": "markdown",
   "metadata": {},
   "source": [
    "# Limpieza\n",
    "Tomamos la decisión de borrar la fila."
   ]
  },
  {
   "cell_type": "code",
   "execution_count": 15,
   "metadata": {},
   "outputs": [
    {
     "name": "stderr",
     "output_type": "stream",
     "text": [
      "/home/javier/anaconda3/lib/python3.6/site-packages/matplotlib/axes/_axes.py:518: UserWarning: You have mixed positional and keyword arguments, some input will be discarded.\n",
      "  warnings.warn(\"You have mixed positional and keyword \"\n"
     ]
    },
    {
     "data": {
      "image/png": "[encoded data removed]",
      "text/plain": [
       "<matplotlib.figure.Figure at 0x7f8c610cacf8>"
      ]
     },
     "metadata": {},
     "output_type": "display_data"
    }
   ],
   "source": [
    "df.drop(df[df.tiempo_lluvia > 180.0].index, inplace=True)\n",
    "\n",
    "sol = sns.tsplot(time=df['Atleta'], data=df['tiempo_sol'], interpolate=False, color=\"blue\")\n",
    "\n",
    "nublado = sns.tsplot(time=df['Atleta'], data=df['tiempo_nublado'], interpolate=False, color=\"red\")\n",
    "\n",
    "lluvia = sns.tsplot(time=df['Atleta'], data=df['tiempo_lluvia'], interpolate=False, color=\"green\")\n",
    "\n",
    "sns.plt.legend([sol, nublado, lluvia], labels=[\"sol\",\"nublado\",\"lluvia\"])\n",
    "\n",
    "sns.plt.show()\n"
   ]
  },
  {
   "cell_type": "markdown",
   "metadata": {},
   "source": [
    "Consideramos que los test de mayor utlidad seran los que analizan muestras apareadas, ya que de esta forma podremos comparar las velocidades en dos tipos de clima. Esperamos utilizar principalmente el test de student, en caso de ser necesario el test de Welsh. "
   ]
  },
  {
   "cell_type": "markdown",
   "metadata": {},
   "source": [
    "# Analisis de Datos "
   ]
  },
  {
   "cell_type": "markdown",
   "metadata": {},
   "source": [
    "# Hipótesis: el clima influye en la velocidad del atleta."
   ]
  },
  {
   "cell_type": "markdown",
   "metadata": {
    "collapsed": true
   },
   "source": [
    "\n",
    "Hipotesis Nula: el clima no influye en la velocidad del atleta.\n",
    "Usaremos el set de datos de tiempos para el clima de lluvia,sol y nublado.\n",
    "Utilizaremos tests de muestras apareadas para poder comparar entre dos tipos de clima. \n",
    "Iremos chequeando que hipótesis requeridas por los tests se cumplen, y a raíz de esto corrermeos el test correspondiente. \n",
    "Recordemos que el test de Student asume tres hipotesis:\n",
    "1-Muestras independientes\n",
    "2-Variables distribuidas normalmente\n",
    "3-Igual varianza\n",
    "Asumimos que nuestras muestras son independientes ya que no encontramos razón para sospechar que la velocidad de un corredor podría verse afectada por la velocidad de otro.\n",
    "Empezaremos utilizando el test de Student siempre y cuando se cumplas las hispotesis, En caso de no cumplir la hipotesis de igual varianza utilizaremos el test de Welsh y en caso de no cumplir tampoco la distribución normal, utilizaremos el test no parametrico de permutaciones."
   ]
  },
  {
   "cell_type": "code",
   "execution_count": 16,
   "metadata": {},
   "outputs": [
    {
     "name": "stdout",
     "output_type": "stream",
     "text": [
      "checkeo distribución normal: ok\n",
      "checkeo varianza: NO\n",
      "utilizamos test de Welsh, dos colas\n",
      "p value = 1.04961025807e-07\n"
     ]
    }
   ],
   "source": [
    "igual_media_apareada(df['tiempo_sol'], df['tiempo_lluvia'],1000)"
   ]
  },
  {
   "cell_type": "code",
   "execution_count": 17,
   "metadata": {},
   "outputs": [
    {
     "name": "stdout",
     "output_type": "stream",
     "text": [
      "checkeo distribución normal: ok\n",
      "checkeo varianza: ok\n",
      "utilizamos test de Student, dos colas\n",
      "p value = 1.0\n"
     ]
    }
   ],
   "source": [
    "igual_media_apareada(df['tiempo_sol'], df['tiempo_nublado'],1000)"
   ]
  },
  {
   "cell_type": "code",
   "execution_count": 18,
   "metadata": {},
   "outputs": [
    {
     "name": "stdout",
     "output_type": "stream",
     "text": [
      "checkeo distribución normal: ok\n",
      "checkeo varianza: NO\n",
      "utilizamos test de Welsh, dos colas\n",
      "p value = 1.851080344e-08\n"
     ]
    }
   ],
   "source": [
    "igual_media_apareada(df['tiempo_nublado'], df['tiempo_lluvia'],1000)"
   ]
  },
  {
   "cell_type": "markdown",
   "metadata": {},
   "source": [
    "# Hipótesis: Los atletas son más lentos en días de lluvias que en días soleados."
   ]
  },
  {
   "cell_type": "markdown",
   "metadata": {
    "collapsed": true
   },
   "source": [
    "Para esto utilizaremos el Test de Permutaciones.\n",
    "Nuestra hipotesis nula es: Los atelatas no son más lentos en días de lluvia que en días soleados.\n",
    "Equivalentemente decimos que los atletas son igualmente rapidos o más rápidos en días lluviosos que en días soleados."
   ]
  },
  {
   "cell_type": "markdown",
   "metadata": {},
   "source": [
    "\n"
   ]
  },
  {
   "cell_type": "code",
   "execution_count": 19,
   "metadata": {},
   "outputs": [
    {
     "data": {
      "image/png": "[encoded data removed]",
      "text/plain": [
       "<matplotlib.figure.Figure at 0x7f8c26215ef0>"
      ]
     },
     "metadata": {},
     "output_type": "display_data"
    },
    {
     "name": "stdout",
     "output_type": "stream",
     "text": [
      "p value = 0.000999000999000999\n"
     ]
    }
   ],
   "source": [
    "#igual_media_apareada(df['tiempo_sol'], df['tiempo_lluvia'],1000)\n",
    " \n",
    "\n",
    "test_permutaciones(df['tiempo_sol'],df['tiempo_lluvia'],1000)\n",
    "\n",
    "\n"
   ]
  },
  {
   "cell_type": "markdown",
   "metadata": {},
   "source": [
    "Este resultado nos dice que hay una probabilidad igual a p de obtener un \n",
    "resultado a travez de una medición que cumpla la hipotesis nula. Como p es\n",
    "un valor muy pequeño, podemos decir que es poco probable, fortaleciendo \n",
    "nuestra hipotesis original.\n"
   ]
  },
  {
   "cell_type": "markdown",
   "metadata": {
    "collapsed": true
   },
   "source": [
    "# Hipótesis: El cielo nublado no influye en los tiempos de los atletas"
   ]
  },
  {
   "cell_type": "markdown",
   "metadata": {
    "collapsed": true
   },
   "source": [
    "Hipotesś nula: el cielo nublado influye en los tiempos de los atletas"
   ]
  },
  {
   "cell_type": "code",
   "execution_count": 20,
   "metadata": {},
   "outputs": [
    {
     "name": "stdout",
     "output_type": "stream",
     "text": [
      "checkeo distribución normal: ok\n",
      "checkeo varianza: ok\n",
      "utilizamos test de Student, dos colas\n",
      "p value = 1.0\n"
     ]
    }
   ],
   "source": [
    "igual_media_apareada(df['tiempo_sol'], df['tiempo_nublado'],1000)"
   ]
  },
  {
   "cell_type": "code",
   "execution_count": 21,
   "metadata": {},
   "outputs": [
    {
     "name": "stdout",
     "output_type": "stream",
     "text": [
      "p value = 0.959221134457\n"
     ]
    },
    {
     "data": {
      "image/png": "[encoded data removed]",
      "text/plain": [
       "<matplotlib.figure.Figure at 0x7f8c25e656d8>"
      ]
     },
     "metadata": {},
     "output_type": "display_data"
    },
    {
     "name": "stdout",
     "output_type": "stream",
     "text": [
      "p value = 0.49905009499050096\n"
     ]
    }
   ],
   "source": [
    "#Nuestro p valor alto nos indica que no podemos rechazar la hipotesis nula.whitney_apareadas(l1,l2)\n",
    "\n",
    "whitney_apareadas(df['tiempo_nublado'], df['tiempo_sol'])\n",
    "test_permutaciones(df['tiempo_nublado'], df['tiempo_sol'],10000)\n",
    "# aca corri otros tests para ver q onda el  q masomenos da q si es el de permutaciones \n",
    "#pero si ponemos esto estaria bueno decir q igual rechazamos xq es el unico y ademas no dio taaan bajo.. ni idea\n",
    "#hay un problema con el test de permutaciones, esto tendria que da por la mitad"
   ]
  },
  {
   "cell_type": "markdown",
   "metadata": {
    "collapsed": true
   },
   "source": [
    "# Hipótesis: la velocidad en días de lluvia es independiente del atleta"
   ]
  },
  {
   "cell_type": "markdown",
   "metadata": {},
   "source": [
    "hipotesis nula: la velocidad en días de lluvia depende del atleta.\n",
    "\n",
    "Para testear nuestra hipotesis nula vamos a crear un test de permutaciones con una nueva variable aleatoria, esta se define como el promedio en tiempos de un atleta, es decir vamos a sumar los tiempos de cada atleta en los distintos climas y sacar su promedio.Esta va a ser nuestra nueva variable aleatoria.\n",
    "Luego vamos a permutar las velocidades en dias de lluvia y volveremos a caluclar el promedio.\n",
    "si nos da un p valor muy bajo entonces la descartaremos, respaldando nuestra hipotesis nula. \n",
    "\n"
   ]
  },
  {
   "cell_type": "code",
   "execution_count": 25,
   "metadata": {
    "scrolled": false
   },
   "outputs": [
    {
     "name": "stderr",
     "output_type": "stream",
     "text": [
      "/home/javier/anaconda3/lib/python3.6/site-packages/matplotlib/axes/_axes.py:518: UserWarning: You have mixed positional and keyword arguments, some input will be discarded.\n",
      "  warnings.warn(\"You have mixed positional and keyword \"\n"
     ]
    },
    {
     "data": {
      "image/png": "[encoded data removed]",
      "text/plain": [
       "<matplotlib.figure.Figure at 0x7f8c25c122e8>"
      ]
     },
     "metadata": {},
     "output_type": "display_data"
    }
   ],
   "source": [
    "#suma elemento a elemento\n",
    "df['tiempo_sol+nublado'] = df['tiempo_sol'] + df['tiempo_nublado']\n",
    "\n",
    "#paso a lista\n",
    "tiempo_sol_nublado = [x for x in df['tiempo_sol+nublado']]\n",
    "tiempo_lluvia = [x for x in df['tiempo_lluvia']]\n",
    "#promedio x atleta\n",
    "tiempo_prom = sumLista(tiempo_sol_nublado, tiempo_lluvia)\n",
    "\n",
    "#print(tiempo_sol_nublado)\n",
    "#print(tiempo_lluvia)\n",
    "#print(tiempo_prom)\n",
    "#hay un delta x atleta\n",
    "delta =[]\n",
    "delta.append(tiempo_prom)\n",
    "#permuto\n",
    "for i in range(15000):\n",
    "    random.shuffle(tiempo_lluvia)\n",
    "    tiempo_prom = sumLista(tiempo_sol_nublado, tiempo_lluvia)\n",
    "    delta.append(tiempo_prom)\n",
    "\n",
    "dataset = pd.DataFrame(data=delta)\n",
    "#print(dataset)\n",
    "#print(delta)\n",
    "\n",
    "tprom = sns.tsplot( tiempo_prom, interpolate=False, color=\"blue\")\n",
    "sns.plt.legend([tiempo_prom], labels=[\".\"])\n",
    "sns.boxplot( data=dataset)\n",
    "plt.show()\n",
    "\n"
   ]
  },
  {
   "cell_type": "markdown",
   "metadata": {},
   "source": [
    "Este gráfico es un boxPlot de los datos obtenidos tras el proceso de permutar, ademas esta superpuesto en puntos azules el promedio original de los atletas. Podemos observar que el promedio original se encuentro dentro del rango del box.\n",
    "#en realidad hay q juntarlos posta y ver mas q onda\n",
    "\n",
    "Al correr este histograma, nos sorprendio la falta de información, al ver delta, el arreglo con los valores a graficar,  entendimos que es por que los valores varian muy poco. "
   ]
  },
  {
   "cell_type": "code",
   "execution_count": 26,
   "metadata": {},
   "outputs": [
    {
     "name": "stdout",
     "output_type": "stream",
     "text": [
      "11\n"
     ]
    },
    {
     "data": {
      "image/png": "[encoded data removed]",
      "text/plain": [
       "<matplotlib.figure.Figure at 0x7f8c25700208>"
      ]
     },
     "metadata": {},
     "output_type": "display_data"
    },
    {
     "name": "stdout",
     "output_type": "stream",
     "text": [
      "p value = 0.1835210985934271\n"
     ]
    },
    {
     "data": {
      "image/png": "[encoded data removed]",
      "text/plain": [
       "<matplotlib.figure.Figure at 0x7f8c257060f0>"
      ]
     },
     "metadata": {},
     "output_type": "display_data"
    },
    {
     "name": "stdout",
     "output_type": "stream",
     "text": [
      "p value = 0.9999333377774815\n"
     ]
    },
    {
     "data": {
      "image/png": "[encoded data removed]",
      "text/plain": [
       "<matplotlib.figure.Figure at 0x7f8c25b46f28>"
      ]
     },
     "metadata": {},
     "output_type": "display_data"
    },
    {
     "name": "stdout",
     "output_type": "stream",
     "text": [
      "p value = 0.540230651289914\n"
     ]
    },
    {
     "data": {
      "image/png": "[encoded data removed]",
      "text/plain": [
       "<matplotlib.figure.Figure at 0x7f8c260ee128>"
      ]
     },
     "metadata": {},
     "output_type": "display_data"
    },
    {
     "name": "stdout",
     "output_type": "stream",
     "text": [
      "p value = 0.6353576428238118\n"
     ]
    },
    {
     "data": {
      "image/png": "[encoded data removed]",
      "text/plain": [
       "<matplotlib.figure.Figure at 0x7f8c25449940>"
      ]
     },
     "metadata": {},
     "output_type": "display_data"
    },
    {
     "name": "stdout",
     "output_type": "stream",
     "text": [
      "p value = 0.45270315312312515\n"
     ]
    },
    {
     "data": {
      "image/png": "[encoded data removed]",
      "text/plain": [
       "<matplotlib.figure.Figure at 0x7f8c25ce7a90>"
      ]
     },
     "metadata": {},
     "output_type": "display_data"
    },
    {
     "name": "stdout",
     "output_type": "stream",
     "text": [
      "p value = 0.8186120925271648\n"
     ]
    },
    {
     "data": {
      "image/png": "[encoded data removed]",
      "text/plain": [
       "<matplotlib.figure.Figure at 0x7f8c296bf198>"
      ]
     },
     "metadata": {},
     "output_type": "display_data"
    },
    {
     "name": "stdout",
     "output_type": "stream",
     "text": [
      "p value = 0.08859409372708486\n"
     ]
    },
    {
     "data": {
      "image/png": "[encoded data removed]",
      "text/plain": [
       "<matplotlib.figure.Figure at 0x7f8c25b13128>"
      ]
     },
     "metadata": {},
     "output_type": "display_data"
    },
    {
     "name": "stdout",
     "output_type": "stream",
     "text": [
      "p value = 0.9058729418038798\n"
     ]
    },
    {
     "data": {
      "image/png": "[encoded data removed]",
      "text/plain": [
       "<matplotlib.figure.Figure at 0x7f8c25b92668>"
      ]
     },
     "metadata": {},
     "output_type": "display_data"
    },
    {
     "name": "stdout",
     "output_type": "stream",
     "text": [
      "p value = 0.3672421838544097\n"
     ]
    },
    {
     "data": {
      "image/png": "[encoded data removed]",
      "text/plain": [
       "<matplotlib.figure.Figure at 0x7f8c252814a8>"
      ]
     },
     "metadata": {},
     "output_type": "display_data"
    },
    {
     "name": "stdout",
     "output_type": "stream",
     "text": [
      "p value = 0.727884807679488\n"
     ]
    }
   ],
   "source": [
    "\n",
    "    \n",
    "lendelta = len(delta)-1    \n",
    "print(len(delta[1]))\n",
    "for i in range(0,10):    \n",
    "    aux = []\n",
    "    acum=0\n",
    "    for j in range(0,lendelta):\n",
    "        intaux = delta[j][i]\n",
    "        aux.append(intaux) \n",
    "        if delta[0][i] <= intaux:\n",
    "            acum += 1\n",
    "    pval=acum/len(delta)   \n",
    "    plt.hist(aux)\n",
    "    plt.show()    \n",
    "    plt.axvline(x=delta[0][i], color='r')\n",
    "    print(\"p value = \" + str(pval))\n",
    "\n",
    "#print(delta[:50])"
   ]
  },
  {
   "cell_type": "markdown",
   "metadata": {
    "collapsed": true
   },
   "source": [
    "como ven la diferencia es muy poca, y se observa recien en el treceavo digito decimal. Aunque tenemos el p valor que \" \"\n",
    "decidimos estandarizar los datos, para conseguir un grafico que represente la distribución del promedio de velocidades, \n",
    "permutando la velocidad de los atletas en los días de lluvia."
   ]
  },
  {
   "cell_type": "code",
   "execution_count": 24,
   "metadata": {},
   "outputs": [
    {
     "ename": "ValueError",
     "evalue": "The truth value of an array with more than one element is ambiguous. Use a.any() or a.all()",
     "output_type": "error",
     "traceback": [
      "\u001b[0;31m---------------------------------------------------------------------------\u001b[0m",
      "\u001b[0;31mValueError\u001b[0m                                Traceback (most recent call last)",
      "\u001b[0;32m<ipython-input-24-b718e87ed5e3>\u001b[0m in \u001b[0;36m<module>\u001b[0;34m()\u001b[0m\n\u001b[1;32m      6\u001b[0m     \u001b[0mdelta_estandarizada\u001b[0m\u001b[0;34m.\u001b[0m\u001b[0mappend\u001b[0m\u001b[0;34m(\u001b[0m\u001b[0;34m(\u001b[0m\u001b[0mdelta\u001b[0m\u001b[0;34m[\u001b[0m\u001b[0mi\u001b[0m\u001b[0;34m]\u001b[0m \u001b[0;34m-\u001b[0m \u001b[0mmean\u001b[0m\u001b[0;34m)\u001b[0m\u001b[0;34m/\u001b[0m \u001b[0mdesvio\u001b[0m\u001b[0;34m)\u001b[0m\u001b[0;34m\u001b[0m\u001b[0m\n\u001b[1;32m      7\u001b[0m \u001b[0;31m#print(delta_estandarizada)\u001b[0m\u001b[0;34m\u001b[0m\u001b[0;34m\u001b[0m\u001b[0m\n\u001b[0;32m----> 8\u001b[0;31m \u001b[0mplt\u001b[0m\u001b[0;34m.\u001b[0m\u001b[0maxvline\u001b[0m\u001b[0;34m(\u001b[0m\u001b[0mx\u001b[0m\u001b[0;34m=\u001b[0m\u001b[0mdelta_estandarizada\u001b[0m\u001b[0;34m[\u001b[0m\u001b[0;36m0\u001b[0m\u001b[0;34m]\u001b[0m\u001b[0;34m,\u001b[0m \u001b[0mcolor\u001b[0m\u001b[0;34m=\u001b[0m\u001b[0;34m'r'\u001b[0m\u001b[0;34m)\u001b[0m\u001b[0;34m\u001b[0m\u001b[0m\n\u001b[0m\u001b[1;32m      9\u001b[0m \u001b[0mplt\u001b[0m\u001b[0;34m.\u001b[0m\u001b[0mhist\u001b[0m\u001b[0;34m(\u001b[0m\u001b[0mdelta_estandarizada\u001b[0m\u001b[0;34m,\u001b[0m \u001b[0mbins\u001b[0m \u001b[0;34m=\u001b[0m \u001b[0;36m10\u001b[0m\u001b[0;34m)\u001b[0m\u001b[0;34m\u001b[0m\u001b[0m\n\u001b[1;32m     10\u001b[0m \u001b[0mplt\u001b[0m\u001b[0;34m.\u001b[0m\u001b[0mshow\u001b[0m\u001b[0;34m(\u001b[0m\u001b[0;34m)\u001b[0m\u001b[0;34m\u001b[0m\u001b[0m\n",
      "\u001b[0;32m/home/javier/anaconda3/lib/python3.6/site-packages/matplotlib/pyplot.py\u001b[0m in \u001b[0;36maxvline\u001b[0;34m(x, ymin, ymax, hold, **kwargs)\u001b[0m\n\u001b[1;32m   2659\u001b[0m                       mplDeprecation)\n\u001b[1;32m   2660\u001b[0m     \u001b[0;32mtry\u001b[0m\u001b[0;34m:\u001b[0m\u001b[0;34m\u001b[0m\u001b[0m\n\u001b[0;32m-> 2661\u001b[0;31m         \u001b[0mret\u001b[0m \u001b[0;34m=\u001b[0m \u001b[0max\u001b[0m\u001b[0;34m.\u001b[0m\u001b[0maxvline\u001b[0m\u001b[0;34m(\u001b[0m\u001b[0mx\u001b[0m\u001b[0;34m=\u001b[0m\u001b[0mx\u001b[0m\u001b[0;34m,\u001b[0m \u001b[0mymin\u001b[0m\u001b[0;34m=\u001b[0m\u001b[0mymin\u001b[0m\u001b[0;34m,\u001b[0m \u001b[0mymax\u001b[0m\u001b[0;34m=\u001b[0m\u001b[0mymax\u001b[0m\u001b[0;34m,\u001b[0m \u001b[0;34m**\u001b[0m\u001b[0mkwargs\u001b[0m\u001b[0;34m)\u001b[0m\u001b[0;34m\u001b[0m\u001b[0m\n\u001b[0m\u001b[1;32m   2662\u001b[0m     \u001b[0;32mfinally\u001b[0m\u001b[0;34m:\u001b[0m\u001b[0;34m\u001b[0m\u001b[0m\n\u001b[1;32m   2663\u001b[0m         \u001b[0max\u001b[0m\u001b[0;34m.\u001b[0m\u001b[0m_hold\u001b[0m \u001b[0;34m=\u001b[0m \u001b[0mwashold\u001b[0m\u001b[0;34m\u001b[0m\u001b[0m\n",
      "\u001b[0;32m/home/javier/anaconda3/lib/python3.6/site-packages/matplotlib/axes/_axes.py\u001b[0m in \u001b[0;36maxvline\u001b[0;34m(self, x, ymin, ymax, **kwargs)\u001b[0m\n\u001b[1;32m    786\u001b[0m         \u001b[0mself\u001b[0m\u001b[0;34m.\u001b[0m\u001b[0m_process_unit_info\u001b[0m\u001b[0;34m(\u001b[0m\u001b[0mxdata\u001b[0m\u001b[0;34m=\u001b[0m\u001b[0mx\u001b[0m\u001b[0;34m,\u001b[0m \u001b[0mkwargs\u001b[0m\u001b[0;34m=\u001b[0m\u001b[0mkwargs\u001b[0m\u001b[0;34m)\u001b[0m\u001b[0;34m\u001b[0m\u001b[0m\n\u001b[1;32m    787\u001b[0m         \u001b[0mxx\u001b[0m \u001b[0;34m=\u001b[0m \u001b[0mself\u001b[0m\u001b[0;34m.\u001b[0m\u001b[0mconvert_xunits\u001b[0m\u001b[0;34m(\u001b[0m\u001b[0mx\u001b[0m\u001b[0;34m)\u001b[0m\u001b[0;34m\u001b[0m\u001b[0m\n\u001b[0;32m--> 788\u001b[0;31m         \u001b[0mscalex\u001b[0m \u001b[0;34m=\u001b[0m \u001b[0;34m(\u001b[0m\u001b[0mxx\u001b[0m \u001b[0;34m<\u001b[0m \u001b[0mxmin\u001b[0m\u001b[0;34m)\u001b[0m \u001b[0;32mor\u001b[0m \u001b[0;34m(\u001b[0m\u001b[0mxx\u001b[0m \u001b[0;34m>\u001b[0m \u001b[0mxmax\u001b[0m\u001b[0;34m)\u001b[0m\u001b[0;34m\u001b[0m\u001b[0m\n\u001b[0m\u001b[1;32m    789\u001b[0m \u001b[0;34m\u001b[0m\u001b[0m\n\u001b[1;32m    790\u001b[0m         \u001b[0mtrans\u001b[0m \u001b[0;34m=\u001b[0m \u001b[0mself\u001b[0m\u001b[0;34m.\u001b[0m\u001b[0mget_xaxis_transform\u001b[0m\u001b[0;34m(\u001b[0m\u001b[0mwhich\u001b[0m\u001b[0;34m=\u001b[0m\u001b[0;34m'grid'\u001b[0m\u001b[0;34m)\u001b[0m\u001b[0;34m\u001b[0m\u001b[0m\n",
      "\u001b[0;31mValueError\u001b[0m: The truth value of an array with more than one element is ambiguous. Use a.any() or a.all()"
     ]
    }
   ],
   "source": [
    "#quiero estandarizar los datos por que me dio un numero con una diferencia muy chica.\n",
    "mean = np.mean(delta)\n",
    "desvio = np.std(delta)\n",
    "delta_estandarizada = []\n",
    "for i in range(len(delta)):\n",
    "    delta_estandarizada.append((delta[i] - mean)/ desvio)\n",
    "#print(delta_estandarizada)\n",
    "plt.axvline(x=delta_estandarizada[0], color='r')\n",
    "plt.hist(delta_estandarizada, bins = 10)\n",
    "plt.show()\n",
    "\n",
    "distintos = []\n",
    "for i in delta_estandarizada:\n",
    "    if not(i in distintos):\n",
    "        distintos.append(i)\n",
    "        \n",
    "print(distintos)"
   ]
  },
  {
   "cell_type": "code",
   "execution_count": null,
   "metadata": {
    "collapsed": true
   },
   "outputs": [],
   "source": [
    "# propongo realizar un t-test de muestra unica (aunq no sabria contra q valor testear) \n",
    "igual_media_1muesrta(df['tiempo_lluvia'])\n",
    "#aca lo estoy haciendo usando el promedio de los tiempos..."
   ]
  },
  {
   "cell_type": "markdown",
   "metadata": {
    "collapsed": true
   },
   "source": [
    " # Hipótesis: El cielo nublado no influye en los tiempos de los atletas"
   ]
  },
  {
   "cell_type": "markdown",
   "metadata": {},
   "source": [
    "## Consideraciones:"
   ]
  },
  {
   "cell_type": "code",
   "execution_count": null,
   "metadata": {
    "collapsed": true
   },
   "outputs": [],
   "source": [
    "1. Para analizar esta hipótesis se tomó como día standard el día soleado. \n",
    "Con lo cual vamos a analizar las velocidades de los atletas en los días nublados\n",
    "contra las mismas en los días soleados."
   ]
  },
  {
   "cell_type": "markdown",
   "metadata": {},
   "source": [
    "## Tests:"
   ]
  },
  {
   "cell_type": "markdown",
   "metadata": {},
   "source": [
    "### Anova:"
   ]
  },
  {
   "cell_type": "markdown",
   "metadata": {},
   "source": [
    "#### Hipótesis:"
   ]
  },
  {
   "cell_type": "markdown",
   "metadata": {},
   "source": [
    "1. Las muestras son independientes: Esto lo asumimos (porque no sabemos exactamente cómo se tomaron las muestras) pero podemos afirmar que es cierto dado que la corrida de una persona no afecta la corrida de otra persona (a menos que esto se busque a propósito).\n",
    "\n",
    "2. Las muestras de cada día siguen una distribución normal. Dado que el p valor obtenido con un test de Shapiro-Wilks sobre los días soleados y los días nublados es menor a 0.05, podemos afirmar que las muestras cumplen con esta hipótesis.\n",
    "\n",
    "3. The population standard deviations of the groups are all equal. f-test\n",
    "\n",
    "\n",
    "    \n",
    "    "
   ]
  },
  {
   "cell_type": "code",
   "execution_count": null,
   "metadata": {
    "collapsed": true
   },
   "outputs": [],
   "source": [
    "df=DataFrame()\n",
    "dataSol = [x for x in df['tiempo_sol']]\n",
    "dataLluvia = [x for x in df['tiempo_lluvia']]\n",
    "df['data'] = data1 + data2\n",
    "df['conditions'] = ['Sol']*len(dataSol)+['Lluvia']*len(dataLluvia)\n",
    "aov_pyvttbl = df.anova1way('weight', 'group')\n",
    "print (aov_pyvttbl)"
   ]
  },
  {
   "cell_type": "code",
   "execution_count": null,
   "metadata": {
    "collapsed": true
   },
   "outputs": [],
   "source": []
  }
 ],
 "metadata": {
  "kernelspec": {
   "display_name": "Python 3",
   "language": "python",
   "name": "python3"
  },
  "language_info": {
   "codemirror_mode": {
    "name": "ipython",
    "version": 3
   },
   "file_extension": ".py",
   "mimetype": "text/x-python",
   "name": "python",
   "nbconvert_exporter": "python",
   "pygments_lexer": "ipython3",
   "version": "3.6.1"
  }
 },
 "nbformat": 4,
 "nbformat_minor": 2
}
