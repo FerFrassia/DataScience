{
 "cells": [
  {
   "cell_type": "markdown",
   "metadata": {},
   "source": [
    "#  Trabajo Practico 2\n",
    "\n",
    "    integrantes: Alvarez Vico Jazmín \n",
    "                 Cortés Conde Titó Javier\n",
    "                 Alvarez Vico Jazmín\n",
    "                 "
   ]
  },
  {
   "cell_type": "markdown",
   "metadata": {},
   "source": [
    "# Introducción\n",
    "\n",
    "bla bla bla Martin Compuñoño\n",
    "\n"
   ]
  },
  {
   "cell_type": "markdown",
   "metadata": {},
   "source": [
    "Funciones auxiliares"
   ]
  },
  {
   "cell_type": "code",
   "execution_count": 5,
   "metadata": {
    "collapsed": true
   },
   "outputs": [],
   "source": [
    "import scipy as sp\n",
    "import pandas as pd\n",
    "import seaborn as sn\n",
    "import numpy as np\n",
    "import matplotlib.pyplot as plt\n",
    "import pylab\n",
    "from scipy.signal import welch\n",
    "import scipy.io\n",
    "import os\n",
    "from math import log\n",
    "log2= lambda x:log(x,2)\n",
    "from collections import defaultdict\n",
    "\n",
    "def distribucion_normal(l1):\n",
    "    return sp.stats.shapiro(l1)[1] >=0.05\n",
    "\n",
    "def igual_media_1muestra(l):\n",
    "    if distribucion_normal(l):\n",
    "        print(\"checkeo distribución normal: ok\") \n",
    "        meanl = np.mean(l)\n",
    "        pval = sp.stats.ttest_1samp(l,meanl)[1]\n",
    "        print(\"p value = \" + str(pval) )\n",
    "        \n",
    "        \n",
    "def promediar_epoch(sujeto):\n",
    "    elect8 = sujeto[:,7,:]\n",
    "    elect44 = sujeto[:,43,:]\n",
    "    elect80 = sujeto[:,79,:]\n",
    "    elect131 = sujeto[:,130,:]\n",
    "    elect185 = sujeto[:,184,:]\n",
    "\n",
    "    df8 = pd.DataFrame(elect8)\n",
    "    df44 = pd.DataFrame(elect44)\n",
    "    df80 = pd.DataFrame(elect80)\n",
    "    df131 = pd.DataFrame(elect131)\n",
    "    df185 = pd.DataFrame(elect185)\n",
    "    \n",
    "    df8_Media = df8.mean(axis=0)\n",
    "    df44_Media = df44.mean(axis=0)\n",
    "    df80_Media = df80.mean(axis=0)\n",
    "    df131_Media = df131.mean(axis=0)\n",
    "    df185_Media = df185.mean(axis=0)\n",
    "    \n",
    "    promedio_electrodos = (df8_Media + df44_Media + df80_Media + df131_Media + df185_Media)/5\n",
    "\n",
    "    return promedio_electrodos        \n"
   ]
  },
  {
   "cell_type": "markdown",
   "metadata": {},
   "source": [
    "## Lectura de datos\n",
    "\n",
    "los datos vienen en la forma de un tensor de tres dimensiones: epoch X Electrodo X serie temporal"
   ]
  },
  {
   "cell_type": "code",
   "execution_count": 7,
   "metadata": {},
   "outputs": [
    {
     "ename": "FileNotFoundError",
     "evalue": "[Errno 2] No such file or directory: './matricesP/'",
     "output_type": "error",
     "traceback": [
      "\u001b[0;31m---------------------------------------------------------------------------\u001b[0m",
      "\u001b[0;31mFileNotFoundError\u001b[0m                         Traceback (most recent call last)",
      "\u001b[0;32m<ipython-input-7-40f350562f76>\u001b[0m in \u001b[0;36m<module>\u001b[0;34m()\u001b[0m\n\u001b[1;32m      1\u001b[0m \u001b[0mlista_sujetosP\u001b[0m \u001b[0;34m=\u001b[0m \u001b[0;34m[\u001b[0m\u001b[0;34m]\u001b[0m\u001b[0;34m\u001b[0m\u001b[0m\n\u001b[0;32m----> 2\u001b[0;31m \u001b[0mmatrices\u001b[0m \u001b[0;34m=\u001b[0m \u001b[0mos\u001b[0m\u001b[0;34m.\u001b[0m\u001b[0mlistdir\u001b[0m\u001b[0;34m(\u001b[0m\u001b[0;34m'./matricesP/'\u001b[0m\u001b[0;34m)\u001b[0m\u001b[0;34m\u001b[0m\u001b[0m\n\u001b[0m\u001b[1;32m      3\u001b[0m \u001b[0;32mfor\u001b[0m \u001b[0mmat\u001b[0m \u001b[0;32min\u001b[0m \u001b[0mmatrices\u001b[0m\u001b[0;34m:\u001b[0m\u001b[0;34m\u001b[0m\u001b[0m\n\u001b[1;32m      4\u001b[0m     \u001b[0mm\u001b[0m \u001b[0;34m=\u001b[0m \u001b[0msp\u001b[0m\u001b[0;34m.\u001b[0m\u001b[0mio\u001b[0m\u001b[0;34m.\u001b[0m\u001b[0mloadmat\u001b[0m\u001b[0;34m(\u001b[0m\u001b[0;34m'./matricesP/'\u001b[0m \u001b[0;34m+\u001b[0m \u001b[0mmat\u001b[0m\u001b[0;34m)\u001b[0m\u001b[0;34m\u001b[0m\u001b[0m\n\u001b[1;32m      5\u001b[0m     \u001b[0mmm\u001b[0m \u001b[0;34m=\u001b[0m \u001b[0mm\u001b[0m\u001b[0;34m[\u001b[0m\u001b[0;34m'data'\u001b[0m\u001b[0;34m]\u001b[0m\u001b[0;34m\u001b[0m\u001b[0m\n",
      "\u001b[0;31mFileNotFoundError\u001b[0m: [Errno 2] No such file or directory: './matricesP/'"
     ]
    }
   ],
   "source": [
    "lista_sujetosP = []\n",
    "matrices = os.listdir('./matricesP/')\n",
    "for mat in matrices:\n",
    "    m = sp.io.loadmat('./matricesP/' + mat)\n",
    "    mm = m['data']\n",
    "    lista_sujetosP.append(mm)\n",
    "    \n",
    "       \n",
    "\n",
    "lista_sujetosS = []\n",
    "matrices = os.listdir('./matricesS/')\n",
    "for mat in matrices:\n",
    "    m = sp.io.loadmat('./matricesS/' + mat)\n",
    "    mm = m['data']\n",
    "    lista_sujetosS.append(mm)\n"
   ]
  },
  {
   "cell_type": "markdown",
   "metadata": {},
   "source": [
    "Realizamos el promedio de las series temporales"
   ]
  },
  {
   "cell_type": "code",
   "execution_count": 4,
   "metadata": {},
   "outputs": [
    {
     "ename": "NameError",
     "evalue": "name 'lista_sujetosS' is not defined",
     "output_type": "error",
     "traceback": [
      "\u001b[0;31m---------------------------------------------------------------------------\u001b[0m",
      "\u001b[0;31mNameError\u001b[0m                                 Traceback (most recent call last)",
      "\u001b[0;32m<ipython-input-4-533b78e85102>\u001b[0m in \u001b[0;36m<module>\u001b[0;34m()\u001b[0m\n\u001b[1;32m      1\u001b[0m \u001b[0;31m#promedio de serie temporal x epoch. (matriz de 1 epoch con la serie promediada.)\u001b[0m\u001b[0;34m\u001b[0m\u001b[0;34m\u001b[0m\u001b[0m\n\u001b[0;32m----> 2\u001b[0;31m \u001b[0mS_elect8\u001b[0m \u001b[0;34m=\u001b[0m \u001b[0mlista_sujetosS\u001b[0m\u001b[0;34m[\u001b[0m\u001b[0;36m0\u001b[0m\u001b[0;34m]\u001b[0m\u001b[0;34m[\u001b[0m\u001b[0;34m:\u001b[0m\u001b[0;34m,\u001b[0m\u001b[0;36m7\u001b[0m\u001b[0;34m,\u001b[0m\u001b[0;34m:\u001b[0m\u001b[0;34m]\u001b[0m\u001b[0;34m\u001b[0m\u001b[0m\n\u001b[0m\u001b[1;32m      3\u001b[0m \u001b[0mS_df8\u001b[0m \u001b[0;34m=\u001b[0m \u001b[0mpd\u001b[0m\u001b[0;34m.\u001b[0m\u001b[0mDataFrame\u001b[0m\u001b[0;34m(\u001b[0m\u001b[0mS_elect8\u001b[0m\u001b[0;34m)\u001b[0m\u001b[0;34m\u001b[0m\u001b[0m\n\u001b[1;32m      4\u001b[0m \u001b[0mS_df8_Media\u001b[0m \u001b[0;34m=\u001b[0m \u001b[0mS_df8\u001b[0m\u001b[0;34m.\u001b[0m\u001b[0mmean\u001b[0m\u001b[0;34m(\u001b[0m\u001b[0maxis\u001b[0m\u001b[0;34m=\u001b[0m\u001b[0;36m0\u001b[0m\u001b[0;34m)\u001b[0m\u001b[0;34m\u001b[0m\u001b[0m\n\u001b[1;32m      5\u001b[0m \u001b[0mplt\u001b[0m\u001b[0;34m.\u001b[0m\u001b[0mplot\u001b[0m\u001b[0;34m(\u001b[0m\u001b[0mnp\u001b[0m\u001b[0;34m.\u001b[0m\u001b[0mlinspace\u001b[0m\u001b[0;34m(\u001b[0m\u001b[0;34m-\u001b[0m\u001b[0;36m200\u001b[0m\u001b[0;34m,\u001b[0m \u001b[0;36m600\u001b[0m\u001b[0;34m,\u001b[0m \u001b[0;36m201\u001b[0m\u001b[0;34m)\u001b[0m\u001b[0;34m,\u001b[0m \u001b[0mS_df8_Media\u001b[0m\u001b[0;34m)\u001b[0m\u001b[0;34m\u001b[0m\u001b[0m\n",
      "\u001b[0;31mNameError\u001b[0m: name 'lista_sujetosS' is not defined"
     ]
    }
   ],
   "source": [
    "#promedio de serie temporal x epoch. (matriz de 1 epoch con la serie promediada.)\n",
    "S_elect8 = lista_sujetosS[0][:,7,:]\n",
    "S_df8 = pd.DataFrame(S_elect8)\n",
    "S_df8_Media = S_df8.mean(axis=0)\n",
    "plt.plot(np.linspace(-200, 600, 201), S_df8_Media)\n",
    "plt.show()\n",
    "\n",
    "\n",
    "\n",
    "P_elect8 = lista_sujetosP[0][:,7,:]\n",
    "P_df8 = pd.DataFrame(P_elect8)\n",
    "P_df8_Media = P_df8.mean(axis=0)\n",
    "plt.plot(np.linspace(-200, 600, 201), P_df8_Media)\n",
    "plt.show()"
   ]
  },
  {
   "cell_type": "code",
   "execution_count": null,
   "metadata": {},
   "outputs": [],
   "source": [
    "\n",
    "#epoch X serie temporal\n",
    "\n",
    "\n",
    "\n",
    "S_elect8 = lista_sujetosS[0][:,7,:]\n",
    "S_df8 = pd.DataFrame(S_elect8)\n",
    "S_df8_Media = S_df8.mean(axis=0)\n",
    "\n",
    "S_elect44 = lista_sujetosS[0][:,43,:]\n",
    "S_df44 = pd.DataFrame(S_elect44)\n",
    "S_df44_Media = S_df44.mean(axis=0)\n",
    "\n",
    "S_elect80 = lista_sujetosS[0][:,79,:]\n",
    "S_df80 = pd.DataFrame(S_elect80)\n",
    "S_df80_Media = S_df80.mean(axis=0)\n",
    "\n",
    "S_elect131 = lista_sujetosS[0][:,130,:]\n",
    "S_df131 = pd.DataFrame(S_elect131)\n",
    "S_df131_Media = S_df131.mean(axis=0)\n",
    "\n",
    "S_elect185 = lista_sujetosS[0][:,184,:]\n",
    "S_df185 = pd.DataFrame(S_elect185)\n",
    "S_df185_Media = S_df185.mean(axis=0)\n",
    "\n",
    "\n",
    "P_elect8 = lista_sujetosP[0][:,7,:]\n",
    "P_df8 = pd.DataFrame(P_elect8)\n",
    "P_df8_Media = P_df8.mean(axis=0)\n",
    "\n",
    "P_elect44 = lista_sujetosP[0][:,43,:]\n",
    "P_df44 = pd.DataFrame(P_elect44)\n",
    "P_df44_Media = P_df44.mean(axis=0)\n",
    "\n",
    "P_elect80 = lista_sujetosP[0][:,79,:]\n",
    "P_df80 = pd.DataFrame(P_elect80)\n",
    "P_df80_Media = P_df80.mean(axis=0)\n",
    "\n",
    "P_elect131 = lista_sujetosP[0][:,130,:]\n",
    "P_df131 = pd.DataFrame(P_elect131)\n",
    "P_df131_Media = P_df131.mean(axis=0)\n",
    "\n",
    "P_elect185 = lista_sujetosP[0][:,184,:]\n",
    "P_df185 = pd.DataFrame(P_elect185)\n",
    "P_df185_Media = P_df185.mean(axis=0)\n",
    "\n",
    "plt.plot(np.linspace(-200, 600, 201), S_df8_Media)\n",
    "plt.plot(np.linspace(-200, 600, 201), S_df44_Media)\n",
    "plt.plot(np.linspace(-200, 600, 201), S_df80_Media)\n",
    "plt.plot(np.linspace(-200, 600, 201), S_df131_Media)\n",
    "plt.plot(np.linspace(-200, 600, 201), S_df185_Media)\n",
    "plt.show()\n",
    "\n",
    "plt.plot(np.linspace(-200, 600, 201), P_df8_Media)\n",
    "plt.plot(np.linspace(-200, 600, 201), P_df44_Media)\n",
    "plt.plot(np.linspace(-200, 600, 201), P_df80_Media)\n",
    "plt.plot(np.linspace(-200, 600, 201), P_df131_Media)\n",
    "plt.plot(np.linspace(-200, 600, 201), P_df185_Media)\n",
    "plt.show()\n",
    "\n"
   ]
  },
  {
   "cell_type": "code",
   "execution_count": null,
   "metadata": {
    "collapsed": true,
    "scrolled": false
   },
   "outputs": [],
   "source": [
    "#heatmap de elect80 fourier\n",
    "# welch8 = sp.signal.welch(elect8, noverlap=100, fs=250)\n",
    "# welch44 = sp.signal.welch(elect44, noverlap=100, fs=250)\n",
    "# welch131 = sp.signal.welch(elect131, noverlap=100, fs=250)\n",
    "# welch185 = sp.signal.welch(elect185, noverlap=100, fs=250)\n",
    "# #welch[0] Me da el rango de frecuencias de elect\n",
    "# print(welch80[0].shape)\n",
    "# #welc[1] Me da una matriz de epoch X las frecuencias\n",
    "# print(welch80[1].shape)\n",
    "# #como queremos que el eje x sea los epochs transponemos welch[1]\n",
    "# sn.heatmap(np.transpose(welch80[1]))\n",
    "# plt.show()\n",
    "\n",
    "#falta arreglar colores y etiquetas y hacer el promedio de todos los heatmaps(5 electrodos)."
   ]
  },
  {
   "cell_type": "markdown",
   "metadata": {},
   "source": [
    "# 2.1) Analisis de frecuencia\n",
    "\n",
    "\n",
    "\n",
    "La frecuencia es una magnitud que mide el número de repeticiones por unidad de tiempo de cualquier fenómeno o suceso periódico. \n",
    "Es decir, podemos medir las ocurrencias de algun fenómeno utilizando el epoch y la serie temporal asociada al mismo. \n",
    "\n",
    "\n",
    "El espectrograma es una representación en tres dimensiones (temporal, frecuencial y amplitud) de la distribución de energía de una señal.\n",
    "Podemos considerarlo como proyección bidimensional de estas tres dimensiones. En este caso representamos en el eje x los epochs (dimensión temporal), en el eje y la frecuencia (dimensión frecuencial) y con una escala de colores representamos la potencia (dimensión de amplitud).\n",
    "\n",
    "Al realizar FFT, podemos extraer esta información de nuestros datos para mostrarla en el espectrograma.\n",
    "\n",
    "En esta ocasión realizaremos el analisis de frecuencia para dos sujetos, uno en estado vegetativo, y el otro en condiciones normales.\n",
    "\n",
    "a.1) Calcular la media entre los electrodos 8, 44, 80, 131 y 185 (el primer electrodo es el 0) y realizar una figura que muestre las frecuencias en el eje Y, los epochs en el eje X, y la potencia usando una escala de color."
   ]
  },
  {
   "cell_type": "code",
   "execution_count": null,
   "metadata": {},
   "outputs": [],
   "source": [
    "welch8 = sp.signal.welch(P_elect8, noverlap=100, fs=250)\n",
    "index8 = (np.abs(welch8[0]-50)).argmin()\n",
    "potencias8 = welch8[1][:, :index8]\n",
    "\n",
    "welch44 = sp.signal.welch(P_elect44, noverlap=100, fs=250)\n",
    "index44 = (np.abs(welch44[0]-50)).argmin()\n",
    "potencias44 = welch44[1][:, :index44]\n",
    "\n",
    "welch80 = sp.signal.welch(P_elect80, noverlap=100, fs=250)\n",
    "index80 = (np.abs(welch80[0]-50)).argmin()\n",
    "potencias80 = welch80[1][:, :index80]\n",
    "\n",
    "welch131 = sp.signal.welch(P_elect131, noverlap=100, fs=250)\n",
    "index131 = (np.abs(welch131[0]-50)).argmin()\n",
    "potencias131 = welch131[1][:, :index131]\n",
    "\n",
    "welch185 = sp.signal.welch(P_elect185, noverlap=100, fs=250)\n",
    "index185 = (np.abs(welch185[0]-50)).argmin()\n",
    "potencias185 = welch185[1][:, :index185]\n",
    "\n",
    "#welch8 = sp.signal.welch(P_elect8, noverlap=100, fs=250)\n",
    "#welch[0] Me da el rango de frecuencias de elect\n",
    "#print(welch8[0].shape)\n",
    "#welc[1] Me da una matriz de epoch X las frecuencias\n",
    "#print(welch8[1].shape)\n",
    "#como queremos que el eje x sea los epochs transponemos welch[1]\n",
    "#sn.heatmap(np.transpose(welch8[1]))\n",
    "\n",
    "#plt.show()\n",
    "\n",
    "#falta arreglar colores y etiquetas."
   ]
  },
  {
   "cell_type": "code",
   "execution_count": null,
   "metadata": {},
   "outputs": [],
   "source": [
    "promedio_potencias= (potencias8 + potencias44 + potencias80 + potencias131 + potencias185 )/5\n",
    "sn.heatmap(np.transpose(promedio_potencias), cmap='viridis', vmax=1e-11)\n",
    "listbla = [50 * x for x in range(0,14)]\n",
    "plt.xticks(listbla)\n",
    "plt.show()\n"
   ]
  },
  {
   "cell_type": "markdown",
   "metadata": {},
   "source": [
    "Otra forma de mostrar este información es a travez de un gráfico de linea.\n",
    "En el mismo se representa cada epoch con una linea, en el eje X representamos la frecuencia  y en el Y el promedio de las potencias para ese epoch"
   ]
  },
  {
   "cell_type": "code",
   "execution_count": null,
   "metadata": {},
   "outputs": [],
   "source": [
    "#promedio de potencias de frecuencias por epoch\n",
    "potencias_media = []\n",
    "for count in range(30):\n",
    "    welch = sp.signal.welch(lista_sujetosP[0][:,count,:], noverlap=100, fs=250)\n",
    "    frecuencias = welch[0][:index]\n",
    "    potencias = welch[1][:, :index]\n",
    "    promedio_potencias = potencias.mean(axis=0)\n",
    "    potencias_media.append(promedio_potencias)\n",
    "    plt.plot(frecuencias, np.transpose(promedio_potencias))\n",
    "plt.show()\n",
    "\n",
    "\n",
    "\n",
    "\n",
    "#hacer este grafico para los otros electrodos y plotear en el mismo grafico + belleza"
   ]
  },
  {
   "cell_type": "code",
   "execution_count": null,
   "metadata": {},
   "outputs": [],
   "source": [
    "#print(potencias_media[1,:])\n",
    "\n",
    "potencias_media = np.array(potencias_media)\n",
    "medias = potencias_media.mean(axis=0)\n",
    "\n",
    "plt.plot(frecuencias, medias)\n",
    "plt.show()   \n",
    "        \n",
    "        \n",
    "    "
   ]
  },
  {
   "cell_type": "markdown",
   "metadata": {},
   "source": [
    "b) Calcular los valores de cada banda de frecuencia, promediados entre los electrodos (todos) y epochs para cada sujeto."
   ]
  },
  {
   "cell_type": "code",
   "execution_count": null,
   "metadata": {},
   "outputs": [],
   "source": [
    "#Para los sujetos enfermos\n",
    "alphasP = []\n",
    "betasP = []\n",
    "thetasP = []\n",
    "deltasP = []\n",
    "\n",
    "i=1\n",
    "for sujeto in lista_sujetosP: \n",
    "    print('sujeto'+str(i))\n",
    "    i+=1\n",
    "    potencias_media = []\n",
    "    for count in range(30):\n",
    "        welch = sp.signal.welch(sujeto[:,count,:], noverlap=100, fs=250)\n",
    "        frecuencias = welch[0][:index]\n",
    "        potencias = welch[1][:, :index]\n",
    "        promedio_potencias = potencias.mean(axis=0)\n",
    "        potencias_media.append(promedio_potencias)\n",
    "        \n",
    "    potencias_media = np.array(potencias_media)\n",
    "    medias = potencias_media.mean(axis=0)\n",
    "        \n",
    "    index_delta = (np.abs(frecuencias-4)).argmin()\n",
    "    delta = medias[:index_delta]\n",
    "    print('delta:')\n",
    "    print(frecuencias[index_delta])\n",
    "    index_theta = (np.abs(frecuencias-8)).argmin()\n",
    "    theta= medias[index_delta+1:index_theta]\n",
    "    print('theta:')\n",
    "    print(frecuencias[index_theta])\n",
    "    index_alpha = (np.abs(frecuencias-13)).argmin()\n",
    "    alpha = medias[index_theta+1:index_alpha]\n",
    "    print('alpha:')\n",
    "    print(frecuencias[index_alpha])\n",
    "\n",
    "    index_beta = (np.abs(frecuencias-30)).argmin()\n",
    "    beta = medias[index_alpha+1:index_beta]\n",
    "    print('beta:')\n",
    "    print(frecuencias[index_beta])\n",
    "    print('')\n",
    "    gama = medias[index_beta+1:]\n",
    "    beta = beta.sum()\n",
    "    gama = gama.sum()\n",
    "    alphasP.append(alpha)\n",
    "    betasP.append(beta)\n",
    "    thetasP.append(theta)\n",
    "    deltasP.append(delta)"
   ]
  },
  {
   "cell_type": "code",
   "execution_count": null,
   "metadata": {},
   "outputs": [],
   "source": [
    "#Para los sujetos sanos\n",
    "alphasS = []\n",
    "betasS = []\n",
    "thetasS = []\n",
    "deltasS = []\n",
    "i=1\n",
    "for sujeto in lista_sujetosS: \n",
    "    print('sujeto'+str(i))\n",
    "    i+=1\n",
    "    potencias_media = []\n",
    "    for count in range(30):\n",
    "        welch = sp.signal.welch(sujeto[:,count,:], noverlap=100, fs=250)\n",
    "        frecuencias = welch[0][:index]\n",
    "        potencias = welch[1][:, :index]\n",
    "        promedio_potencias = potencias.mean(axis=0)\n",
    "        potencias_media.append(promedio_potencias)\n",
    "        \n",
    "    potencias_media = np.array(potencias_media)\n",
    "    medias = potencias_media.mean(axis=0)\n",
    "        \n",
    "    index_delta = (np.abs(frecuencias-4)).argmin()\n",
    "    delta = medias[:index_delta]\n",
    "    print('delta:')\n",
    "    print(frecuencias[index_delta])\n",
    "    index_theta = (np.abs(frecuencias-8)).argmin()\n",
    "    theta= medias[index_delta+1:index_theta]\n",
    "    print('theta:')\n",
    "    print(frecuencias[index_theta])\n",
    "    index_alpha = (np.abs(frecuencias-13)).argmin()\n",
    "    alpha = medias[index_theta+1:index_alpha]\n",
    "    print('alpha:')\n",
    "    print(frecuencias[index_alpha])\n",
    "\n",
    "    index_beta = (np.abs(frecuencias-30)).argmin()\n",
    "    beta = medias[index_alpha+1:index_beta]\n",
    "    print('beta:')\n",
    "    print(frecuencias[index_beta])\n",
    "    print('')\n",
    "    gama = medias[index_beta+1:]\n",
    "    beta = beta.sum()\n",
    "    gama = gama.sum()\n",
    "    alphasS.append(alpha)\n",
    "    betasS.append(beta)\n",
    "    deltasS.append(delta)\n",
    "    thetasS.append(theta)"
   ]
  },
  {
   "cell_type": "markdown",
   "metadata": {
    "collapsed": true
   },
   "source": [
    "# Categorico\n",
    "\n",
    "c) Tomar la potencia de cada sujeto en la banda Alpha y graficar cada uno de los graficos categóricos de seaborn."
   ]
  },
  {
   "cell_type": "code",
   "execution_count": null,
   "metadata": {},
   "outputs": [],
   "source": [
    "i=1\n",
    "for alpha in alphasP:\n",
    "    print('graficos categoricos del sujeto P' + str(i))\n",
    "    i+=1\n",
    "    sn.stripplot(alpha)\n",
    "    plt.show()\n",
    "    sn.swarmplot(y=alpha)\n",
    "    plt.show()\n",
    "    sn.boxplot(y=alpha) \n",
    "    plt.show()\n",
    "    sn.violinplot(y=alpha)\n",
    "    plt.show()\n",
    "    sn.lvplot(y=alpha)\n",
    "    plt.show()\n",
    "    sn.pointplot(y=alpha)\n",
    "    plt.show()\n",
    "    sn.barplot(y=alpha)\n",
    "    plt.show()\n",
    "    sn.countplot(y=alpha)\n",
    "    plt.show()\n",
    "    print('')\n",
    "    "
   ]
  },
  {
   "cell_type": "code",
   "execution_count": null,
   "metadata": {},
   "outputs": [],
   "source": [
    "i=1\n",
    "for alpha in alphasS:\n",
    "    print('graficos categoricos del sujeto S' + str(i))\n",
    "    i+=1\n",
    "    sn.stripplot(alpha)\n",
    "    plt.show()\n",
    "    sn.swarmplot(y=alpha)\n",
    "    plt.show()\n",
    "    sn.boxplot(y=alpha) \n",
    "    plt.show()\n",
    "    sn.violinplot(y=alpha)\n",
    "    plt.show()\n",
    "    sn.lvplot(y=alpha)\n",
    "    plt.show()\n",
    "    sn.pointplot(y=alpha)\n",
    "    plt.show()\n",
    "    sn.barplot(y=alpha)\n",
    "    plt.show()\n",
    "    sn.countplot(y=alpha)\n",
    "    plt.show()\n",
    "    print('')"
   ]
  },
  {
   "cell_type": "markdown",
   "metadata": {
    "collapsed": true
   },
   "source": [
    "¿Cuál recomendaría para graficar y comparar distribuciones?\n",
    "\n",
    "violin plot\n",
    "\n",
    "justificar"
   ]
  },
  {
   "cell_type": "markdown",
   "metadata": {},
   "source": [
    "d) Para cada banda de frecuencia, graficar según lo elegido en el punto c) y realizar un test estadístico apropiado."
   ]
  },
  {
   "cell_type": "code",
   "execution_count": null,
   "metadata": {},
   "outputs": [],
   "source": [
    "print('violin plot para alpha')\n",
    "for alpha in alphasP:\n",
    "    sn.violinplot(y=alpha)\n",
    "    plt.show()\n",
    "    igual_media_1muestra(alpha)\n",
    "\n",
    "print('violin plot para beta')    \n",
    "for beta in betasP:\n",
    "    sn.violinplot(y=beta)\n",
    "    plt.show()\n",
    "    igual_media_1muestra(beta)\n",
    "    \n",
    "print('violin plot para theta')    \n",
    "for theta in thetasP:\n",
    "    sn.violinplot(y=theta)\n",
    "    plt.show()\n",
    "    igual_media_1muestra(theta)\n",
    "\n",
    "print('violin plot para delta')    \n",
    "for delta in deltasP:\n",
    "    sn.violinplot(y=delta)\n",
    "    plt.show()\n",
    "    igual_media_1muestra(delta)"
   ]
  },
  {
   "cell_type": "code",
   "execution_count": null,
   "metadata": {},
   "outputs": [],
   "source": [
    " \n",
    "\n",
    "print('violin plot para alpha')\n",
    "for alpha in alphasS:\n",
    "    sn.violinplot(y=alpha)\n",
    "    plt.show()\n",
    "    igual_media_1muestra(alpha)\n",
    "\n",
    "    \n",
    "print('violin plot para beta')\n",
    "for beta in betasS:\n",
    "    sn.violinplot(y=beta)\n",
    "    plt.show()\n",
    "    igual_media_1muestra(beta)\n",
    "\n",
    "print('violin plot para theta')    \n",
    "for theta in thetasS:\n",
    "    sn.violinplot(y=theta)\n",
    "    plt.show()\n",
    "    igual_media_1muestra(theta)\n",
    "    \n",
    "print('violin plot para delta')    \n",
    "for delta in deltasS:\n",
    "    sn.violinplot(y=delta)\n",
    "    plt.show()\n",
    "    igual_media_1muestra(delta)"
   ]
  },
  {
   "cell_type": "markdown",
   "metadata": {},
   "source": [
    "e) Repetir los puntos b) y d) para los valores normalizados.\n",
    "\n",
    "hacer"
   ]
  },
  {
   "cell_type": "markdown",
   "metadata": {},
   "source": [
    "Ejer 2.2\n",
    "\n",
    "\n",
    "funciones auxiliares para medida de informacion inter-electrodo."
   ]
  },
  {
   "cell_type": "code",
   "execution_count": null,
   "metadata": {
    "collapsed": true
   },
   "outputs": [],
   "source": [
    "def eleccion_n(x):\n",
    "    res = (x.max()-x.min())/3.5*x.std()*len(x)**(-1/3)\n",
    "    return int(res)\n",
    "\n",
    "def discretizacion(x):\n",
    "    n_bin= eleccion_n(x)\n",
    "    \n",
    "    #creo q bx es la segmentacion de los bins\n",
    "   # print(len(x)/n_bin)\n",
    "    \n",
    "    hx, bx= np.histogram(x, bins= n_bin+1, density=True)\n",
    "    return bx\n",
    "    \n",
    "def compute_distribution(v):\n",
    "    \"\"\"\n",
    "    v: vector de valores enteros\n",
    "    devuelve un diccionario con la probabilidad de cada valor\n",
    "    computado como la frecuencia de ocurrencia\n",
    "    \"\"\"\n",
    "    d= defaultdict(int)\n",
    "    for e in v: d[e]+=1\n",
    "    s= float(sum(d.values()))\n",
    "    return dict((k, v/s) for k, v in d.items())    \n",
    "   \n",
    "#digitize tengo los bins y los valores, digitize asocia los indices de en q bin cae cada valor con el valor\n",
    "    \n",
    "def entropia_condicional(x,y):\n",
    "    bx = discretizaion(x)\n",
    "    Py= compute_distribution(y)\n",
    "    Px= compute_distribution(sp.digitize(x,bx))    \n",
    "    res=0\n",
    "    for j in y:\n",
    "        x1=x[y==j]\n",
    "        condPxy = compute_distribution(sp.digitize(x1,bx))\n",
    "        \n",
    "        for k, v in condPxy.iteritems():\n",
    "            res+= (v*Py[ey]*(log2(Px[k]) - log2(v*Py[ey])))\n",
    "    return res\n",
    "\n",
    "\n",
    "\n",
    "def mutual_information(x,y):\n",
    "    sp.stats.entropy(y)-entropia_condicional(x,y)"
   ]
  },
  {
   "cell_type": "markdown",
   "metadata": {},
   "source": [
    "2.2 \n",
    "a) Computar una medida de información intra-electrodo. "
   ]
  },
  {
   "cell_type": "code",
   "execution_count": null,
   "metadata": {
    "collapsed": true
   },
   "outputs": [],
   "source": [
    "#entropia (intra-elect) para el electrodo 8(de un P) \n",
    "\n",
    "intra_elect8P = discretizacion(P_df8_Media)\n",
    "distrib = []\n",
    "aux = (compute_distribution(intra_elect8P)).items()\n",
    "for i in aux:\n",
    "    distrib.append(i[1])\n",
    "sp.stats.entropy(distrib)\n"
   ]
  },
  {
   "cell_type": "markdown",
   "metadata": {
    "collapsed": true
   },
   "source": [
    "2.2 \n",
    "a)Calcular la media entre canales y epochs para cada sujeto. Realizar el gráfico elegido en el punto c) de la sección anterior, acompañado del test estadístico apropiado."
   ]
  },
  {
   "cell_type": "code",
   "execution_count": null,
   "metadata": {
    "collapsed": true
   },
   "outputs": [],
   "source": [
    "for sujeto in lista_sujetosP:\n",
    "    media = promediar_epoch(sujeto)\n",
    "    plt.plot(np.linspace(-200, 600, 201), media)\n",
    "plt.show()"
   ]
  },
  {
   "cell_type": "code",
   "execution_count": null,
   "metadata": {
    "collapsed": true
   },
   "outputs": [],
   "source": [
    "for sujeto in lista_sujetosS:\n",
    "    media = promediar_epoch(sujeto)\n",
    "    plt.plot(np.linspace(-200, 600, 201), media)\n",
    "plt.show()"
   ]
  },
  {
   "cell_type": "code",
   "execution_count": null,
   "metadata": {
    "collapsed": true
   },
   "outputs": [],
   "source": []
  }
 ],
 "metadata": {
  "kernelspec": {
   "display_name": "Python 3",
   "language": "python",
   "name": "python3"
  },
  "language_info": {
   "codemirror_mode": {
    "name": "ipython",
    "version": 3
   },
   "file_extension": ".py",
   "mimetype": "text/x-python",
   "name": "python",
   "nbconvert_exporter": "python",
   "pygments_lexer": "ipython3",
   "version": "3.6.1"
  }
 },
 "nbformat": 4,
 "nbformat_minor": 2
}
